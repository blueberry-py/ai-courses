{
 "cells": [
  {
   "cell_type": "markdown",
   "id": "d91d6e09",
   "metadata": {},
   "source": [
    "## Lesson 2: Building a Workflow\n",
    "\n",
    "Lesson objective: Use event-based Workflows to define the flow of information around a system\n",
    "\n",
    "In this lab, you'll learn about Workflow concepts.\n"
   ]
  },
  {
   "cell_type": "code",
   "execution_count": 1,
   "id": "65806f14",
   "metadata": {},
   "outputs": [],
   "source": [
    "import asyncio\n",
    "import os\n",
    "import random\n",
    "\n",
    "from dotenv import load_dotenv"
   ]
  },
  {
   "cell_type": "code",
   "execution_count": 2,
   "id": "993420f1",
   "metadata": {},
   "outputs": [],
   "source": [
    "load_dotenv()\n",
    "\n",
    "api_key = os.environ[\"OPENAI_API_KEY\"]"
   ]
  },
  {
   "cell_type": "markdown",
   "id": "625fbbc6",
   "metadata": {},
   "source": [
    "### Creating a Workflow\n"
   ]
  },
  {
   "cell_type": "code",
   "execution_count": 3,
   "id": "64df6227",
   "metadata": {},
   "outputs": [],
   "source": [
    "from llama_index.core.workflow import Context, StartEvent, StopEvent, Workflow, step"
   ]
  },
  {
   "cell_type": "code",
   "execution_count": 4,
   "id": "5845dce0",
   "metadata": {},
   "outputs": [],
   "source": [
    "class MyWorkflow(Workflow):\n",
    "    # declare a function as a step\n",
    "    @step\n",
    "    async def my_step(self, ev: StartEvent) -> StopEvent:\n",
    "        # do something here\n",
    "        await asyncio.sleep(0.3)\n",
    "        print(\"aloha!\")\n",
    "\n",
    "        return StopEvent(result=\"Hello, world!\")"
   ]
  },
  {
   "cell_type": "code",
   "execution_count": 5,
   "id": "9b60c687",
   "metadata": {},
   "outputs": [
    {
     "name": "stdout",
     "output_type": "stream",
     "text": [
      "aloha!\n",
      "Hello, world!\n"
     ]
    }
   ],
   "source": [
    "# instantiate the workflow\n",
    "basic_workflow = MyWorkflow(timeout=10, verbose=False)\n",
    "\n",
    "# run the workflow\n",
    "result = await basic_workflow.run()\n",
    "\n",
    "print(result)"
   ]
  },
  {
   "cell_type": "markdown",
   "id": "b6e99d24",
   "metadata": {},
   "source": [
    "### Visualizing a workflow\n"
   ]
  },
  {
   "cell_type": "code",
   "execution_count": 6,
   "id": "6d5506c4",
   "metadata": {},
   "outputs": [],
   "source": [
    "from llama_index.utils.workflow import draw_all_possible_flows"
   ]
  },
  {
   "cell_type": "code",
   "execution_count": 7,
   "id": "a224c763",
   "metadata": {},
   "outputs": [
    {
     "name": "stdout",
     "output_type": "stream",
     "text": [
      "./workflows/basic_workflow.html\n"
     ]
    }
   ],
   "source": [
    "draw_all_possible_flows(basic_workflow, filename=\"./workflows/basic_workflow.html\")"
   ]
  },
  {
   "cell_type": "markdown",
   "id": "349d1d15",
   "metadata": {},
   "source": [
    "### Creating Custom Events\n"
   ]
  },
  {
   "cell_type": "code",
   "execution_count": 8,
   "id": "10573e66",
   "metadata": {},
   "outputs": [],
   "source": [
    "from llama_index.core.workflow import Event"
   ]
  },
  {
   "cell_type": "code",
   "execution_count": 9,
   "id": "84850fdf",
   "metadata": {},
   "outputs": [],
   "source": [
    "class FirstEvent(Event):\n",
    "    first_output: str\n",
    "\n",
    "\n",
    "class SecondEvent(Event):\n",
    "    second_output: str"
   ]
  },
  {
   "cell_type": "code",
   "execution_count": 10,
   "id": "98f45770",
   "metadata": {},
   "outputs": [],
   "source": [
    "# `step_one` takes a `StartEvent` and returns a `FirstEvent`\n",
    "# `step_two` takes a `FirstEvent` and returns a `SecondEvent`\n",
    "# `step_three` takes a `SecondEvent` and returns a `StopEvent`\n",
    "\n",
    "\n",
    "class MyWorkflow(Workflow):\n",
    "    @step\n",
    "    async def step_one(self, ev: StartEvent) -> FirstEvent:\n",
    "        print(ev.first_input)\n",
    "        return FirstEvent(first_output=\"First step complete.\")\n",
    "\n",
    "    @step\n",
    "    async def step_two(self, ev: FirstEvent) -> SecondEvent:\n",
    "        print(ev.first_output)\n",
    "        return SecondEvent(second_output=\"Second step complete.\")\n",
    "\n",
    "    @step\n",
    "    async def step_three(self, ev: SecondEvent) -> StopEvent:\n",
    "        print(ev.second_output)\n",
    "        return StopEvent(result=\"Workflow complete.\")"
   ]
  },
  {
   "cell_type": "code",
   "execution_count": 11,
   "id": "95ea8282",
   "metadata": {},
   "outputs": [
    {
     "name": "stdout",
     "output_type": "stream",
     "text": [
      "Start the workflow.\n",
      "First step complete.\n",
      "Second step complete.\n",
      "Workflow complete.\n"
     ]
    }
   ],
   "source": [
    "workflow = MyWorkflow(timeout=10, verbose=False)\n",
    "\n",
    "result = await workflow.run(first_input=\"Start the workflow.\")\n",
    "\n",
    "print(result)"
   ]
  },
  {
   "cell_type": "code",
   "execution_count": 12,
   "id": "c8118c52",
   "metadata": {},
   "outputs": [
    {
     "name": "stdout",
     "output_type": "stream",
     "text": [
      "workflows/custom_events.html\n"
     ]
    }
   ],
   "source": [
    "WORKFLOW_FILE = \"workflows/custom_events.html\"\n",
    "\n",
    "draw_all_possible_flows(workflow, filename=WORKFLOW_FILE)"
   ]
  },
  {
   "cell_type": "markdown",
   "id": "c72583a8",
   "metadata": {},
   "source": [
    "### Creating Loops\n"
   ]
  },
  {
   "cell_type": "code",
   "execution_count": 13,
   "id": "eada379f",
   "metadata": {},
   "outputs": [],
   "source": [
    "class LoopEvent(Event):\n",
    "    loop_output: str"
   ]
  },
  {
   "cell_type": "code",
   "execution_count": 14,
   "id": "a2fc55f8",
   "metadata": {},
   "outputs": [],
   "source": [
    "class MyWorkflow(Workflow):\n",
    "    @step\n",
    "    async def step_one(self, ev: StartEvent | LoopEvent) -> FirstEvent | LoopEvent:\n",
    "        if random.randint(0, 1) == 0:\n",
    "            print(\"Bad thing happened\")\n",
    "            return LoopEvent(loop_output=\"Back to step one.\")\n",
    "        else:\n",
    "            print(\"Good thing happened\")\n",
    "            return FirstEvent(first_output=\"First step complete.\")\n",
    "\n",
    "    @step\n",
    "    async def step_two(self, ev: FirstEvent) -> SecondEvent:\n",
    "        print(ev.first_output)\n",
    "        return SecondEvent(second_output=\"Second step complete.\")\n",
    "\n",
    "    @step\n",
    "    async def step_three(self, ev: SecondEvent) -> StopEvent:\n",
    "        print(ev.second_output)\n",
    "        return StopEvent(result=\"Workflow complete.\")"
   ]
  },
  {
   "cell_type": "code",
   "execution_count": 15,
   "id": "bde725e0",
   "metadata": {},
   "outputs": [
    {
     "name": "stdout",
     "output_type": "stream",
     "text": [
      "Bad thing happened\n",
      "Bad thing happened\n",
      "Good thing happened\n",
      "First step complete.\n",
      "Second step complete.\n",
      "Workflow complete.\n"
     ]
    }
   ],
   "source": [
    "loop_workflow = MyWorkflow(timeout=10, verbose=False)\n",
    "\n",
    "result = await loop_workflow.run(first_input=\"Start the workflow.\")\n",
    "\n",
    "print(result)"
   ]
  },
  {
   "cell_type": "code",
   "execution_count": 16,
   "id": "f51695bf",
   "metadata": {},
   "outputs": [
    {
     "name": "stdout",
     "output_type": "stream",
     "text": [
      "workflows/loop_events.html\n"
     ]
    }
   ],
   "source": [
    "WORKFLOW_FILE = \"workflows/loop_events.html\"\n",
    "\n",
    "draw_all_possible_flows(loop_workflow, filename=WORKFLOW_FILE)"
   ]
  },
  {
   "cell_type": "markdown",
   "id": "031fd86f",
   "metadata": {},
   "source": [
    "### Branching\n"
   ]
  },
  {
   "cell_type": "code",
   "execution_count": 17,
   "id": "841a8d20",
   "metadata": {},
   "outputs": [],
   "source": [
    "class BranchA1Event(Event):\n",
    "    payload: str\n",
    "\n",
    "\n",
    "class BranchA2Event(Event):\n",
    "    payload: str\n",
    "\n",
    "\n",
    "class BranchB1Event(Event):\n",
    "    payload: str\n",
    "\n",
    "\n",
    "class BranchB2Event(Event):\n",
    "    payload: str"
   ]
  },
  {
   "cell_type": "code",
   "execution_count": 18,
   "id": "866958d9",
   "metadata": {},
   "outputs": [],
   "source": [
    "class BranchWorkflow(Workflow):\n",
    "    @step\n",
    "    async def start(self, ev: StartEvent) -> BranchA1Event | BranchB1Event:\n",
    "        if random.randint(0, 1) == 0:\n",
    "            print(\"Go to branch A\")\n",
    "            return BranchA1Event(payload=\"Branch A\")\n",
    "        else:\n",
    "            print(\"Go to branch B\")\n",
    "            return BranchB1Event(payload=\"Branch B\")\n",
    "\n",
    "    @step\n",
    "    async def step_a1(self, ev: BranchA1Event) -> BranchA2Event:\n",
    "        print(ev.payload)\n",
    "        return BranchA2Event(payload=ev.payload)\n",
    "\n",
    "    @step\n",
    "    async def step_b1(self, ev: BranchB1Event) -> BranchB2Event:\n",
    "        print(ev.payload)\n",
    "        return BranchB2Event(payload=ev.payload)\n",
    "\n",
    "    @step\n",
    "    async def step_a2(self, ev: BranchA2Event) -> StopEvent:\n",
    "        print(ev.payload)\n",
    "        return StopEvent(result=\"Branch A complete.\")\n",
    "\n",
    "    @step\n",
    "    async def step_b2(self, ev: BranchB2Event) -> StopEvent:\n",
    "        print(ev.payload)\n",
    "        return StopEvent(result=\"Branch B complete.\")"
   ]
  },
  {
   "cell_type": "code",
   "execution_count": 19,
   "id": "b54fdb29",
   "metadata": {},
   "outputs": [
    {
     "name": "stdout",
     "output_type": "stream",
     "text": [
      "workflows/branching.html\n"
     ]
    }
   ],
   "source": [
    "WORKFLOW_FILE = \"workflows/branching.html\"\n",
    "\n",
    "draw_all_possible_flows(BranchWorkflow, filename=WORKFLOW_FILE)"
   ]
  },
  {
   "cell_type": "markdown",
   "id": "5b4d967d",
   "metadata": {},
   "source": [
    "### Concurent Execution\n"
   ]
  },
  {
   "cell_type": "code",
   "execution_count": 20,
   "id": "8c42e656",
   "metadata": {},
   "outputs": [],
   "source": [
    "class StepTwoEvent(Event):\n",
    "    query: str\n",
    "\n",
    "\n",
    "class ParallelFlow(Workflow):\n",
    "    @step\n",
    "    async def start(self, ctx: Context, ev: StartEvent) -> StepTwoEvent:\n",
    "        ctx.send_event(StepTwoEvent(query=\"Query 1\"))\n",
    "        ctx.send_event(StepTwoEvent(query=\"Query 2\"))\n",
    "        ctx.send_event(StepTwoEvent(query=\"Query 3\"))\n",
    "\n",
    "    @step(num_workers=4)\n",
    "    async def step_two(self, ctx: Context, ev: StepTwoEvent) -> StopEvent:\n",
    "        print(\"Running slow query \", ev.query)\n",
    "        await asyncio.sleep(random.randint(1, 5))\n",
    "        print(ev.query, \"completed\")\n",
    "\n",
    "        return StopEvent(result=ev.query)"
   ]
  },
  {
   "cell_type": "code",
   "execution_count": 21,
   "id": "1ec6af79",
   "metadata": {},
   "outputs": [
    {
     "name": "stdout",
     "output_type": "stream",
     "text": [
      "Running slow query  Query 1\n",
      "Running slow query  Query 2\n",
      "Running slow query  Query 3\n",
      "Query 3 completed\n",
      "Query 3\n"
     ]
    }
   ],
   "source": [
    "parallel_workflow = ParallelFlow(timeout=10, verbose=False)\n",
    "\n",
    "result = await parallel_workflow.run()\n",
    "\n",
    "print(result)"
   ]
  },
  {
   "cell_type": "markdown",
   "id": "ab720e62",
   "metadata": {},
   "source": [
    "#### Collecting events\n"
   ]
  },
  {
   "cell_type": "code",
   "execution_count": 22,
   "id": "5cffb20b",
   "metadata": {},
   "outputs": [],
   "source": [
    "class StepThreeEvent(Event):\n",
    "    result: str\n",
    "\n",
    "\n",
    "class ConcurrentFlow(Workflow):\n",
    "    @step\n",
    "    async def start(self, ctx: Context, ev: StartEvent) -> StepTwoEvent:\n",
    "        ctx.send_event(StepTwoEvent(query=\"Query 1\"))\n",
    "        ctx.send_event(StepTwoEvent(query=\"Query 2\"))\n",
    "        ctx.send_event(StepTwoEvent(query=\"Query 3\"))\n",
    "\n",
    "    @step(num_workers=4)\n",
    "    async def step_two(self, ctx: Context, ev: StepTwoEvent) -> StepThreeEvent:\n",
    "        print(\"Running query \", ev.query)\n",
    "        await asyncio.sleep(random.randint(1, 5))\n",
    "        return StepThreeEvent(result=ev.query)\n",
    "\n",
    "    @step\n",
    "    async def step_three(self, ctx: Context, ev: StepThreeEvent) -> StopEvent | None:\n",
    "        # wait until we receive 3 events\n",
    "        result = ctx.collect_events(ev, [ev.__class__] * 3)\n",
    "\n",
    "        if result is None:\n",
    "            print(\"Not all events received yet.\")\n",
    "            return None\n",
    "\n",
    "        # do something with all 3 results together\n",
    "        print(result)\n",
    "        return StopEvent(result=\"Done\")"
   ]
  },
  {
   "cell_type": "code",
   "execution_count": 23,
   "id": "cdca726c",
   "metadata": {},
   "outputs": [
    {
     "name": "stdout",
     "output_type": "stream",
     "text": [
      "Running query  Query 1\n",
      "Running query  Query 2\n",
      "Running query  Query 3\n",
      "Not all events received yet.\n",
      "Not all events received yet.\n",
      "[StepThreeEvent(result='Query 2'), StepThreeEvent(result='Query 3'), StepThreeEvent(result='Query 1')]\n",
      "Done\n"
     ]
    }
   ],
   "source": [
    "w = ConcurrentFlow(timeout=10, verbose=False)\n",
    "\n",
    "result = await w.run(message=\"Start the workflow.\")\n",
    "\n",
    "print(result)"
   ]
  },
  {
   "cell_type": "markdown",
   "id": "ba1e2c1e",
   "metadata": {},
   "source": [
    "_Note:_ This flow control lets you perform map-reduce style tasks.\n",
    "To implement a map-reduce pattern, you would split your task up into as many steps as necessary,\n",
    "and use `Context` to store that number with `ctx.set(\"num_events\", some_number)`.\n",
    "Then in `step_three` you would wait for the number stored in the context using `await ctx.get(\"num_events\")`.\n",
    "So you don't need to know in advance exactly how many concurrent steps you're taking. You'll do exactly this in a later lesson.\n"
   ]
  },
  {
   "cell_type": "markdown",
   "id": "f5d503a4",
   "metadata": {},
   "source": [
    "#### Collecting different event types\n"
   ]
  },
  {
   "cell_type": "code",
   "execution_count": 24,
   "id": "89c5ddde",
   "metadata": {},
   "outputs": [],
   "source": [
    "class StepAEvent(Event):\n",
    "    query: str\n",
    "\n",
    "\n",
    "class StepACompleteEvent(Event):\n",
    "    result: str\n",
    "\n",
    "\n",
    "class StepBEvent(Event):\n",
    "    query: str\n",
    "\n",
    "\n",
    "class StepBCompleteEvent(Event):\n",
    "    result: str\n",
    "\n",
    "\n",
    "class StepCEvent(Event):\n",
    "    query: str\n",
    "\n",
    "\n",
    "class StepCCompleteEvent(Event):\n",
    "    result: str"
   ]
  },
  {
   "cell_type": "code",
   "execution_count": 25,
   "id": "4ef6e808",
   "metadata": {},
   "outputs": [],
   "source": [
    "class ConcurrentFlow(Workflow):\n",
    "    @step\n",
    "    async def start(\n",
    "        self, ctx: Context, ev: StartEvent\n",
    "    ) -> StepAEvent | StepBEvent | StepCEvent:\n",
    "        ctx.send_event(StepAEvent(query=\"Query 1\"))\n",
    "        ctx.send_event(StepBEvent(query=\"Query 2\"))\n",
    "        ctx.send_event(StepCEvent(query=\"Query 3\"))\n",
    "\n",
    "    @step\n",
    "    async def step_a(self, ctx: Context, ev: StepAEvent) -> StepACompleteEvent:\n",
    "        print(\"Doing something A-ish\")\n",
    "        return StepACompleteEvent(result=ev.query)\n",
    "\n",
    "    @step\n",
    "    async def step_b(self, ctx: Context, ev: StepBEvent) -> StepBCompleteEvent:\n",
    "        print(\"Doing something B-ish\")\n",
    "        return StepBCompleteEvent(result=ev.query)\n",
    "\n",
    "    @step\n",
    "    async def step_c(self, ctx: Context, ev: StepCEvent) -> StepCCompleteEvent:\n",
    "        print(\"Doing something C-ish\")\n",
    "        return StepCCompleteEvent(result=ev.query)\n",
    "\n",
    "    @step\n",
    "    async def step_three(\n",
    "        self,\n",
    "        ctx: Context,\n",
    "        ev: StepACompleteEvent | StepBCompleteEvent | StepCCompleteEvent,\n",
    "    ) -> StopEvent | None:\n",
    "        print(\"Received event \", ev.result)\n",
    "\n",
    "        # wait until we receive 3 events\n",
    "        events = ctx.collect_events(\n",
    "            ev,\n",
    "            [StepCCompleteEvent, StepACompleteEvent, StepBCompleteEvent],\n",
    "        )\n",
    "\n",
    "        if events is None:\n",
    "            print(\"Not all events received yet.\")\n",
    "            return None\n",
    "\n",
    "        # do something with all 3 results together\n",
    "        print(\"All events received: \", events)\n",
    "\n",
    "        return StopEvent(result=\"Done\")"
   ]
  },
  {
   "cell_type": "code",
   "execution_count": 26,
   "id": "6afb2d6c",
   "metadata": {},
   "outputs": [
    {
     "name": "stdout",
     "output_type": "stream",
     "text": [
      "Doing something A-ish\n",
      "Doing something B-ish\n",
      "Doing something C-ish\n",
      "Received event  Query 1\n",
      "Not all events received yet.\n",
      "Received event  Query 2\n",
      "Not all events received yet.\n",
      "Received event  Query 3\n",
      "All events received:  [StepCCompleteEvent(result='Query 3'), StepACompleteEvent(result='Query 1'), StepBCompleteEvent(result='Query 2')]\n",
      "Done\n"
     ]
    }
   ],
   "source": [
    "w = ConcurrentFlow(timeout=10, verbose=False)\n",
    "\n",
    "result = await w.run(message=\"Start the workflow.\")\n",
    "\n",
    "print(result)"
   ]
  },
  {
   "cell_type": "code",
   "execution_count": 27,
   "id": "8f3c50c1",
   "metadata": {},
   "outputs": [
    {
     "name": "stdout",
     "output_type": "stream",
     "text": [
      "workflows/concurrent_different_events.html\n"
     ]
    }
   ],
   "source": [
    "WORKFLOW_FILE = \"workflows/concurrent_different_events.html\"\n",
    "\n",
    "draw_all_possible_flows(w, filename=WORKFLOW_FILE)"
   ]
  },
  {
   "cell_type": "markdown",
   "id": "02946c31",
   "metadata": {},
   "source": [
    "### Streaming\n",
    "\n",
    "In practical use, agents can take a long time to run. It's a poor user-experience to have the user execute a workflow and then wait a long time to see if it works or not; it's better to give them some indication that things are happening in real-time, even if the process is not complete.\n",
    "\n",
    "To do this, Workflows allow streaming events back to the user. Here you'll use Context.write_event_to_stream to emit these events.\n"
   ]
  },
  {
   "cell_type": "code",
   "execution_count": 28,
   "id": "d58217ba",
   "metadata": {},
   "outputs": [],
   "source": [
    "from llama_index.llms.openai import OpenAI"
   ]
  },
  {
   "cell_type": "code",
   "execution_count": 29,
   "id": "f04606d5",
   "metadata": {},
   "outputs": [],
   "source": [
    "class FirstEvent(Event):\n",
    "    first_output: str\n",
    "\n",
    "\n",
    "class SecondEvent(Event):\n",
    "    second_output: str\n",
    "    response: str\n",
    "\n",
    "\n",
    "class TextEvent(Event):\n",
    "    delta: str\n",
    "\n",
    "\n",
    "class ProgressEvent(Event):\n",
    "    msg: str"
   ]
  },
  {
   "cell_type": "markdown",
   "id": "c573943b",
   "metadata": {},
   "source": [
    "The specific event we'll be sending back is the \"delta\" responses from the LLM. When you ask an LLM to generate a streaming response as you're doing here, it sends back each chunk of its response as it becomes available. This is available as the \"delta\". You're going to wrap the delta in a TextEvent and send it back to the Workflow's own stream.\n"
   ]
  },
  {
   "cell_type": "code",
   "execution_count": 30,
   "id": "fffce6bc",
   "metadata": {},
   "outputs": [],
   "source": [
    "llm = OpenAI(\n",
    "    model=\"gpt-4.1-mini\",\n",
    "    api_key=api_key,\n",
    "    api_base=\"https://models.inference.ai.azure.com/\",\n",
    "    temperature=0.5,\n",
    ")"
   ]
  },
  {
   "cell_type": "code",
   "execution_count": 31,
   "id": "35eb7656",
   "metadata": {},
   "outputs": [],
   "source": [
    "class MyWorkflow(Workflow):\n",
    "    @step\n",
    "    async def step_one(self, ctx: Context, ev: StartEvent) -> FirstEvent:\n",
    "        ctx.write_event_to_stream(ProgressEvent(msg=\"Step one is happening\\n\"))\n",
    "        return FirstEvent(first_output=\"First step complete.\")\n",
    "\n",
    "    @step\n",
    "    async def step_two(self, ctx: Context, ev: FirstEvent) -> SecondEvent:\n",
    "        generator = await llm.astream_complete(\n",
    "            \"Please give me the first 50 words of Moby Dick, a book in the public domain.\"\n",
    "        )\n",
    "\n",
    "        async for response in generator:\n",
    "            # Allow the workflow to stream this piece of response\n",
    "            ctx.write_event_to_stream(TextEvent(delta=response.delta))\n",
    "\n",
    "        return SecondEvent(\n",
    "            second_output=\"Second step complete, full response attached\",\n",
    "            response=str(response),\n",
    "        )\n",
    "\n",
    "    @step\n",
    "    async def step_three(self, ctx: Context, ev: SecondEvent) -> StopEvent:\n",
    "        ctx.write_event_to_stream(ProgressEvent(msg=\"\\nStep three is happening\"))\n",
    "        return StopEvent(result=\"Workflow complete.\")"
   ]
  },
  {
   "cell_type": "code",
   "execution_count": 32,
   "id": "a50de573",
   "metadata": {},
   "outputs": [
    {
     "name": "stdout",
     "output_type": "stream",
     "text": [
      "Step one is happening\n",
      "\n",
      "Certainly! Here are the first 50 words of *Moby-Dick* by Herman Melville:\n",
      "\n",
      "\"Call me Ishmael. Some years ago—never mind how long precisely—having little or no money in my purse, and nothing particular to interest me on shore, I thought I would sail about a little and see the watery part of the world. It is a way I have of...\"\n",
      "Step three is happening\n",
      "\n",
      "Final result =  Workflow complete.\n"
     ]
    }
   ],
   "source": [
    "workflow = MyWorkflow(timeout=30, verbose=False)\n",
    "handler = workflow.run(first_input=\"Start the workflow.\")\n",
    "\n",
    "async for ev in handler.stream_events():\n",
    "    if isinstance(ev, ProgressEvent):\n",
    "        print(ev.msg, flush=True)\n",
    "    elif isinstance(ev, TextEvent):\n",
    "        print(ev.delta, end=\"\", flush=True)\n",
    "\n",
    "final_result = await handler\n",
    "\n",
    "print(\"\\nFinal result = \", final_result)"
   ]
  },
  {
   "cell_type": "markdown",
   "id": "0bd4f762",
   "metadata": {},
   "source": [
    "[Guide to LlamaIndex's Workflows](https://docs.llamaindex.ai/en/stable/module_guides/workflow/)\n"
   ]
  },
  {
   "cell_type": "code",
   "execution_count": null,
   "id": "f1e0199c",
   "metadata": {},
   "outputs": [],
   "source": []
  }
 ],
 "metadata": {
  "kernelspec": {
   "display_name": ".venv (3.12.3)",
   "language": "python",
   "name": "python3"
  },
  "language_info": {
   "codemirror_mode": {
    "name": "ipython",
    "version": 3
   },
   "file_extension": ".py",
   "mimetype": "text/x-python",
   "name": "python",
   "nbconvert_exporter": "python",
   "pygments_lexer": "ipython3",
   "version": "3.12.3"
  }
 },
 "nbformat": 4,
 "nbformat_minor": 5
}
