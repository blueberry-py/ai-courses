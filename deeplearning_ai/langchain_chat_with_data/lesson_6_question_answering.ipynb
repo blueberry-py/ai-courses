{
 "cells": [
  {
   "cell_type": "markdown",
   "metadata": {},
   "source": [
    "### Lesson 6: Question Answering\n"
   ]
  },
  {
   "cell_type": "code",
   "execution_count": 1,
   "metadata": {},
   "outputs": [
    {
     "data": {
      "text/plain": [
       "True"
      ]
     },
     "execution_count": 1,
     "metadata": {},
     "output_type": "execute_result"
    }
   ],
   "source": [
    "from dotenv import load_dotenv\n",
    "\n",
    "load_dotenv()"
   ]
  },
  {
   "cell_type": "code",
   "execution_count": 2,
   "metadata": {},
   "outputs": [],
   "source": [
    "from langchain.chains import RetrievalQA\n",
    "from langchain.prompts import PromptTemplate\n",
    "from langchain_community.chat_models.cohere import ChatCohere\n",
    "from langchain_community.embeddings.cohere import CohereEmbeddings\n",
    "from langchain_community.vectorstores.chroma import Chroma"
   ]
  },
  {
   "cell_type": "code",
   "execution_count": 3,
   "metadata": {},
   "outputs": [],
   "source": [
    "persist_directory = \"./.chroma/\""
   ]
  },
  {
   "cell_type": "code",
   "execution_count": 4,
   "metadata": {},
   "outputs": [],
   "source": [
    "embedding = CohereEmbeddings()"
   ]
  },
  {
   "cell_type": "code",
   "execution_count": 5,
   "metadata": {},
   "outputs": [],
   "source": [
    "vectordb = Chroma(\n",
    "    persist_directory=persist_directory,\n",
    "    embedding_function=embedding,\n",
    ")"
   ]
  },
  {
   "cell_type": "code",
   "execution_count": 6,
   "metadata": {},
   "outputs": [
    {
     "data": {
      "text/plain": [
       "208"
      ]
     },
     "execution_count": 6,
     "metadata": {},
     "output_type": "execute_result"
    }
   ],
   "source": [
    "vectordb._collection.count()"
   ]
  },
  {
   "cell_type": "code",
   "execution_count": 7,
   "metadata": {},
   "outputs": [
    {
     "data": {
      "text/plain": [
       "3"
      ]
     },
     "execution_count": 7,
     "metadata": {},
     "output_type": "execute_result"
    }
   ],
   "source": [
    "question = \"What are major topics of the lectures given?\"\n",
    "\n",
    "docs = vectordb.max_marginal_relevance_search(query=question, k=3)\n",
    "\n",
    "len(docs)"
   ]
  },
  {
   "cell_type": "markdown",
   "metadata": {},
   "source": [
    "#### RetrievalQA Chain\n"
   ]
  },
  {
   "cell_type": "code",
   "execution_count": 8,
   "metadata": {},
   "outputs": [],
   "source": [
    "qa_chain = RetrievalQA.from_chain_type(\n",
    "    llm=ChatCohere(temperature=0.05),\n",
    "    retriever=vectordb.as_retriever(),\n",
    ")"
   ]
  },
  {
   "cell_type": "code",
   "execution_count": 9,
   "metadata": {},
   "outputs": [],
   "source": [
    "result = qa_chain({\"query\": question})"
   ]
  },
  {
   "cell_type": "code",
   "execution_count": 10,
   "metadata": {},
   "outputs": [
    {
     "name": "stdout",
     "output_type": "stream",
     "text": [
      "I'm happy to help you identify the major topics of lectures given, but could you provide some more details about the lectures? For example, if you provide the names or titles of the lectures, it would help me provide more specific and relevant information. \n",
      "\n",
      "Furthermore, if you could tell me more about the context of the lectures, such as the subject area or the course they are given in, I might be able to provide more tailored suggestions. \n",
      "\n",
      "For instance, if you provide details like \"a series of lectures on the French Revolution given in a History course\" or \"a lecture on database management given in a Computer Science course\", I would be able to generate more specific answers. \n",
      "\n",
      "With this additional information, I would be able to provide a more comprehensive list of major topics covered in the lectures. \n",
      "\n",
      "Please provide more details about the lectures you're interested in.\n"
     ]
    }
   ],
   "source": [
    "print(result[\"result\"])"
   ]
  },
  {
   "cell_type": "markdown",
   "metadata": {},
   "source": [
    "#### Prompt\n"
   ]
  },
  {
   "cell_type": "code",
   "execution_count": 11,
   "metadata": {},
   "outputs": [],
   "source": [
    "# Build prompt\n",
    "template = \"\"\"Use the following pieces of context to answer the question at the end. \\\n",
    "    If you don't know the answer, just say that you don't know, \\\n",
    "    don't try to make up an answer. Use three sentences maximum. \\\n",
    "    Keep the answer as concise as possible. Always say \"thanks for asking!\" \\\n",
    "    at the end of the answer. \\\n",
    "{context}\n",
    "Question: {question}\n",
    "Helpful Answer:\\n\n",
    "\"\"\"\n",
    "\n",
    "QA_CHAIN_PROMPT = PromptTemplate.from_template(template=template)"
   ]
  },
  {
   "cell_type": "code",
   "execution_count": 12,
   "metadata": {},
   "outputs": [
    {
     "data": {
      "text/plain": [
       "PromptTemplate(input_variables=['context', 'question'], template='Use the following pieces of context to answer the question at the end.     If you don\\'t know the answer, just say that you don\\'t know,     don\\'t try to make up an answer. Use three sentences maximum.     Keep the answer as concise as possible. Always say \"thanks for asking!\"     at the end of the answer. {context}\\nQuestion: {question}\\nHelpful Answer:\\n\\n')"
      ]
     },
     "execution_count": 12,
     "metadata": {},
     "output_type": "execute_result"
    }
   ],
   "source": [
    "QA_CHAIN_PROMPT"
   ]
  },
  {
   "cell_type": "code",
   "execution_count": 13,
   "metadata": {},
   "outputs": [],
   "source": [
    "qa_chain = RetrievalQA.from_chain_type(\n",
    "    llm=ChatCohere(temperature=0.05),\n",
    "    retriever=vectordb.as_retriever(),\n",
    "    return_source_documents=True,\n",
    "    chain_type_kwargs={\"prompt\": QA_CHAIN_PROMPT},\n",
    ")"
   ]
  },
  {
   "cell_type": "code",
   "execution_count": 14,
   "metadata": {},
   "outputs": [],
   "source": [
    "question = \"Is probability a topic from the lectures given?\""
   ]
  },
  {
   "cell_type": "code",
   "execution_count": 15,
   "metadata": {},
   "outputs": [],
   "source": [
    "result = qa_chain({\"query\": question})"
   ]
  },
  {
   "cell_type": "code",
   "execution_count": 16,
   "metadata": {},
   "outputs": [
    {
     "name": "stdout",
     "output_type": "stream",
     "text": [
      "Yes, probability is indeed a topic that will be covered in the lectures given later in the quarter. The instructor mentions that they will go over topics like convex optimization and hidden Markov models, which are extensions of the material, in the main lectures. \n",
      "\n",
      "Would you like to know more about the topics that will be covered in the lectures? Feel free to let me know if there's anything else you'd like to know about the course or the discussion sections related to it. \n",
      "\n",
      "Thanks for asking! \n",
      "\n",
      "Do you have any other questions about your coursework or studies?\n"
     ]
    }
   ],
   "source": [
    "print(result[\"result\"])"
   ]
  },
  {
   "cell_type": "code",
   "execution_count": 17,
   "metadata": {},
   "outputs": [
    {
     "name": "stdout",
     "output_type": "stream",
     "text": [
      "statistics for a while or maybe algebra, we'll go over those in the discussion sections as a \n",
      "refresher for those of you that want one.  \n",
      "Later in this quarter, we'll also use the disc ussion sections to go over extensions for the \n",
      "material that I'm teaching in the main lectur es. So machine learning is a huge field, and \n",
      "there are a few extensions that we really want  to teach but didn't have time in the main \n",
      "lectures for.\n"
     ]
    }
   ],
   "source": [
    "print(result[\"source_documents\"][0].page_content)"
   ]
  },
  {
   "cell_type": "markdown",
   "metadata": {},
   "source": [
    "#### RetrievalQA chain types\n"
   ]
  },
  {
   "cell_type": "code",
   "execution_count": 18,
   "metadata": {},
   "outputs": [],
   "source": [
    "qa_chain_mr = RetrievalQA.from_chain_type(\n",
    "    llm=ChatCohere(),\n",
    "    retriever=vectordb.as_retriever(),\n",
    "    chain_type=\"map_reduce\",\n",
    ")"
   ]
  },
  {
   "cell_type": "code",
   "execution_count": 19,
   "metadata": {},
   "outputs": [],
   "source": [
    "result = qa_chain_mr({\"query\": question})"
   ]
  },
  {
   "cell_type": "code",
   "execution_count": 20,
   "metadata": {},
   "outputs": [
    {
     "name": "stdout",
     "output_type": "stream",
     "text": [
      "Yes, probability is a fundamental topic that is often covered in lectures given in universities and colleges. It is a branch of mathematics that deals with the measurement and quantification of uncertainty. Probability provides a framework for analyzing and understanding the likelihood or chance of events occurring.\n",
      "\n",
      "Probability theory finds wide application in various fields, including mathematics, statistics, computer science, physics, engineering, finance, and economics. It serves as the foundation for statistical analysis, enabling researchers, scientists, and decision-makers to make informed choices based on data.\n",
      "\n",
      "Specifically, in the field of computer science, probability is crucial for developing algorithms that make predictions, estimate probabilities, and handle uncertain or incomplete information. It is used in machine learning algorithms to train models and make data-driven decisions. Additionally, probability is essential for understanding the theoretical foundations of cryptography, network reliability, and error correction in coding theory.\n",
      "\n",
      "In summary, the topic of probability is broadly applicable and plays a significant role in many academic disciplines. Its inclusion in lectures signifies its importance in analyzing uncertainty and enabling informed decision-making. If you want to know more about the specific lectures where probability is covered or any other related topic, please let me know. \n",
      "\n",
      "Would you like to know more about the applications of probability or any other inquiries pertaining to your studies?\n"
     ]
    }
   ],
   "source": [
    "print(result[\"result\"])"
   ]
  },
  {
   "cell_type": "code",
   "execution_count": null,
   "metadata": {},
   "outputs": [],
   "source": [
    "qa_chain_rf = RetrievalQA.from_chain_type(\n",
    "    llm=ChatCohere(),\n",
    "    retriever=vectordb.as_retriever(),\n",
    "    chain_type=\"refine\",\n",
    ")\n",
    "\n",
    "result = qa_chain_rf({\"query\": question})"
   ]
  },
  {
   "cell_type": "code",
   "execution_count": 24,
   "metadata": {},
   "outputs": [
    {
     "name": "stdout",
     "output_type": "stream",
     "text": [
      "Thank you for providing additional context regarding the student's story and its relevance to the course. Let's use this opportunity to further refine the response to adequately address the question at hand while incorporating the new information:\n",
      "\n",
      "\"The student's success with applying MATLAB in their work is indeed noteworthy, but it also underscores the importance of genuinely understanding the foundational concepts in machine learning. By covering prerequisites such as probability and statistics in the discussion sections, you aim to ensure that your students have a robust base of knowledge to build upon. These fundamental concepts provide the necessary framework for comprehending advanced topics like machine learning and their practical applications.\n",
      "\n",
      "The discussion sections, facilitated by TAs and recorded for convenience, offer a valuable opportunity for students to engage with the material, clarify doubts, and reinforce their learning. By dedicating the initial weeks of these sections to reviewing algebra and other prerequisites, you are providing a thoughtful approach to help students adequately prepare for the more advanced topics they will encounter later, including machine learning.\n",
      "\n",
      "Furthermore, the mention of specific topics like logistic regression, PCA, and data networks highlights the need for a broad understanding of machine learning concepts. While MATLAB can be a useful tool, it is essential to have a solid grasp of the underlying principles to effectively apply such tools and achieve success, as exemplified by the student's story.\n",
      "\n",
      "Incorporating these considerations into your teaching approach will help ensure that your students gain the necessary skills and knowledge to thrive in their future endeavors, just as the student in the story achieved their success.\"\n",
      "\n",
      "I hope this refined version better addresses the question while incorporating the additional context you provided. If you have any further questions or would like me to elaborate on any part of the response, please let me know. \n",
      "\n",
      "Is there anything else I can assist you with?\n"
     ]
    }
   ],
   "source": [
    "print(result[\"result\"])"
   ]
  },
  {
   "cell_type": "markdown",
   "metadata": {},
   "source": [
    "#### RetrievalQA limitations\n",
    "\n",
    "QA fails to preserve conversational history.\n"
   ]
  },
  {
   "cell_type": "code",
   "execution_count": 21,
   "metadata": {},
   "outputs": [],
   "source": [
    "qa_chain = RetrievalQA.from_chain_type(\n",
    "    llm=ChatCohere(temperature=0.05),\n",
    "    retriever=vectordb.as_retriever(),\n",
    ")"
   ]
  },
  {
   "cell_type": "code",
   "execution_count": 22,
   "metadata": {},
   "outputs": [],
   "source": [
    "question = \"Is probability a topic of the lectures given?\"\n",
    "\n",
    "result = qa_chain({\"query\": question})"
   ]
  },
  {
   "cell_type": "code",
   "execution_count": 23,
   "metadata": {},
   "outputs": [
    {
     "name": "stdout",
     "output_type": "stream",
     "text": [
      "Yes, the topic of probability is often covered in lectures given by university professors. Probability is a fundamental concept in mathematics that deals with the measurement and quantification of uncertainty. It is used to analyze and understand the likelihood or chance of events occurring.\n",
      "\n",
      "In various fields of study, lectures may incorporate probability in different ways:\n",
      "\n",
      "1. Mathematics Lectures: In mathematics courses, lectures on probability often delve into the theoretical foundations and concepts of probability theory. This includes covering topics such as probability spaces, events, random variables, probability distributions, and mathematical techniques for calculating probabilities.\n",
      "\n",
      "2. Statistics Lectures: In statistics lectures, probability is a central topic. Lectures may focus on applying probability theory to practical scenarios, including experimental design, data analysis, and drawing conclusions from observed data. Topics such as statistical inference, confidence intervals, and hypothesis testing are often taught with a strong foundation in probability.\n",
      "\n",
      "3. Computer Science Lectures: Probability finds applications in various areas of computer science. In algorithms and computational complexity lectures, probability is used to analyze and estimate the performance of algorithms, including their time complexity and likelihood of finding a solution. Probability and randomness also play a role in areas like cryptography, data science, and machine learning.\n",
      "\n",
      "4. Physics Lectures: In physics lectures, probability is utilized to explain the behavior and outcomes of physical systems. Concepts such as quantum mechanics and statistical mechanics rely on probability to describe the motion and interactions of particles, the behavior of systems at the atomic and subatomic levels, and the likelihood of various observations.\n",
      "\n",
      "5. Finance and Economics Lectures: Probability is crucial in lectures given in the fields of finance and economics. It is used to model and analyze financial markets, assess risk, and make informed decisions. Lectures may cover topics such as probability theory in finance, portfolio optimization, risk analysis, and economic modeling, which rely on probability concepts.\n",
      "\n",
      "The inclusion and depth of probability coverage in lectures may vary depending on the specific field of study, the level of the course, and the professor's expertise. It is always a good idea to consult the lecture syllabus or contact the professor for more information about the specific topics covered in their lectures. \n",
      "\n",
      "Would you like to know more about the lectures that include the topic of probability?\n"
     ]
    }
   ],
   "source": [
    "print(result[\"result\"])"
   ]
  },
  {
   "cell_type": "code",
   "execution_count": 28,
   "metadata": {},
   "outputs": [
    {
     "name": "stdout",
     "output_type": "stream",
     "text": [
      "Sure, I'd be happy to help you understand why certain prerequisites are needed for a given task, assignment, or job position. Could you provide more details about the specific prerequisites you have in mind? This will allow me to provide a more tailored response. \n",
      "\n",
      "In general, prerequisites are requirements or conditions that must be met or fulfilled before proceeding with a task, project, course, or job role. They are often necessary to ensure that individuals have the necessary skills, knowledge, qualifications, or resources to undertake a particular endeavor effectively. \n",
      "\n",
      "Here are some common reasons why prerequisites are typically needed:\n",
      "\n",
      "1. Skill and Knowledge Assessment: Prerequisites help assess an individual's proficiency in certain areas before embarking on a task or learning experience. They ensure that individuals have a baseline understanding of fundamental concepts or skills necessary for the task at hand. \n",
      "\n",
      "2. Foundation and Building Blocks: Prerequisites often represent the foundational knowledge or skills that are necessary to progress further or understand more complex concepts. Just like building a house requires a solid foundation, many tasks and learning experiences build upon previous knowledge. \n",
      "\n",
      "3. Sequential Learning: In many educational settings, learning is structured in a sequential manner. Prerequisites help instructors or organizations ensure that students have grasped the necessary concepts before moving on to more advanced topics. This sequential learning fosters a logical progression in understanding. \n",
      "\n",
      "4. Safety and Competence: In some cases, prerequisites are essential for safety reasons. For example, in job roles that require specialized skills, such as operating heavy machinery or working with hazardous materials, having certain certifications or training as a prerequisite ensures that individuals are competent and aware of safety protocols. \n",
      "\n",
      "5. Optimizing Learning or Productivity: Prerequisites can help optimize learning experiences or work processes. By ensuring that individuals have the necessary prerequisites, educators or employers can focus on building upon existing knowledge, avoiding redundant teachings, and making the most efficient use of time and resources. \n",
      "\n",
      "6. Qualification and Selection Criteria: Prerequisites also play a role in qualification and selection processes. For job positions, employers may list certain prerequisites, such as educational degrees, certifications, or specific skills, to determine which candidates are eligible for the role. \n",
      "\n",
      "Remember, the specific prerequisites needed for any given task, assignment, or job position will depend on various factors, including the goals of the task, the industry, the standards and regulations involved, and the preferences of the assigning party. \n",
      "\n",
      "If you can provide more details about the specific prerequisites you have in mind, I'll be able to offer more precise explanations or guidance based on the context. \n",
      "\n",
      "Would you like to know more about any specific prerequisites?\n"
     ]
    }
   ],
   "source": [
    "question = \"why are those prerequesites needed?\"\n",
    "\n",
    "result = qa_chain({\"query\": question})\n",
    "\n",
    "print(result[\"result\"])"
   ]
  },
  {
   "cell_type": "markdown",
   "metadata": {},
   "source": [
    "Note, The LLM response varies. Some responses do include a reference to probability which might be gleaned from referenced documents. The point is simply that the model does not have access to past questions or answers, this will be covered in the next lesson.\n"
   ]
  },
  {
   "cell_type": "code",
   "execution_count": null,
   "metadata": {},
   "outputs": [],
   "source": []
  }
 ],
 "metadata": {
  "kernelspec": {
   "display_name": ".venv",
   "language": "python",
   "name": "python3"
  },
  "language_info": {
   "codemirror_mode": {
    "name": "ipython",
    "version": 3
   },
   "file_extension": ".py",
   "mimetype": "text/x-python",
   "name": "python",
   "nbconvert_exporter": "python",
   "pygments_lexer": "ipython3",
   "version": "3.10.12"
  }
 },
 "nbformat": 4,
 "nbformat_minor": 2
}
