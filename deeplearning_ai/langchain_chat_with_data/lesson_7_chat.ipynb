{
 "cells": [
  {
   "cell_type": "markdown",
   "metadata": {},
   "source": [
    "### Lesson 7: Chat\n"
   ]
  },
  {
   "cell_type": "code",
   "execution_count": 1,
   "metadata": {},
   "outputs": [
    {
     "data": {
      "text/plain": [
       "True"
      ]
     },
     "execution_count": 1,
     "metadata": {},
     "output_type": "execute_result"
    }
   ],
   "source": [
    "from dotenv import load_dotenv\n",
    "\n",
    "load_dotenv()"
   ]
  },
  {
   "cell_type": "code",
   "execution_count": 2,
   "metadata": {},
   "outputs": [],
   "source": [
    "from langchain.chains import ConversationalRetrievalChain, RetrievalQA\n",
    "from langchain.memory import ConversationBufferMemory\n",
    "from langchain.prompts import PromptTemplate\n",
    "from langchain_community.chat_models.cohere import ChatCohere\n",
    "from langchain_community.embeddings.cohere import CohereEmbeddings\n",
    "from langchain_community.vectorstores.chroma import Chroma"
   ]
  },
  {
   "cell_type": "code",
   "execution_count": 3,
   "metadata": {},
   "outputs": [],
   "source": [
    "persist_directory = \"./.chroma/\""
   ]
  },
  {
   "cell_type": "code",
   "execution_count": 4,
   "metadata": {},
   "outputs": [],
   "source": [
    "embedding = CohereEmbeddings()"
   ]
  },
  {
   "cell_type": "code",
   "execution_count": 5,
   "metadata": {},
   "outputs": [],
   "source": [
    "vectordb = Chroma(\n",
    "    persist_directory=persist_directory,\n",
    "    embedding_function=embedding,\n",
    ")"
   ]
  },
  {
   "cell_type": "code",
   "execution_count": 6,
   "metadata": {},
   "outputs": [],
   "source": [
    "question = \"What are major topics for this class?\"\n",
    "\n",
    "docs = vectordb.similarity_search(question, k=3)"
   ]
  },
  {
   "cell_type": "code",
   "execution_count": 7,
   "metadata": {},
   "outputs": [
    {
     "name": "stdout",
     "output_type": "stream",
     "text": [
      "statistics for a while or maybe algebra, we'll go over those in the discussion sections as a \n",
      "refresher for those of you that want one.  \n",
      "Later in this quarter, we'll also use the disc ussion sections to go over extensions for the \n",
      "material that I'm teaching in the main lectur es. So machine learning is a huge field, and \n",
      "there are a few extensions that we really want  to teach but didn't have time in the main \n",
      "lectures for.\n"
     ]
    }
   ],
   "source": [
    "print(docs[0].page_content)"
   ]
  },
  {
   "cell_type": "code",
   "execution_count": 8,
   "metadata": {},
   "outputs": [
    {
     "data": {
      "text/plain": [
       "'Hello to you as well! How can I assist you today? If you would like, we can have a conversation about a variety of topics. I could tell you more about artificial intelligence or large language models if you wish to know more about the field I operate in. Alternatively, we can discuss any other subject that interests you, explore a new topic, or I can help you with any specific questions or tasks you may have. Feel free to let me know how I can help you and we can get started!'"
      ]
     },
     "execution_count": 8,
     "metadata": {},
     "output_type": "execute_result"
    }
   ],
   "source": [
    "llm = ChatCohere(temperature=0)\n",
    "\n",
    "llm.predict(\"Hello world!\")"
   ]
  },
  {
   "cell_type": "code",
   "execution_count": 9,
   "metadata": {},
   "outputs": [],
   "source": [
    "template = \"\"\"Use the following pieces of context to answer the question \\\n",
    "    at the end. If you don't know the answer, just say that you don't know, \\\n",
    "    don't try to make up an answer. Use three sentences maximum. \\\n",
    "    Keep the answer as concise as possible. Always say \"thanks for asking!\" \\\n",
    "    at the end of the answer.\n",
    "{context}\n",
    "Question: {question}\n",
    "Helpful Answer:\\n\n",
    "\"\"\"\n",
    "\n",
    "QA_CHAIN_PROMPT = PromptTemplate.from_template(template=template)"
   ]
  },
  {
   "cell_type": "code",
   "execution_count": 10,
   "metadata": {},
   "outputs": [],
   "source": [
    "question = \"Is probability a topic from the lecture material that you can retrieve?\""
   ]
  },
  {
   "cell_type": "code",
   "execution_count": 11,
   "metadata": {},
   "outputs": [],
   "source": [
    "qa_chain = RetrievalQA.from_chain_type(\n",
    "    llm=llm,\n",
    "    retriever=vectordb.as_retriever(),\n",
    "    return_source_documents=True,\n",
    "    chain_type_kwargs={\"prompt\": QA_CHAIN_PROMPT},\n",
    ")"
   ]
  },
  {
   "cell_type": "code",
   "execution_count": 12,
   "metadata": {},
   "outputs": [
    {
     "name": "stdout",
     "output_type": "stream",
     "text": [
      "Yes, probability is indeed part of the lecture material for this course. Probability theory is fundamental to both algebra and statistics, and it is crucial for understanding many aspects of machine learning and the topics you've mentioned, such as convex optimization and hidden Markov models. \n",
      "\n",
      "So, in the earlier discussion, when the instructor mentioned \"we'll go over algebra and statistics as refreshers\", they were likely including probability within the scope of these subjects. \n",
      "\n",
      "Is there anything specific you would like to further inquire about regarding probability, or any other topic related to this course? Remember to attend the discussion sections if you'd like to delve deeper into extensions such as convex optimization and hidden Markov models. \n",
      "\n",
      "Feel free to let me know if you have any other questions about your coursework or academic pursuits. Always remember to stay curious and keep learning! \n",
      "\n",
      "Thanks for asking!\n"
     ]
    }
   ],
   "source": [
    "result = qa_chain({\"query\": question})\n",
    "\n",
    "print(result[\"result\"])"
   ]
  },
  {
   "cell_type": "markdown",
   "metadata": {},
   "source": [
    "#### Memory\n"
   ]
  },
  {
   "cell_type": "code",
   "execution_count": 13,
   "metadata": {},
   "outputs": [],
   "source": [
    "memory = ConversationBufferMemory(memory_key=\"chat_history\", return_messages=True)"
   ]
  },
  {
   "cell_type": "markdown",
   "metadata": {},
   "source": [
    "#### ConversationalRetrievalChain\n"
   ]
  },
  {
   "cell_type": "code",
   "execution_count": 14,
   "metadata": {},
   "outputs": [],
   "source": [
    "qa = ConversationalRetrievalChain.from_llm(\n",
    "    llm=llm,\n",
    "    retriever=vectordb.as_retriever(),\n",
    "    memory=memory,\n",
    ")"
   ]
  },
  {
   "cell_type": "code",
   "execution_count": 15,
   "metadata": {},
   "outputs": [],
   "source": [
    "question = \"Is probability a topic of the lecture material that you can retrieve?\"\n",
    "\n",
    "result = qa({\"question\": question})"
   ]
  },
  {
   "cell_type": "code",
   "execution_count": 16,
   "metadata": {},
   "outputs": [
    {
     "name": "stdout",
     "output_type": "stream",
     "text": [
      "Yes, I do have access to information on the topic of probability. Probability is a fundamental branch of mathematics that deals with the measurement and quantification of uncertainty. It provides a mathematical framework for analyzing and understanding the likelihood or chance of various events occurring.\n",
      "\n",
      "In more detail, probability allows us to:\n",
      "\n",
      "1. Formulate uncertain situations: We can express uncertainty by assigning probabilities to different outcomes of an experiment or event.\n",
      "\n",
      "2. Make predictions: With probability, we can estimate how likely it is that a particular event will occur, allowing us to make informed decisions. For example, in business, probabilities are used to assess the likelihood of success or failure of a new venture.\n",
      "\n",
      "3. Compare scenarios: Probability enables us to compare different alternatives and choose the best option by analyzing their probabilities of success.\n",
      "\n",
      "4. Understand randomness: Probability helps us comprehend and analyze random phenomena, which are common in many fields, including science, finance, and computer science.\n",
      "\n",
      "5. Analyze complex systems: By using probability theory, we can model and study complex systems, such as populations, traffic flows, or particle interactions, and make predictions about their behavior.\n",
      "\n",
      "Would you like me to go into more detail on any particular subtopic of probability? I can outline important concepts, theories, and applications if you'd like. \n",
      "\n",
      "Please note that the extent of my knowledge on this subject is influenced by the information available up until Wednesday, November 22, 2023. In the future, as new discoveries are made and new information is published, there may be additional developments in the field of probability that are not within my current scope of knowledge. \n",
      "\n",
      "If you'd like to learn more about recent developments, I recommend referring to reliable and up-to-date sources on the topic. \n",
      "\n",
      "Would you like me to help you find any additional information from other sources?\n"
     ]
    }
   ],
   "source": [
    "print(result[\"answer\"])"
   ]
  },
  {
   "cell_type": "code",
   "execution_count": 17,
   "metadata": {},
   "outputs": [],
   "source": [
    "question = \"What is the name of the topic I just asked?\"\n",
    "\n",
    "result = qa({\"question\": question})"
   ]
  },
  {
   "cell_type": "code",
   "execution_count": 18,
   "metadata": {},
   "outputs": [
    {
     "name": "stdout",
     "output_type": "stream",
     "text": [
      "Thank you for the prompt explanation. Indeed, the field of mathematics that deals with the measurement and quantification of uncertainty is called probability theory. \n",
      "\n",
      "Probability theory is a fundamental branch of mathematics that provides a framework for analyzing uncertainty by assigning probabilities to different events. It offers a mathematical language to describe the likelihood of various outcomes occurring in a given situation. \n",
      "\n",
      "Key concepts in probability theory include:\n",
      "1. Sample Space: The sample space is the set of all possible outcomes of an experiment. For example, when rolling a fair six-sided die, the sample space consists of the numbers 1 through 6.\n",
      "2. Events: Events are subsets of the sample space, representing specific outcomes or combinations of outcomes.\n",
      "3. Probability Measure: Probability is a measure assigned to an event, indicating the likelihood of that event occurring. It falls within the range of 0 (will not occur) to 1 (certainly will occur).\n",
      "4. Mutual Exclusive Events: Events are considered mutually exclusive if they cannot occur simultaneously. For instance, when rolling a die, the events \"even number\" and \"odd number\" are mutually exclusive as each outcome falls into only one of these categories.\n",
      "5. Independent Events: Events are considered independent if the occurrence of one event does not affect the probability of the other event occurring. For example, the probability of rain on a given day in Seattle and the probability of Seattle Mariners winning a game are independent events. \n",
      "\n",
      "Probability theory has numerous applications across different fields, including but not limited to:\n",
      "1. Statistics: Probability forms the foundation of statistical analysis, enabling the interpretation of data and the derivation of inferences and conclusions.\n",
      "2. Decision Theory: Probability provides a framework to model and analyze decision-making under uncertainty, aiding in decision optimization.\n",
      "3. Computer Science: In computer science, probability is applied in areas like artificial intelligence, machine learning, and data mining to develop predictive models and analyze large datasets.\n",
      "4. Finance and Insurance: Probability models are crucial in financial markets for risk assessment, portfolio optimization, and determining insurance premiums.\n",
      "5. Physics: In physics, probability is used in quantum mechanics to describe the behavior of particles and in statistical mechanics to understand the behavior of large systems.\n",
      "\n",
      "The historical development of probability as a mathematical discipline is quite intriguing. It traces its roots back to the 17th century, a period known as the Golden Age of Science. Notably, the development of probability theory was influenced by the work of two renowned mathematicians: Blaise Pascal and Pierre de Fermat. Their correspondence, now known as the Pascal-Fermat letters, led to the foundational concept of expected value and laid the groundwork for probability theory as we know it today. \n",
      "\n",
      "Would you like to delve deeper into any specific aspect of probability theory or its historical development?\n"
     ]
    }
   ],
   "source": [
    "print(result[\"answer\"])"
   ]
  },
  {
   "cell_type": "markdown",
   "metadata": {},
   "source": [
    "#### Create a chatbot that works on your documents\n"
   ]
  },
  {
   "cell_type": "code",
   "execution_count": 19,
   "metadata": {},
   "outputs": [],
   "source": [
    "from langchain.text_splitter import RecursiveCharacterTextSplitter\n",
    "from langchain_community.document_loaders import PyPDFLoader\n",
    "from langchain_community.vectorstores.docarray import DocArrayInMemorySearch"
   ]
  },
  {
   "cell_type": "code",
   "execution_count": 20,
   "metadata": {},
   "outputs": [],
   "source": [
    "def load_db(file, chain_type, k):\n",
    "    loader = PyPDFLoader(file_path=file)\n",
    "    documents = loader.load()\n",
    "    text_splitter = RecursiveCharacterTextSplitter(chunk_size=1000, chunk_overlap=150)\n",
    "    docs = text_splitter.split_documents(documents=documents)\n",
    "\n",
    "    embeddings = CohereEmbeddings()\n",
    "    db = DocArrayInMemorySearch.from_documents(documents=docs, embedding=embeddings)\n",
    "\n",
    "    retriever = db.as_retriever(search_type=\"similarity\", search_kwargs={\"k\": k})\n",
    "\n",
    "    qa_chain = ConversationalRetrievalChain.from_llm(\n",
    "        llm=ChatCohere(temperature=0),\n",
    "        chain_type=chain_type,\n",
    "        retriever=retriever,\n",
    "        return_source_documents=True,\n",
    "        return_generated_question=True,\n",
    "    )\n",
    "\n",
    "    return qa_chain"
   ]
  },
  {
   "cell_type": "code",
   "execution_count": null,
   "metadata": {},
   "outputs": [],
   "source": [
    "import panel as pn\n",
    "import param\n",
    "\n",
    "\n",
    "class cbfs(param.Parameterized):\n",
    "    chat_history = param.List([])\n",
    "    answer = param.String(\"\")\n",
    "    db_query = param.String(\"\")\n",
    "    db_response = param.List([])\n",
    "\n",
    "    def __init__(self, **params):\n",
    "        super(cbfs, self).__init__(**params)\n",
    "        self.panels = []\n",
    "        self.loaded_file = \"docs/cs229_lectures/MachineLearning-Lecture01.pdf\"\n",
    "        self.qa = load_db(self.loaded_file, \"stuff\", 4)\n",
    "\n",
    "    def call_load_db(self, count):\n",
    "        if count == 0 or file_input.value is None:  # init or no file specified :\n",
    "            return pn.pane.Markdown(f\"Loaded File: {self.loaded_file}\")\n",
    "        else:\n",
    "            file_input.save(\"temp.pdf\")  # local copy\n",
    "            self.loaded_file = file_input.filename\n",
    "            button_load.button_style = \"outline\"\n",
    "            self.qa = load_db(\"temp.pdf\", \"stuff\", 4)\n",
    "            button_load.button_style = \"solid\"\n",
    "        self.clr_history()\n",
    "        return pn.pane.Markdown(f\"Loaded File: {self.loaded_file}\")\n",
    "\n",
    "    def convchain(self, query):\n",
    "        if not query:\n",
    "            return pn.WidgetBox(\n",
    "                pn.Row(\"User:\", pn.pane.Markdown(\"\", width=600)), scroll=True\n",
    "            )\n",
    "        result = self.qa({\"question\": query, \"chat_history\": self.chat_history})\n",
    "        self.chat_history.extend([(query, result[\"answer\"])])\n",
    "        self.db_query = result[\"generated_question\"]\n",
    "        self.db_response = result[\"source_documents\"]\n",
    "        self.answer = result[\"answer\"]\n",
    "        self.panels.extend(\n",
    "            [\n",
    "                pn.Row(\"User:\", pn.pane.Markdown(query, width=600)),\n",
    "                pn.Row(\n",
    "                    \"ChatBot:\",\n",
    "                    pn.pane.Markdown(\n",
    "                        self.answer, width=600, style={\"background-color\": \"#F6F6F6\"}\n",
    "                    ),\n",
    "                ),\n",
    "            ]\n",
    "        )\n",
    "        inp.value = \"\"  # clears loading indicator when cleared\n",
    "        return pn.WidgetBox(*self.panels, scroll=True)\n",
    "\n",
    "    @param.depends(\n",
    "        \"db_query \",\n",
    "    )\n",
    "    def get_lquest(self):\n",
    "        if not self.db_query:\n",
    "            return pn.Column(\n",
    "                pn.Row(\n",
    "                    pn.pane.Markdown(\n",
    "                        \"Last question to DB:\", styles={\"background-color\": \"#F6F6F6\"}\n",
    "                    )\n",
    "                ),\n",
    "                pn.Row(pn.pane.Str(\"no DB accesses so far\")),\n",
    "            )\n",
    "        return pn.Column(\n",
    "            pn.Row(\n",
    "                pn.pane.Markdown(\"DB query:\", styles={\"background-color\": \"#F6F6F6\"})\n",
    "            ),\n",
    "            pn.pane.Str(self.db_query),\n",
    "        )\n",
    "\n",
    "    @param.depends(\n",
    "        \"db_response\",\n",
    "    )\n",
    "    def get_sources(self):\n",
    "        if not self.db_response:\n",
    "            return\n",
    "        rlist = [\n",
    "            pn.Row(\n",
    "                pn.pane.Markdown(\n",
    "                    \"Result of DB lookup:\", styles={\"background-color\": \"#F6F6F6\"}\n",
    "                )\n",
    "            )\n",
    "        ]\n",
    "        for doc in self.db_response:\n",
    "            rlist.append(pn.Row(pn.pane.Str(doc)))\n",
    "        return pn.WidgetBox(*rlist, width=600, scroll=True)\n",
    "\n",
    "    @param.depends(\"convchain\", \"clr_history\")\n",
    "    def get_chats(self):\n",
    "        if not self.chat_history:\n",
    "            return pn.WidgetBox(\n",
    "                pn.Row(pn.pane.Str(\"No History Yet\")), width=600, scroll=True\n",
    "            )\n",
    "        rlist = [\n",
    "            pn.Row(\n",
    "                pn.pane.Markdown(\n",
    "                    \"Current Chat History variable\",\n",
    "                    styles={\"background-color\": \"#F6F6F6\"},\n",
    "                )\n",
    "            )\n",
    "        ]\n",
    "        for exchange in self.chat_history:\n",
    "            rlist.append(pn.Row(pn.pane.Str(exchange)))\n",
    "        return pn.WidgetBox(*rlist, width=600, scroll=True)\n",
    "\n",
    "    def clr_history(self, count=0):\n",
    "        self.chat_history = []\n",
    "        return"
   ]
  },
  {
   "cell_type": "markdown",
   "metadata": {},
   "source": [
    "#### Create a chatbot\n"
   ]
  },
  {
   "cell_type": "code",
   "execution_count": null,
   "metadata": {},
   "outputs": [],
   "source": [
    "cb = cbfs()\n",
    "\n",
    "file_input = pn.widgets.FileInput(accept=\".pdf\")\n",
    "button_load = pn.widgets.Button(name=\"Load DB\", button_type=\"primary\")\n",
    "button_clearhistory = pn.widgets.Button(name=\"Clear History\", button_type=\"warning\")\n",
    "button_clearhistory.on_click(cb.clr_history)\n",
    "inp = pn.widgets.TextInput(placeholder=\"Enter text here…\")\n",
    "\n",
    "bound_button_load = pn.bind(cb.call_load_db, button_load.param.clicks)\n",
    "conversation = pn.bind(cb.convchain, inp)\n",
    "\n",
    "jpg_pane = pn.pane.Image(\"./img/convchain.jpg\")\n",
    "\n",
    "tab1 = pn.Column(\n",
    "    pn.Row(inp),\n",
    "    pn.layout.Divider(),\n",
    "    pn.panel(conversation, loading_indicator=True, height=300),\n",
    "    pn.layout.Divider(),\n",
    ")\n",
    "tab2 = pn.Column(\n",
    "    pn.panel(cb.get_lquest),\n",
    "    pn.layout.Divider(),\n",
    "    pn.panel(cb.get_sources),\n",
    ")\n",
    "tab3 = pn.Column(\n",
    "    pn.panel(cb.get_chats),\n",
    "    pn.layout.Divider(),\n",
    ")\n",
    "tab4 = pn.Column(\n",
    "    pn.Row(file_input, button_load, bound_button_load),\n",
    "    pn.Row(\n",
    "        button_clearhistory,\n",
    "        pn.pane.Markdown(\"Clears chat history. Can use to start a new topic\"),\n",
    "    ),\n",
    "    pn.layout.Divider(),\n",
    "    pn.Row(jpg_pane.clone(width=400)),\n",
    ")\n",
    "dashboard = pn.Column(\n",
    "    pn.Row(pn.pane.Markdown(\"# ChatWithYourData_Bot\")),\n",
    "    pn.Tabs(\n",
    "        (\"Conversation\", tab1),\n",
    "        (\"Database\", tab2),\n",
    "        (\"Chat History\", tab3),\n",
    "        (\"Configure\", tab4),\n",
    "    ),\n",
    ")\n",
    "dashboard"
   ]
  },
  {
   "cell_type": "code",
   "execution_count": null,
   "metadata": {},
   "outputs": [],
   "source": []
  }
 ],
 "metadata": {
  "kernelspec": {
   "display_name": ".venv",
   "language": "python",
   "name": "python3"
  },
  "language_info": {
   "codemirror_mode": {
    "name": "ipython",
    "version": 3
   },
   "file_extension": ".py",
   "mimetype": "text/x-python",
   "name": "python",
   "nbconvert_exporter": "python",
   "pygments_lexer": "ipython3",
   "version": "3.10.12"
  }
 },
 "nbformat": 4,
 "nbformat_minor": 2
}
