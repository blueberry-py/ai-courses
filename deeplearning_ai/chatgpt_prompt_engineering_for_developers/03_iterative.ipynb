{
 "cells": [
  {
   "cell_type": "markdown",
   "metadata": {},
   "source": [
    "# Lesson 3: Iterative Prompt Development\n",
    "https://learn.deeplearning.ai/chatgpt-prompt-eng/lesson/3/iterative\n",
    "\n",
    "In this lesson, we'll iteratively analyze and refine our prompts to generate marketing copy from a product fact sheet."
   ]
  },
  {
   "cell_type": "markdown",
   "metadata": {},
   "source": [
    "## Setup"
   ]
  },
  {
   "cell_type": "code",
   "execution_count": 1,
   "metadata": {},
   "outputs": [
    {
     "name": "stdout",
     "output_type": "stream",
     "text": [
      "API key found\n"
     ]
    }
   ],
   "source": [
    "import os\n",
    "\n",
    "from dotenv import find_dotenv, load_dotenv\n",
    "from openai import OpenAI\n",
    "\n",
    "if not load_dotenv(find_dotenv()):\n",
    "    raise RuntimeError(\"Set environment variables first!\")\n",
    "\n",
    "if os.getenv(\"OPENAI_API_KEY\"):\n",
    "    print(\"API key found\")\n",
    "else:\n",
    "    raise RuntimeError(\"No API key found!\")\n",
    "\n",
    "client = OpenAI()"
   ]
  },
  {
   "cell_type": "code",
   "execution_count": 2,
   "metadata": {},
   "outputs": [],
   "source": [
    "MODEL_NAME = \"gpt-3.5-turbo-1106\""
   ]
  },
  {
   "cell_type": "code",
   "execution_count": 3,
   "metadata": {},
   "outputs": [],
   "source": [
    "def get_completion(prompt: str, model: str = MODEL_NAME) -> str | None:\n",
    "    \"\"\"Helper function to make it easier to use prompts and look at the\n",
    "    generated outpus\"\"\"\n",
    "    messages = [{\"role\": \"user\", \"content\": prompt}]\n",
    "\n",
    "    response = client.chat.completions.create(\n",
    "        model=model,\n",
    "        messages=messages,\n",
    "        temperature=0.0,\n",
    "    )\n",
    "\n",
    "    return response.choices[0].message.content"
   ]
  },
  {
   "cell_type": "markdown",
   "metadata": {},
   "source": [
    "## Generate a marketing product description from a product fact sheet"
   ]
  },
  {
   "cell_type": "code",
   "execution_count": 4,
   "metadata": {},
   "outputs": [],
   "source": [
    "fact_sheet_chair = \"\"\"\n",
    "OVERVIEW\n",
    "- Part of a beautiful family of mid-century inspired office furniture,\n",
    "including filing cabinets, desks, bookcases, meeting tables, and more.\n",
    "- Several options of shell color and base finishes.\n",
    "- Available with plastic back and front upholstery (SWC-100) \\\n",
    "or full upholstery (SWC-110) in 10 fabric and 6 leather options.\n",
    "- Base finish options are: stainless steel, matte black,\n",
    "gloss white, or chrome.\n",
    "- Chair is available with or without armrests.\n",
    "- Suitable for home or business settings.\n",
    "- Qualified for contract use.\n",
    "\n",
    "CONSTRUCTION\n",
    "- 5-wheel plastic coated aluminum base.\n",
    "- Pneumatic chair adjust for easy raise/lower action.\n",
    "\n",
    "DIMENSIONS\n",
    "- WIDTH 53 CM | 20.87”\n",
    "- DEPTH 51 CM | 20.08”\n",
    "- HEIGHT 80 CM | 31.50”\n",
    "- SEAT HEIGHT 44 CM | 17.32”\n",
    "- SEAT DEPTH 41 CM | 16.14”\n",
    "\n",
    "OPTIONS\n",
    "- Soft or hard-floor caster options.\n",
    "- Two choices of seat foam densities:\n",
    " medium (1.8 lb/ft3) or high (2.8 lb/ft3)\n",
    "- Armless or 8 position PU armrests\n",
    "\n",
    "MATERIALS\n",
    "SHELL BASE GLIDER\n",
    "- Cast Aluminum with modified nylon PA6/PA66 coating.\n",
    "- Shell thickness: 10 mm.\n",
    "SEAT\n",
    "- HD36 foam\n",
    "\n",
    "COUNTRY OF ORIGIN\n",
    "- Italy\n",
    "\"\"\""
   ]
  },
  {
   "cell_type": "code",
   "execution_count": 5,
   "metadata": {},
   "outputs": [
    {
     "name": "stdout",
     "output_type": "stream",
     "text": [
      "Introducing the stylish and versatile mid-century inspired office chair, perfect for both home and business settings. This chair is part of a beautiful family of office furniture, offering a range of matching pieces including filing cabinets, desks, bookcases, meeting tables, and more.\n",
      "\n",
      "Customize your chair with several options of shell color and base finishes, as well as the choice between plastic back and front upholstery or full upholstery in a variety of fabric and leather options. The chair is also available with or without armrests, allowing you to tailor it to your specific needs.\n",
      "\n",
      "Constructed with a 5-wheel plastic coated aluminum base and featuring pneumatic chair adjust for easy raise/lower action, this chair is both durable and functional. The dimensions of the chair are as follows: WIDTH 53 CM | 20.87”, DEPTH 51 CM | 20.08”, HEIGHT 80 CM | 31.50”, SEAT HEIGHT 44 CM | 17.32”, SEAT DEPTH 41 CM | 16.14”.\n",
      "\n",
      "Choose between soft or hard-floor caster options, as well as two choices of seat foam densities: medium (1.8 lb/ft3) or high (2.8 lb/ft3). The chair also offers the option of armless or 8 position PU armrests for added comfort.\n",
      "\n",
      "Made with high-quality materials, including a cast aluminum shell with modified nylon coating and HD36 foam seat, this chair is designed to last. Plus, it is qualified for contract use, making it a reliable choice for commercial spaces.\n",
      "\n",
      "Add a touch of Italian craftsmanship to your office with this stylish and functional office chair. Elevate your workspace with this elegant and practical seating solution.\n"
     ]
    }
   ],
   "source": [
    "prompt = f\"\"\"\n",
    "Your task is to help a marketing team create a \\\n",
    "description for a retail website of a product based \\\n",
    "on a technical fact sheet.\n",
    "\n",
    "Write a product description based on the information \\\n",
    "provided in the technical specifications delimited by \\\n",
    "triple backticks.\n",
    "\n",
    "Technical specifications: ```{fact_sheet_chair}```\n",
    "\"\"\"\n",
    "\n",
    "print(get_completion(prompt=prompt))"
   ]
  },
  {
   "cell_type": "markdown",
   "metadata": {},
   "source": [
    "## Issue 1: The text is too long\n",
    "Limit the number of words/sentences/characters."
   ]
  },
  {
   "cell_type": "code",
   "execution_count": 6,
   "metadata": {},
   "outputs": [
    {
     "name": "stdout",
     "output_type": "stream",
     "text": [
      "Introducing our mid-century inspired office chair, part of a beautiful furniture collection. Available in various shell colors and base finishes, with options for upholstery and armrests. Designed for both home and business use, with a durable construction and adjustable pneumatic chair lift. Made in Italy with attention to quality and detail.\n"
     ]
    }
   ],
   "source": [
    "prompt = f\"\"\"\n",
    "Your task is to help a marketing team create a \\\n",
    "description for a retail website of a product based \\\n",
    "on a technical fact sheet.\n",
    "\n",
    "Write a product description based on the information \\\n",
    "provided in the technical specifications delimited by \\\n",
    "triple backticks.\n",
    "\n",
    "Use at most 50 words.\n",
    "\n",
    "Technical specifications: ```{fact_sheet_chair}```\n",
    "\"\"\"\n",
    "\n",
    "print(get_completion(prompt=prompt))"
   ]
  },
  {
   "cell_type": "markdown",
   "metadata": {},
   "source": [
    "## Issue 2. Text focuses on the wrong details\n",
    "Ask it to focus on the aspects that are relevant to the intended audience."
   ]
  },
  {
   "cell_type": "code",
   "execution_count": 7,
   "metadata": {},
   "outputs": [
    {
     "name": "stdout",
     "output_type": "stream",
     "text": [
      "Introducing the versatile and stylish mid-century inspired office chair, available in a range of shell colors and base finishes. Constructed with a durable 5-wheel plastic coated aluminum base and featuring pneumatic chair adjust for easy raise/lower action. Made with high-quality materials including cast aluminum and HD36 foam, this chair is suitable for both home and business settings. Designed and manufactured in Italy.\n"
     ]
    }
   ],
   "source": [
    "prompt = f\"\"\"\n",
    "Your task is to help a marketing team create a \\\n",
    "description for a retail website of a product based \\\n",
    "on a technical fact sheet.\n",
    "\n",
    "Write a product description based on the information \\\n",
    "provided in the technical specifications delimited by \\\n",
    "triple backticks.\n",
    "\n",
    "The description is intended for furniture retailers, \\\n",
    "so should be technical in nature and focus on the \\\n",
    "materials the product is constructed from.\n",
    "\n",
    "Use at most 50 words.\n",
    "\n",
    "Technical specifications: ```{fact_sheet_chair}```\n",
    "\"\"\"\n",
    "\n",
    "print(get_completion(prompt=prompt))"
   ]
  },
  {
   "cell_type": "code",
   "execution_count": 8,
   "metadata": {},
   "outputs": [
    {
     "name": "stdout",
     "output_type": "stream",
     "text": [
      "Introducing our mid-century inspired office chair, perfect for both home and business settings. This chair is part of a beautiful family of furniture, offering a range of options including filing cabinets, desks, bookcases, and meeting tables. The chair is available with plastic back and front upholstery or full upholstery in a variety of fabric and leather options. Choose from stainless steel, matte black, gloss white, or chrome base finishes. With its 5-wheel plastic coated aluminum base and pneumatic chair adjust, this chair offers easy raise/lower action. It is also available with or without armrests. The chair is constructed with a cast aluminum shell with a modified nylon coating, ensuring durability and strength. The seat is made with HD36 foam for ultimate comfort. Choose between soft or hard-floor caster options and two choices of seat foam densities. The chair is proudly made in Italy. Product ID: SWC-100, SWC-110.\n"
     ]
    }
   ],
   "source": [
    "prompt = f\"\"\"\n",
    "Your task is to help a marketing team create a \\\n",
    "description for a retail website of a product based \\\n",
    "on a technical fact sheet.\n",
    "\n",
    "Write a product description based on the information \\\n",
    "provided in the technical specifications delimited by \\\n",
    "triple backticks.\n",
    "\n",
    "The description is intended for furniture retailers, \\\n",
    "so should be technical in nature and focus on the \\\n",
    "materials the product is constructed from.\n",
    "\n",
    "At the end of the description, include every 7-character \\\n",
    "Product ID in the technical specification.\n",
    "\n",
    "Use at most 50 words.\n",
    "\n",
    "Technical specifications: ```{fact_sheet_chair}```\n",
    "\"\"\"\n",
    "\n",
    "print(get_completion(prompt=prompt))"
   ]
  },
  {
   "cell_type": "markdown",
   "metadata": {},
   "source": [
    "## Issue 3. Description needs a table of dimensions\n",
    "Ask it to extract information and organize it in a table."
   ]
  },
  {
   "cell_type": "code",
   "execution_count": null,
   "metadata": {},
   "outputs": [],
   "source": [
    "prompt = f\"\"\"\n",
    "Your task is to help a marketing team create a \\\n",
    "description for a retail website of a product based \\\n",
    "on a technical fact sheet.\n",
    "\n",
    "Write a product description based on the information \\\n",
    "provided in the technical specifications delimited by \\\n",
    "triple backticks.\n",
    "\n",
    "The description is intended for furniture retailers,\n",
    "so should be technical in nature and focus on the \\\n",
    "materials the product is constructed from.\n",
    "\n",
    "At the end of the description, include every 7-character \\\n",
    "Product ID in the technical specification.\n",
    "\n",
    "After the description, include a table that gives the \\\n",
    "product's dimensions. The table should have two columns.\n",
    "In the first column include the name of the dimension.\n",
    "In the second column include the measurements in inches only.\n",
    "\n",
    "Give the table the title 'Product Dimensions'.\n",
    "\n",
    "Format everything as HTML that can be used in a website.\n",
    "Place the description in a <div> element.\n",
    "\n",
    "Technical specifications: ```{fact_sheet_chair}```\n",
    "\"\"\"\n",
    "\n",
    "response = get_completion(prompt=prompt)"
   ]
  },
  {
   "cell_type": "markdown",
   "metadata": {},
   "source": [
    "## Load Python libraries to view HTML"
   ]
  },
  {
   "cell_type": "code",
   "execution_count": 11,
   "metadata": {},
   "outputs": [],
   "source": [
    "from IPython.core.display import HTML\n",
    "from IPython.display import display"
   ]
  },
  {
   "cell_type": "code",
   "execution_count": 13,
   "metadata": {},
   "outputs": [
    {
     "data": {
      "text/html": [
       "<div>\n",
       "  <h2>Product Description</h2>\n",
       "  <p>\n",
       "    Introducing our latest addition to our mid-century inspired office furniture collection - the SWC Chair. This chair is part of a beautiful family of furniture that includes filing cabinets, desks, bookcases, meeting tables, and more. With its sleek design and customizable options, the SWC Chair is the perfect choice for any home or business setting.\n",
       "  </p>\n",
       "  <p>\n",
       "    The SWC Chair offers several options for customization. You can choose from a variety of shell colors and base finishes to match your existing decor. The chair is available with plastic back and front upholstery or full upholstery in a range of fabric and leather options. The base finish options include stainless steel, matte black, gloss white, or chrome. You can also choose whether to have armrests or not, depending on your preference.\n",
       "  </p>\n",
       "  <p>\n",
       "    The construction of the SWC Chair is top-notch. It features a 5-wheel plastic coated aluminum base, ensuring stability and durability. The chair also has a pneumatic adjuster, allowing for easy raise and lower action. This makes it convenient for users to find their desired seating height.\n",
       "  </p>\n",
       "  <p>\n",
       "    The SWC Chair is not only stylish and functional, but it is also designed with comfort in mind. The seat is made with HD36 foam, providing a comfortable and supportive seating experience. You can also choose between soft or hard-floor caster options, depending on your flooring needs. Additionally, the chair offers two choices of seat foam densities - medium (1.8 lb/ft3) or high (2.8 lb/ft3). This allows you to customize the level of firmness to suit your preferences.\n",
       "  </p>\n",
       "  <p>\n",
       "    The SWC Chair is made with high-quality materials. The shell, base, and glider are constructed with cast aluminum with a modified nylon PA6/PA66 coating. The shell has a thickness of 10 mm, ensuring durability and stability. The chair is proudly made in Italy, known for its craftsmanship and attention to detail.\n",
       "  </p>\n",
       "  <p>\n",
       "    With its sleek design, customizable options, and high-quality construction, the SWC Chair is the perfect addition to any office or workspace. Experience comfort, style, and functionality with this exceptional chair.\n",
       "  </p>\n",
       "  <h3>Product Dimensions</h3>\n",
       "  <table>\n",
       "    <tr>\n",
       "      <th>Dimension</th>\n",
       "      <th>Measurement (inches)</th>\n",
       "    </tr>\n",
       "    <tr>\n",
       "      <td>Width</td>\n",
       "      <td>20.87\"</td>\n",
       "    </tr>\n",
       "    <tr>\n",
       "      <td>Depth</td>\n",
       "      <td>20.08\"</td>\n",
       "    </tr>\n",
       "    <tr>\n",
       "      <td>Height</td>\n",
       "      <td>31.50\"</td>\n",
       "    </tr>\n",
       "    <tr>\n",
       "      <td>Seat Height</td>\n",
       "      <td>17.32\"</td>\n",
       "    </tr>\n",
       "    <tr>\n",
       "      <td>Seat Depth</td>\n",
       "      <td>16.14\"</td>\n",
       "    </tr>\n",
       "  </table>\n",
       "</div>\n"
      ],
      "text/plain": [
       "<IPython.core.display.HTML object>"
      ]
     },
     "metadata": {},
     "output_type": "display_data"
    }
   ],
   "source": [
    "display(HTML(response))"
   ]
  },
  {
   "cell_type": "code",
   "execution_count": null,
   "metadata": {},
   "outputs": [],
   "source": []
  }
 ],
 "metadata": {
  "kernelspec": {
   "display_name": ".venv",
   "language": "python",
   "name": "python3"
  },
  "language_info": {
   "codemirror_mode": {
    "name": "ipython",
    "version": 3
   },
   "file_extension": ".py",
   "mimetype": "text/x-python",
   "name": "python",
   "nbconvert_exporter": "python",
   "pygments_lexer": "ipython3",
   "version": "3.10.12"
  },
  "orig_nbformat": 4
 },
 "nbformat": 4,
 "nbformat_minor": 2
}
