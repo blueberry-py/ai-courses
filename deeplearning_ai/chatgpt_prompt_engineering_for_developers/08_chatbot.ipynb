{
 "cells": [
  {
   "cell_type": "markdown",
   "metadata": {},
   "source": [
    "# Lessson 8: The Chat Format\n",
    "https://learn.deeplearning.ai/chatgpt-prompt-eng/lesson/8/chatbot\n",
    "\n",
    "In this lesson, we will explore how you can utilize the chat format to have extended conversations with chatbots personalized or specialized for specific tasks or behaviors."
   ]
  },
  {
   "cell_type": "markdown",
   "metadata": {},
   "source": [
    "# Setup"
   ]
  },
  {
   "cell_type": "code",
   "execution_count": 5,
   "metadata": {},
   "outputs": [
    {
     "name": "stdout",
     "output_type": "stream",
     "text": [
      "API key found\n"
     ]
    }
   ],
   "source": [
    "import os\n",
    "\n",
    "from dotenv import find_dotenv, load_dotenv\n",
    "from openai import OpenAI\n",
    "\n",
    "if not load_dotenv(find_dotenv()):\n",
    "    raise RuntimeError(\"Set environment variables first!\")\n",
    "\n",
    "if os.getenv(\"OPENAI_API_KEY\"):\n",
    "    print(\"API key found\")\n",
    "else:\n",
    "    raise RuntimeError(\"No API key found!\")\n",
    "\n",
    "client = OpenAI()"
   ]
  },
  {
   "cell_type": "code",
   "execution_count": 6,
   "metadata": {},
   "outputs": [],
   "source": [
    "MODEL_NAME = \"gpt-3.5-turbo-1106\"\n",
    "\n",
    "\n",
    "def get_completion(prompt: str, model: str = MODEL_NAME) -> str | None:\n",
    "    \"\"\"Helper function to make it easier to use prompts and look at the\n",
    "    generated outpus\"\"\"\n",
    "    messages = [{\"role\": \"user\", \"content\": prompt}]\n",
    "\n",
    "    response = client.chat.completions.create(\n",
    "        model=model,\n",
    "        messages=messages,\n",
    "        temperature=0.0,\n",
    "    )\n",
    "\n",
    "    return response.choices[0].message.content\n",
    "\n",
    "\n",
    "def get_completion_from_messages(\n",
    "    messages: list[dict[str, str]], model: str = MODEL_NAME, temperature: float = 0\n",
    ") -> str | None:\n",
    "    response = client.chat.completions.create(\n",
    "        model=model,\n",
    "        messages=messages,\n",
    "        temperature=temperature,\n",
    "    )\n",
    "\n",
    "    return response.choices[0].message.content"
   ]
  },
  {
   "cell_type": "code",
   "execution_count": 3,
   "metadata": {},
   "outputs": [
    {
     "name": "stdout",
     "output_type": "stream",
     "text": [
      "To get to the other side, of course! Verily, 'tis an old jest, but one that still doth bring mirth to many.\n"
     ]
    }
   ],
   "source": [
    "messages = [\n",
    "    {\"role\": \"system\", \"content\": \"You are an assistant that speaks like Shakespeare.\"},\n",
    "    {\"role\": \"user\", \"content\": \"tell me a joke\"},\n",
    "    {\"role\": \"assistant\", \"content\": \"Why did the chicken cross the road\"},\n",
    "    {\"role\": \"user\", \"content\": \"I don't know\"},\n",
    "]\n",
    "\n",
    "print(get_completion_from_messages(messages=messages))"
   ]
  },
  {
   "cell_type": "code",
   "execution_count": 4,
   "metadata": {},
   "outputs": [
    {
     "name": "stdout",
     "output_type": "stream",
     "text": [
      "Hello Isa! It's nice to meet you. How can I help you today?\n"
     ]
    }
   ],
   "source": [
    "messages = [\n",
    "    {\"role\": \"system\", \"content\": \"You are friendly chatbot.\"},\n",
    "    {\"role\": \"user\", \"content\": \"Hi, my name is Isa\"},\n",
    "]\n",
    "\n",
    "print(get_completion_from_messages(messages=messages, temperature=1))"
   ]
  },
  {
   "cell_type": "code",
   "execution_count": 5,
   "metadata": {},
   "outputs": [
    {
     "name": "stdout",
     "output_type": "stream",
     "text": [
      "I don't have access to personal information, including your name. But feel free to introduce yourself to me!\n"
     ]
    }
   ],
   "source": [
    "messages = [\n",
    "    {\"role\": \"system\", \"content\": \"You are friendly chatbot.\"},\n",
    "    {\"role\": \"user\", \"content\": \"Yes, can you remind me, What is my name?\"},\n",
    "]\n",
    "\n",
    "print(get_completion_from_messages(messages, temperature=1))"
   ]
  },
  {
   "cell_type": "code",
   "execution_count": 6,
   "metadata": {},
   "outputs": [
    {
     "name": "stdout",
     "output_type": "stream",
     "text": [
      "Your name is Isa!\n"
     ]
    }
   ],
   "source": [
    "messages = [\n",
    "    {\"role\": \"system\", \"content\": \"You are friendly chatbot.\"},\n",
    "    {\"role\": \"user\", \"content\": \"Hi, my name is Isa\"},\n",
    "    {\n",
    "        \"role\": \"assistant\",\n",
    "        \"content\": \"Hi Isa! It's nice to meet you. \\\n",
    "Is there anything I can help you with today?\",\n",
    "    },\n",
    "    {\"role\": \"user\", \"content\": \"Yes, you can remind me, What is my name?\"},\n",
    "]\n",
    "\n",
    "print(get_completion_from_messages(messages, temperature=1))"
   ]
  },
  {
   "cell_type": "markdown",
   "metadata": {},
   "source": [
    "# OrderBot"
   ]
  },
  {
   "cell_type": "markdown",
   "metadata": {},
   "source": [
    "We can automate the collection of user prompts and assistant responses to build a OrderBot. The OrderBot will take orders at a pizza restaurant."
   ]
  },
  {
   "cell_type": "code",
   "execution_count": 7,
   "metadata": {},
   "outputs": [],
   "source": [
    "import panel as pn"
   ]
  },
  {
   "cell_type": "code",
   "execution_count": null,
   "metadata": {},
   "outputs": [],
   "source": [
    "pn.extension()\n",
    "\n",
    "panels: list[pn.Row] = []"
   ]
  },
  {
   "cell_type": "code",
   "execution_count": 9,
   "metadata": {},
   "outputs": [],
   "source": [
    "context = [\n",
    "    {\n",
    "        \"role\": \"system\",\n",
    "        \"content\": \"\"\"\n",
    "You are OrderBot, an automated service to collect orders for a pizza restaurant. \\\n",
    "You first greet the customer, then collects the order, \\\n",
    "and then asks if it's a pickup or delivery. \\\n",
    "You wait to collect the entire order, then summarize it and check for a final \\\n",
    "time if the customer wants to add anything else. \\\n",
    "If it's a delivery, you ask for an address. \\\n",
    "Finally you collect the payment.\\\n",
    "Make sure to clarify all options, extras and sizes to uniquely \\\n",
    "identify the item from the menu.\\\n",
    "You respond in a short, very conversational friendly style. \\\n",
    "The menu includes \\\n",
    "pepperoni pizza  12.95, 10.00, 7.00 \\\n",
    "cheese pizza   10.95, 9.25, 6.50 \\\n",
    "eggplant pizza   11.95, 9.75, 6.75 \\\n",
    "fries 4.50, 3.50 \\\n",
    "greek salad 7.25 \\\n",
    "Toppings: \\\n",
    "extra cheese 2.00, \\\n",
    "mushrooms 1.50 \\\n",
    "sausage 3.00 \\\n",
    "canadian bacon 3.50 \\\n",
    "AI sauce 1.50 \\\n",
    "peppers 1.00 \\\n",
    "Drinks: \\\n",
    "coke 3.00, 2.00, 1.00 \\\n",
    "sprite 3.00, 2.00, 1.00 \\\n",
    "bottled water 5.00 \\\n",
    "\"\"\",\n",
    "    }\n",
    "]  # accumulate messages"
   ]
  },
  {
   "cell_type": "code",
   "execution_count": null,
   "metadata": {},
   "outputs": [],
   "source": [
    "inp = pn.widgets.TextInput(value=\"Hi\", placeholder=\"Enter text here...\")\n",
    "\n",
    "button_conversation = pn.widgets.Button(name=\"Chat!\")\n",
    "\n",
    "\n",
    "def collect_messages(_) -> pn.Column:\n",
    "    prompt = inp.value_input\n",
    "    inp.value = \"\"\n",
    "    context.append({\"role\": \"user\", \"content\": str(prompt)})\n",
    "    response = get_completion_from_messages(context)\n",
    "    context.append({\"role\": \"assistant\", \"content\": str(response)})\n",
    "    panels.append(pn.Row(\"User:\", pn.pane.Markdown(prompt, width=600)))\n",
    "    panels.append(\n",
    "        pn.Row(\n",
    "            \"Assistant:\",\n",
    "            pn.pane.Markdown(\n",
    "                response, width=600, styles={\"background-color\": \"#F6F6F6\"}\n",
    "            ),\n",
    "        )\n",
    "    )\n",
    "\n",
    "    return pn.Column(*panels)\n",
    "\n",
    "\n",
    "interactive_conversiation = pn.bind(collect_messages, button_conversation)\n",
    "\n",
    "dashboard = pn.Column(\n",
    "    inp,\n",
    "    pn.Row(button_conversation),\n",
    "    pn.panel(interactive_conversiation, loading_indicator=True, height=300),\n",
    ")\n",
    "\n",
    "dashboard"
   ]
  },
  {
   "cell_type": "code",
   "execution_count": 14,
   "metadata": {},
   "outputs": [
    {
     "name": "stdout",
     "output_type": "stream",
     "text": [
      "{\n",
      "  \"pizza\": \"large pepperoni pizza - $12.95\",\n",
      "  \"toppings\": [],\n",
      "  \"drinks\": [\n",
      "    \"coke - $3.00\"\n",
      "  ],\n",
      "  \"sides\": [\n",
      "    \"fries - $4.50\"\n",
      "  ],\n",
      "  \"total price\": \"$20.45\"\n",
      "}\n"
     ]
    }
   ],
   "source": [
    "messages = context.copy()\n",
    "messages.append(\n",
    "    {\n",
    "        \"role\": \"system\",\n",
    "        \"content\": \"create a json summary of the previous food order. Itemize the price for each item\\\n",
    " The fields should be 1) pizza, include size 2) list of toppings 3) list of drinks, include size   4) list of sides include size  5)total price \",\n",
    "    },\n",
    ")\n",
    "# The fields should be 1) pizza, price 2) list of toppings 3) list of drinks, include size include price  4) list of sides include size include price, 5)total price '},\n",
    "\n",
    "response = get_completion_from_messages(messages, temperature=0)\n",
    "print(response)"
   ]
  },
  {
   "cell_type": "code",
   "execution_count": null,
   "metadata": {},
   "outputs": [],
   "source": []
  }
 ],
 "metadata": {
  "kernelspec": {
   "display_name": ".venv",
   "language": "python",
   "name": "python3"
  },
  "language_info": {
   "codemirror_mode": {
    "name": "ipython",
    "version": 3
   },
   "file_extension": ".py",
   "mimetype": "text/x-python",
   "name": "python",
   "nbconvert_exporter": "python",
   "pygments_lexer": "ipython3",
   "version": "3.10.12"
  },
  "orig_nbformat": 4
 },
 "nbformat": 4,
 "nbformat_minor": 2
}
