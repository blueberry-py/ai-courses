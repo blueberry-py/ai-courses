{
 "cells": [
  {
   "cell_type": "markdown",
   "metadata": {},
   "source": [
    "## Lesson 5: Human in the Loop\n",
    "\n",
    "https://learn.deeplearning.ai/courses/ai-agents-in-langgraph/lesson/6/human-in-the-loop"
   ]
  },
  {
   "cell_type": "code",
   "execution_count": 33,
   "metadata": {},
   "outputs": [],
   "source": [
    "import operator\n",
    "from typing import Annotated, TypedDict\n",
    "from uuid import uuid4\n",
    "\n",
    "from dotenv import find_dotenv, load_dotenv\n",
    "from langchain_community.tools.tavily_search import TavilySearchResults\n",
    "from langchain_core.messages import AnyMessage, HumanMessage, SystemMessage, ToolMessage\n",
    "from langchain_openai import ChatOpenAI\n",
    "from langgraph.checkpoint.sqlite import SqliteSaver\n",
    "from langgraph.graph import END, StateGraph"
   ]
  },
  {
   "cell_type": "code",
   "execution_count": 34,
   "metadata": {},
   "outputs": [],
   "source": [
    "load_dotenv(find_dotenv())\n",
    "\n",
    "MODEL = \"glm-4-air\"\n",
    "BASE_URL = \"https://open.bigmodel.cn/api/paas/v4/\""
   ]
  },
  {
   "cell_type": "code",
   "execution_count": 35,
   "metadata": {},
   "outputs": [],
   "source": [
    "memory = SqliteSaver.from_conn_string(\":memory:\")"
   ]
  },
  {
   "cell_type": "code",
   "execution_count": 36,
   "metadata": {},
   "outputs": [],
   "source": [
    "\"\"\"\n",
    "In previous examples we've annotated the `messages` state key\n",
    "with the default `operator.add` or `+` reducer, which always\n",
    "appends new messages to the end of the existing messages array.\n",
    "\n",
    "Now, to support replacing existing messages, we annotate the\n",
    "`messages` key with a customer reducer function, which replaces\n",
    "messages with the same `id`, and appends them otherwise.\n",
    "\"\"\"\n",
    "\n",
    "\n",
    "def reduce_messages(\n",
    "    left: list[AnyMessage], right: list[AnyMessage]\n",
    ") -> list[AnyMessage]:\n",
    "    for message in right:\n",
    "        if not message.id:\n",
    "            message.id = str(uuid4())\n",
    "\n",
    "    merged = left.copy()\n",
    "\n",
    "    for message in right:\n",
    "        for i, existing in enumerate(merged):\n",
    "            if message.id == existing.id:\n",
    "                merged[i] = message\n",
    "                break\n",
    "        else:\n",
    "            merged.append(message)\n",
    "\n",
    "    return merged\n",
    "\n",
    "\n",
    "class AgentState(TypedDict):\n",
    "    messages: Annotated[list[AnyMessage], reduce_messages]"
   ]
  },
  {
   "cell_type": "code",
   "execution_count": 37,
   "metadata": {},
   "outputs": [],
   "source": [
    "tool = TavilySearchResults(max_results=2)"
   ]
  },
  {
   "cell_type": "markdown",
   "metadata": {},
   "source": [
    "### Manual human approval"
   ]
  },
  {
   "cell_type": "code",
   "execution_count": 38,
   "metadata": {},
   "outputs": [],
   "source": [
    "class Agent:\n",
    "    def __init__(self, model, tools: list, system=\"\", checkpointer=None) -> None:\n",
    "        self.system = system\n",
    "\n",
    "        graph = StateGraph(state_schema=AgentState)\n",
    "        graph.add_node(node=\"llm\", action=self.call_openai)\n",
    "        graph.add_node(node=\"action\", action=self.take_action)\n",
    "        graph.add_conditional_edges(\n",
    "            source=\"llm\", path=self.exists_action, path_map={True: \"action\", False: END}\n",
    "        )\n",
    "        graph.add_edge(start_key=\"action\", end_key=\"llm\")\n",
    "        graph.set_entry_point(key=\"llm\")\n",
    "        self.graph = graph.compile(\n",
    "            checkpointer=checkpointer, interrupt_before=[\"action\"]\n",
    "        )\n",
    "\n",
    "        self.tools = {t.name: t for t in tools}\n",
    "        self.model = model.bind_tools(tools)\n",
    "\n",
    "    def call_openai(self, state: AgentState) -> dict:\n",
    "        messages = state[\"messages\"]\n",
    "\n",
    "        if self.system:\n",
    "            messages = [SystemMessage(content=self.system)] + messages\n",
    "\n",
    "        message = self.model.invoke(messages)\n",
    "\n",
    "        return {\"messages\": [message]}\n",
    "\n",
    "    def exists_action(self, state: AgentState) -> bool:\n",
    "        print(state)\n",
    "\n",
    "        result = state[\"messages\"][-1]\n",
    "        return len(result.tool_calls) > 0\n",
    "\n",
    "    def take_action(self, state: AgentState) -> dict:\n",
    "        tool_calls = state[\"messages\"][-1].tool_calls\n",
    "        results = []\n",
    "\n",
    "        for t in tool_calls:\n",
    "            print(f\"Calling tool: {t}\")\n",
    "\n",
    "            result = self.tools[t[\"name\"]].invoke(t[\"args\"])\n",
    "            results.append(\n",
    "                ToolMessage(tool_call_id=t[\"id\"], name=t[\"name\"], content=str(result))\n",
    "            )\n",
    "\n",
    "        print(\"Back to the Model!\")\n",
    "\n",
    "        return {\"messages\": results}"
   ]
  },
  {
   "cell_type": "code",
   "execution_count": 39,
   "metadata": {},
   "outputs": [],
   "source": [
    "prompt = \"\"\"You are a smart research assistant. Use the search engine to look up information. \\\n",
    "You are allowed to make multiple calls (either together or in sequence). \\\n",
    "Only look up information when you are sure of what you want. \\\n",
    "If you need to look up some information before asking a follow up question, you are allowed to do that!\n",
    "\"\"\""
   ]
  },
  {
   "cell_type": "code",
   "execution_count": 40,
   "metadata": {},
   "outputs": [],
   "source": [
    "model = ChatOpenAI(model=MODEL, base_url=BASE_URL)\n",
    "\n",
    "abot = Agent(model=model, tools=[tool], system=prompt, checkpointer=memory)"
   ]
  },
  {
   "cell_type": "code",
   "execution_count": 11,
   "metadata": {},
   "outputs": [
    {
     "name": "stdout",
     "output_type": "stream",
     "text": [
      "{'messages': [HumanMessage(content='What is the weather like in SF now?', id='acd7beb9-309b-44d6-b714-260084989e91'), AIMessage(content='', additional_kwargs={'tool_calls': [{'id': 'call_8726256029470882841', 'function': {'arguments': '{\"query\": \"San Francisco current weather\"}', 'name': 'tavily_search_results_json'}, 'type': 'function', 'index': 0}]}, response_metadata={'token_usage': {'completion_tokens': 17, 'prompt_tokens': 217, 'total_tokens': 234}, 'model_name': 'glm-4-air', 'system_fingerprint': None, 'finish_reason': 'tool_calls', 'logprobs': None}, id='run-98814db1-f259-4e90-9f95-acbfcbe6785f-0', tool_calls=[{'name': 'tavily_search_results_json', 'args': {'query': 'San Francisco current weather'}, 'id': 'call_8726256029470882841'}], usage_metadata={'input_tokens': 217, 'output_tokens': 17, 'total_tokens': 234})]}\n",
      "{'messages': [AIMessage(content='', additional_kwargs={'tool_calls': [{'id': 'call_8726256029470882841', 'function': {'arguments': '{\"query\": \"San Francisco current weather\"}', 'name': 'tavily_search_results_json'}, 'type': 'function', 'index': 0}]}, response_metadata={'token_usage': {'completion_tokens': 17, 'prompt_tokens': 217, 'total_tokens': 234}, 'model_name': 'glm-4-air', 'system_fingerprint': None, 'finish_reason': 'tool_calls', 'logprobs': None}, id='run-98814db1-f259-4e90-9f95-acbfcbe6785f-0', tool_calls=[{'name': 'tavily_search_results_json', 'args': {'query': 'San Francisco current weather'}, 'id': 'call_8726256029470882841'}], usage_metadata={'input_tokens': 217, 'output_tokens': 17, 'total_tokens': 234})]}\n"
     ]
    }
   ],
   "source": [
    "messages = [HumanMessage(content=\"What is the weather like in SF now?\")]\n",
    "\n",
    "thread = {\"configurable\": {\"thread_id\": 1}}\n",
    "\n",
    "for event in abot.graph.stream({\"messages\": messages}, thread):\n",
    "    for v in event.values():\n",
    "        print(v)"
   ]
  },
  {
   "cell_type": "code",
   "execution_count": 12,
   "metadata": {},
   "outputs": [
    {
     "data": {
      "text/plain": [
       "StateSnapshot(values={'messages': [HumanMessage(content='What is the weather like in SF now?', id='acd7beb9-309b-44d6-b714-260084989e91'), AIMessage(content='', additional_kwargs={'tool_calls': [{'id': 'call_8726256029470882841', 'function': {'arguments': '{\"query\": \"San Francisco current weather\"}', 'name': 'tavily_search_results_json'}, 'type': 'function', 'index': 0}]}, response_metadata={'token_usage': {'completion_tokens': 17, 'prompt_tokens': 217, 'total_tokens': 234}, 'model_name': 'glm-4-air', 'system_fingerprint': None, 'finish_reason': 'tool_calls', 'logprobs': None}, id='run-98814db1-f259-4e90-9f95-acbfcbe6785f-0', tool_calls=[{'name': 'tavily_search_results_json', 'args': {'query': 'San Francisco current weather'}, 'id': 'call_8726256029470882841'}], usage_metadata={'input_tokens': 217, 'output_tokens': 17, 'total_tokens': 234})]}, next=('action',), config={'configurable': {'thread_id': '1', 'thread_ts': '1ef2490a-7cf3-67c8-8001-d31d5aadf34d'}}, metadata={'source': 'loop', 'step': 1, 'writes': {'llm': {'messages': [AIMessage(content='', additional_kwargs={'tool_calls': [{'id': 'call_8726256029470882841', 'function': {'arguments': '{\"query\": \"San Francisco current weather\"}', 'name': 'tavily_search_results_json'}, 'type': 'function', 'index': 0}]}, response_metadata={'token_usage': {'completion_tokens': 17, 'prompt_tokens': 217, 'total_tokens': 234}, 'model_name': 'glm-4-air', 'system_fingerprint': None, 'finish_reason': 'tool_calls', 'logprobs': None}, id='run-98814db1-f259-4e90-9f95-acbfcbe6785f-0', tool_calls=[{'name': 'tavily_search_results_json', 'args': {'query': 'San Francisco current weather'}, 'id': 'call_8726256029470882841'}], usage_metadata={'input_tokens': 217, 'output_tokens': 17, 'total_tokens': 234})]}}}, created_at='2024-06-07T05:41:58.104046+00:00', parent_config={'configurable': {'thread_id': '1', 'thread_ts': '1ef2490a-73f3-657c-8000-339296a37fb4'}})"
      ]
     },
     "execution_count": 12,
     "metadata": {},
     "output_type": "execute_result"
    }
   ],
   "source": [
    "abot.graph.get_state(thread)"
   ]
  },
  {
   "cell_type": "code",
   "execution_count": 13,
   "metadata": {},
   "outputs": [
    {
     "data": {
      "text/plain": [
       "('action',)"
      ]
     },
     "execution_count": 13,
     "metadata": {},
     "output_type": "execute_result"
    }
   ],
   "source": [
    "abot.graph.get_state(thread).next"
   ]
  },
  {
   "cell_type": "markdown",
   "metadata": {},
   "source": [
    "### continue after interrupt"
   ]
  },
  {
   "cell_type": "code",
   "execution_count": 14,
   "metadata": {},
   "outputs": [
    {
     "name": "stdout",
     "output_type": "stream",
     "text": [
      "Calling tool: {'name': 'tavily_search_results_json', 'args': {'query': 'San Francisco current weather'}, 'id': 'call_8726256029470882841'}\n",
      "Back to the Model!\n",
      "{'messages': [ToolMessage(content='[{\\'url\\': \\'https://www.weatherapi.com/\\', \\'content\\': \"{\\'location\\': {\\'name\\': \\'San Francisco\\', \\'region\\': \\'California\\', \\'country\\': \\'United States of America\\', \\'lat\\': 37.78, \\'lon\\': -122.42, \\'tz_id\\': \\'America/Los_Angeles\\', \\'localtime_epoch\\': 1717739013, \\'localtime\\': \\'2024-06-06 22:43\\'}, \\'current\\': {\\'last_updated_epoch\\': 1717738200, \\'last_updated\\': \\'2024-06-06 22:30\\', \\'temp_c\\': 13.3, \\'temp_f\\': 55.9, \\'is_day\\': 0, \\'condition\\': {\\'text\\': \\'Clear\\', \\'icon\\': \\'//cdn.weatherapi.com/weather/64x64/night/113.png\\', \\'code\\': 1000}, \\'wind_mph\\': 8.1, \\'wind_kph\\': 13.0, \\'wind_degree\\': 310, \\'wind_dir\\': \\'NW\\', \\'pressure_mb\\': 1011.0, \\'pressure_in\\': 29.84, \\'precip_mm\\': 0.0, \\'precip_in\\': 0.0, \\'humidity\\': 93, \\'cloud\\': 0, \\'feelslike_c\\': 12.1, \\'feelslike_f\\': 53.7, \\'windchill_c\\': 10.6, \\'windchill_f\\': 51.1, \\'heatindex_c\\': 12.2, \\'heatindex_f\\': 53.9, \\'dewpoint_c\\': 9.6, \\'dewpoint_f\\': 49.3, \\'vis_km\\': 14.0, \\'vis_miles\\': 8.0, \\'uv\\': 1.0, \\'gust_mph\\': 13.4, \\'gust_kph\\': 21.5}}\"}, {\\'url\\': \\'https://www.weathertab.com/en/c/e/07/united-states/california/san-francisco/\\', \\'content\\': \\'Temperature Forecast Normal. Avg High Temps 60 to 70 °F. Avg Low Temps 45 to 60 °F. Explore comprehensive July 2024 weather forecasts for San Francisco, including daily high and low temperatures, precipitation risks, and monthly temperature trends. Featuring detailed day-by-day forecasts, dynamic graphs of daily rain probabilities, and ...\\'}]', name='tavily_search_results_json', tool_call_id='call_8726256029470882841')]}\n",
      "{'messages': [HumanMessage(content='What is the weather like in SF now?', id='acd7beb9-309b-44d6-b714-260084989e91'), AIMessage(content='', additional_kwargs={'tool_calls': [{'id': 'call_8726256029470882841', 'function': {'arguments': '{\"query\": \"San Francisco current weather\"}', 'name': 'tavily_search_results_json'}, 'type': 'function', 'index': 0}]}, response_metadata={'token_usage': {'completion_tokens': 17, 'prompt_tokens': 217, 'total_tokens': 234}, 'model_name': 'glm-4-air', 'system_fingerprint': None, 'finish_reason': 'tool_calls', 'logprobs': None}, id='run-98814db1-f259-4e90-9f95-acbfcbe6785f-0', tool_calls=[{'name': 'tavily_search_results_json', 'args': {'query': 'San Francisco current weather'}, 'id': 'call_8726256029470882841'}], usage_metadata={'input_tokens': 217, 'output_tokens': 17, 'total_tokens': 234}), ToolMessage(content='[{\\'url\\': \\'https://www.weatherapi.com/\\', \\'content\\': \"{\\'location\\': {\\'name\\': \\'San Francisco\\', \\'region\\': \\'California\\', \\'country\\': \\'United States of America\\', \\'lat\\': 37.78, \\'lon\\': -122.42, \\'tz_id\\': \\'America/Los_Angeles\\', \\'localtime_epoch\\': 1717739013, \\'localtime\\': \\'2024-06-06 22:43\\'}, \\'current\\': {\\'last_updated_epoch\\': 1717738200, \\'last_updated\\': \\'2024-06-06 22:30\\', \\'temp_c\\': 13.3, \\'temp_f\\': 55.9, \\'is_day\\': 0, \\'condition\\': {\\'text\\': \\'Clear\\', \\'icon\\': \\'//cdn.weatherapi.com/weather/64x64/night/113.png\\', \\'code\\': 1000}, \\'wind_mph\\': 8.1, \\'wind_kph\\': 13.0, \\'wind_degree\\': 310, \\'wind_dir\\': \\'NW\\', \\'pressure_mb\\': 1011.0, \\'pressure_in\\': 29.84, \\'precip_mm\\': 0.0, \\'precip_in\\': 0.0, \\'humidity\\': 93, \\'cloud\\': 0, \\'feelslike_c\\': 12.1, \\'feelslike_f\\': 53.7, \\'windchill_c\\': 10.6, \\'windchill_f\\': 51.1, \\'heatindex_c\\': 12.2, \\'heatindex_f\\': 53.9, \\'dewpoint_c\\': 9.6, \\'dewpoint_f\\': 49.3, \\'vis_km\\': 14.0, \\'vis_miles\\': 8.0, \\'uv\\': 1.0, \\'gust_mph\\': 13.4, \\'gust_kph\\': 21.5}}\"}, {\\'url\\': \\'https://www.weathertab.com/en/c/e/07/united-states/california/san-francisco/\\', \\'content\\': \\'Temperature Forecast Normal. Avg High Temps 60 to 70 °F. Avg Low Temps 45 to 60 °F. Explore comprehensive July 2024 weather forecasts for San Francisco, including daily high and low temperatures, precipitation risks, and monthly temperature trends. Featuring detailed day-by-day forecasts, dynamic graphs of daily rain probabilities, and ...\\'}]', name='tavily_search_results_json', id='e3812d76-045b-4103-a950-607c5912ede3', tool_call_id='call_8726256029470882841'), AIMessage(content='The current weather in San Francisco is clear with a temperature of 13.3°C (55.9°F). The wind is blowing from the northwest at 8.1 mph (13.0 kph), and the humidity is 93%. The windchill is 10.6°C (51.1°F).', response_metadata={'token_usage': {'completion_tokens': 68, 'prompt_tokens': 756, 'total_tokens': 824}, 'model_name': 'glm-4-air', 'system_fingerprint': None, 'finish_reason': 'stop', 'logprobs': None}, id='run-277088f1-efad-4013-a754-b5126efb0094-0', usage_metadata={'input_tokens': 756, 'output_tokens': 68, 'total_tokens': 824})]}\n",
      "{'messages': [AIMessage(content='The current weather in San Francisco is clear with a temperature of 13.3°C (55.9°F). The wind is blowing from the northwest at 8.1 mph (13.0 kph), and the humidity is 93%. The windchill is 10.6°C (51.1°F).', response_metadata={'token_usage': {'completion_tokens': 68, 'prompt_tokens': 756, 'total_tokens': 824}, 'model_name': 'glm-4-air', 'system_fingerprint': None, 'finish_reason': 'stop', 'logprobs': None}, id='run-277088f1-efad-4013-a754-b5126efb0094-0', usage_metadata={'input_tokens': 756, 'output_tokens': 68, 'total_tokens': 824})]}\n"
     ]
    }
   ],
   "source": [
    "for event in abot.graph.stream(None, thread):\n",
    "    for v in event.values():\n",
    "        print(v)"
   ]
  },
  {
   "cell_type": "code",
   "execution_count": 15,
   "metadata": {},
   "outputs": [
    {
     "data": {
      "text/plain": [
       "StateSnapshot(values={'messages': [HumanMessage(content='What is the weather like in SF now?', id='acd7beb9-309b-44d6-b714-260084989e91'), AIMessage(content='', additional_kwargs={'tool_calls': [{'id': 'call_8726256029470882841', 'function': {'arguments': '{\"query\": \"San Francisco current weather\"}', 'name': 'tavily_search_results_json'}, 'type': 'function', 'index': 0}]}, response_metadata={'token_usage': {'completion_tokens': 17, 'prompt_tokens': 217, 'total_tokens': 234}, 'model_name': 'glm-4-air', 'system_fingerprint': None, 'finish_reason': 'tool_calls', 'logprobs': None}, id='run-98814db1-f259-4e90-9f95-acbfcbe6785f-0', tool_calls=[{'name': 'tavily_search_results_json', 'args': {'query': 'San Francisco current weather'}, 'id': 'call_8726256029470882841'}], usage_metadata={'input_tokens': 217, 'output_tokens': 17, 'total_tokens': 234}), ToolMessage(content='[{\\'url\\': \\'https://www.weatherapi.com/\\', \\'content\\': \"{\\'location\\': {\\'name\\': \\'San Francisco\\', \\'region\\': \\'California\\', \\'country\\': \\'United States of America\\', \\'lat\\': 37.78, \\'lon\\': -122.42, \\'tz_id\\': \\'America/Los_Angeles\\', \\'localtime_epoch\\': 1717739013, \\'localtime\\': \\'2024-06-06 22:43\\'}, \\'current\\': {\\'last_updated_epoch\\': 1717738200, \\'last_updated\\': \\'2024-06-06 22:30\\', \\'temp_c\\': 13.3, \\'temp_f\\': 55.9, \\'is_day\\': 0, \\'condition\\': {\\'text\\': \\'Clear\\', \\'icon\\': \\'//cdn.weatherapi.com/weather/64x64/night/113.png\\', \\'code\\': 1000}, \\'wind_mph\\': 8.1, \\'wind_kph\\': 13.0, \\'wind_degree\\': 310, \\'wind_dir\\': \\'NW\\', \\'pressure_mb\\': 1011.0, \\'pressure_in\\': 29.84, \\'precip_mm\\': 0.0, \\'precip_in\\': 0.0, \\'humidity\\': 93, \\'cloud\\': 0, \\'feelslike_c\\': 12.1, \\'feelslike_f\\': 53.7, \\'windchill_c\\': 10.6, \\'windchill_f\\': 51.1, \\'heatindex_c\\': 12.2, \\'heatindex_f\\': 53.9, \\'dewpoint_c\\': 9.6, \\'dewpoint_f\\': 49.3, \\'vis_km\\': 14.0, \\'vis_miles\\': 8.0, \\'uv\\': 1.0, \\'gust_mph\\': 13.4, \\'gust_kph\\': 21.5}}\"}, {\\'url\\': \\'https://www.weathertab.com/en/c/e/07/united-states/california/san-francisco/\\', \\'content\\': \\'Temperature Forecast Normal. Avg High Temps 60 to 70 °F. Avg Low Temps 45 to 60 °F. Explore comprehensive July 2024 weather forecasts for San Francisco, including daily high and low temperatures, precipitation risks, and monthly temperature trends. Featuring detailed day-by-day forecasts, dynamic graphs of daily rain probabilities, and ...\\'}]', name='tavily_search_results_json', id='e3812d76-045b-4103-a950-607c5912ede3', tool_call_id='call_8726256029470882841'), AIMessage(content='The current weather in San Francisco is clear with a temperature of 13.3°C (55.9°F). The wind is blowing from the northwest at 8.1 mph (13.0 kph), and the humidity is 93%. The windchill is 10.6°C (51.1°F).', response_metadata={'token_usage': {'completion_tokens': 68, 'prompt_tokens': 756, 'total_tokens': 824}, 'model_name': 'glm-4-air', 'system_fingerprint': None, 'finish_reason': 'stop', 'logprobs': None}, id='run-277088f1-efad-4013-a754-b5126efb0094-0', usage_metadata={'input_tokens': 756, 'output_tokens': 68, 'total_tokens': 824})]}, next=(), config={'configurable': {'thread_id': '1', 'thread_ts': '1ef2490f-8f75-6233-8003-0256b0f851f8'}}, metadata={'source': 'loop', 'step': 3, 'writes': {'llm': {'messages': [AIMessage(content='The current weather in San Francisco is clear with a temperature of 13.3°C (55.9°F). The wind is blowing from the northwest at 8.1 mph (13.0 kph), and the humidity is 93%. The windchill is 10.6°C (51.1°F).', response_metadata={'token_usage': {'completion_tokens': 68, 'prompt_tokens': 756, 'total_tokens': 824}, 'model_name': 'glm-4-air', 'system_fingerprint': None, 'finish_reason': 'stop', 'logprobs': None}, id='run-277088f1-efad-4013-a754-b5126efb0094-0', usage_metadata={'input_tokens': 756, 'output_tokens': 68, 'total_tokens': 824})]}}}, created_at='2024-06-07T05:44:14.262316+00:00', parent_config={'configurable': {'thread_id': '1', 'thread_ts': '1ef2490f-78fd-6d0d-8002-251e45dee824'}})"
      ]
     },
     "execution_count": 15,
     "metadata": {},
     "output_type": "execute_result"
    }
   ],
   "source": [
    "abot.graph.get_state(thread)"
   ]
  },
  {
   "cell_type": "code",
   "execution_count": 16,
   "metadata": {},
   "outputs": [
    {
     "data": {
      "text/plain": [
       "()"
      ]
     },
     "execution_count": 16,
     "metadata": {},
     "output_type": "execute_result"
    }
   ],
   "source": [
    "abot.graph.get_state(thread).next"
   ]
  },
  {
   "cell_type": "code",
   "execution_count": 18,
   "metadata": {},
   "outputs": [
    {
     "name": "stdout",
     "output_type": "stream",
     "text": [
      "{'messages': [HumanMessage(content='What is the weather like in LA now?', id='b89dbc41-2c8b-44d4-97c8-01fe94c1e734'), HumanMessage(content='What is the weather like in LA now?', id='ad63ff78-1b77-4953-a012-f5ef7a0da637'), AIMessage(content='', additional_kwargs={'tool_calls': [{'id': 'call_8726260083920209225', 'function': {'arguments': '{\"query\": \"LA current weather\"}', 'name': 'tavily_search_results_json'}, 'type': 'function', 'index': 0}]}, response_metadata={'token_usage': {'completion_tokens': 16, 'prompt_tokens': 228, 'total_tokens': 244}, 'model_name': 'glm-4-air', 'system_fingerprint': None, 'finish_reason': 'tool_calls', 'logprobs': None}, id='run-d17f39c4-ec69-4975-b8b5-904038028106-0', tool_calls=[{'name': 'tavily_search_results_json', 'args': {'query': 'LA current weather'}, 'id': 'call_8726260083920209225'}], usage_metadata={'input_tokens': 228, 'output_tokens': 16, 'total_tokens': 244})]}\n",
      "{'messages': [AIMessage(content='', additional_kwargs={'tool_calls': [{'id': 'call_8726260083920209225', 'function': {'arguments': '{\"query\": \"LA current weather\"}', 'name': 'tavily_search_results_json'}, 'type': 'function', 'index': 0}]}, response_metadata={'token_usage': {'completion_tokens': 16, 'prompt_tokens': 228, 'total_tokens': 244}, 'model_name': 'glm-4-air', 'system_fingerprint': None, 'finish_reason': 'tool_calls', 'logprobs': None}, id='run-d17f39c4-ec69-4975-b8b5-904038028106-0', tool_calls=[{'name': 'tavily_search_results_json', 'args': {'query': 'LA current weather'}, 'id': 'call_8726260083920209225'}], usage_metadata={'input_tokens': 228, 'output_tokens': 16, 'total_tokens': 244})]}\n"
     ]
    }
   ],
   "source": [
    "messages = [HumanMessage(content=\"What is the weather like in LA now?\")]\n",
    "\n",
    "thread = {\"configurable\": {\"thread_id\": 2}}\n",
    "\n",
    "for event in abot.graph.stream({\"messages\": messages}, thread):\n",
    "    for v in event.values():\n",
    "        print(v)"
   ]
  },
  {
   "cell_type": "code",
   "execution_count": 19,
   "metadata": {},
   "outputs": [
    {
     "name": "stdout",
     "output_type": "stream",
     "text": [
      "\n",
      " StateSnapshot(values={'messages': [HumanMessage(content='What is the weather like in LA now?', id='b89dbc41-2c8b-44d4-97c8-01fe94c1e734'), HumanMessage(content='What is the weather like in LA now?', id='ad63ff78-1b77-4953-a012-f5ef7a0da637'), AIMessage(content='', additional_kwargs={'tool_calls': [{'id': 'call_8726260083920209225', 'function': {'arguments': '{\"query\": \"LA current weather\"}', 'name': 'tavily_search_results_json'}, 'type': 'function', 'index': 0}]}, response_metadata={'token_usage': {'completion_tokens': 16, 'prompt_tokens': 228, 'total_tokens': 244}, 'model_name': 'glm-4-air', 'system_fingerprint': None, 'finish_reason': 'tool_calls', 'logprobs': None}, id='run-d17f39c4-ec69-4975-b8b5-904038028106-0', tool_calls=[{'name': 'tavily_search_results_json', 'args': {'query': 'LA current weather'}, 'id': 'call_8726260083920209225'}], usage_metadata={'input_tokens': 228, 'output_tokens': 16, 'total_tokens': 244})]}, next=('action',), config={'configurable': {'thread_id': '2', 'thread_ts': '1ef24913-f08f-6bc7-8003-e03b2fc85a54'}}, metadata={'source': 'loop', 'step': 3, 'writes': {'llm': {'messages': [AIMessage(content='', additional_kwargs={'tool_calls': [{'id': 'call_8726260083920209225', 'function': {'arguments': '{\"query\": \"LA current weather\"}', 'name': 'tavily_search_results_json'}, 'type': 'function', 'index': 0}]}, response_metadata={'token_usage': {'completion_tokens': 16, 'prompt_tokens': 228, 'total_tokens': 244}, 'model_name': 'glm-4-air', 'system_fingerprint': None, 'finish_reason': 'tool_calls', 'logprobs': None}, id='run-d17f39c4-ec69-4975-b8b5-904038028106-0', tool_calls=[{'name': 'tavily_search_results_json', 'args': {'query': 'LA current weather'}, 'id': 'call_8726260083920209225'}], usage_metadata={'input_tokens': 228, 'output_tokens': 16, 'total_tokens': 244})]}}}, created_at='2024-06-07T05:46:11.818580+00:00', parent_config={'configurable': {'thread_id': '2', 'thread_ts': '1ef24913-e8d7-6a36-8002-7f50fce6ed0f'}}) \n",
      "\n",
      "Calling tool: {'name': 'tavily_search_results_json', 'args': {'query': 'LA current weather'}, 'id': 'call_8726260083920209225'}\n",
      "Back to the Model!\n",
      "{'messages': [ToolMessage(content='[{\\'url\\': \\'https://www.weatherapi.com/\\', \\'content\\': \"{\\'location\\': {\\'name\\': \\'Los Angeles\\', \\'region\\': \\'California\\', \\'country\\': \\'United States of America\\', \\'lat\\': 34.05, \\'lon\\': -118.24, \\'tz_id\\': \\'America/Los_Angeles\\', \\'localtime_epoch\\': 1717739326, \\'localtime\\': \\'2024-06-06 22:48\\'}, \\'current\\': {\\'last_updated_epoch\\': 1717739100, \\'last_updated\\': \\'2024-06-06 22:45\\', \\'temp_c\\': 16.7, \\'temp_f\\': 62.1, \\'is_day\\': 0, \\'condition\\': {\\'text\\': \\'Overcast\\', \\'icon\\': \\'//cdn.weatherapi.com/weather/64x64/night/122.png\\', \\'code\\': 1009}, \\'wind_mph\\': 2.2, \\'wind_kph\\': 3.6, \\'wind_degree\\': 216, \\'wind_dir\\': \\'SW\\', \\'pressure_mb\\': 1012.0, \\'pressure_in\\': 29.88, \\'precip_mm\\': 0.0, \\'precip_in\\': 0.0, \\'humidity\\': 90, \\'cloud\\': 100, \\'feelslike_c\\': 16.7, \\'feelslike_f\\': 62.1, \\'windchill_c\\': 19.9, \\'windchill_f\\': 67.9, \\'heatindex_c\\': 20.2, \\'heatindex_f\\': 68.4, \\'dewpoint_c\\': 14.7, \\'dewpoint_f\\': 58.4, \\'vis_km\\': 14.0, \\'vis_miles\\': 8.0, \\'uv\\': 1.0, \\'gust_mph\\': 6.2, \\'gust_kph\\': 10.0}}\"}, {\\'url\\': \\'https://forecast.weather.gov/zipcity.php?inputstring=Los Angeles,CA\\', \\'content\\': \\'Los Angeles CA 34.05°N 118.25°W (Elev. 377 ft) Last Update: 2:17 pm PDT Jun 5, 2024. Forecast Valid: 7pm PDT Jun 5, 2024-6pm PDT Jun 12, 2024 . Forecast Discussion . Additional Resources. Radar & Satellite Image. Hourly Weather Forecast. ... Severe Weather ; Current Outlook Maps ; Drought ; Fire Weather ; Fronts/Precipitation Maps ; Current ...\\'}]', name='tavily_search_results_json', tool_call_id='call_8726260083920209225')]}\n",
      "{'messages': [HumanMessage(content='What is the weather like in LA now?', id='b89dbc41-2c8b-44d4-97c8-01fe94c1e734'), HumanMessage(content='What is the weather like in LA now?', id='ad63ff78-1b77-4953-a012-f5ef7a0da637'), AIMessage(content='', additional_kwargs={'tool_calls': [{'id': 'call_8726260083920209225', 'function': {'arguments': '{\"query\": \"LA current weather\"}', 'name': 'tavily_search_results_json'}, 'type': 'function', 'index': 0}]}, response_metadata={'token_usage': {'completion_tokens': 16, 'prompt_tokens': 228, 'total_tokens': 244}, 'model_name': 'glm-4-air', 'system_fingerprint': None, 'finish_reason': 'tool_calls', 'logprobs': None}, id='run-d17f39c4-ec69-4975-b8b5-904038028106-0', tool_calls=[{'name': 'tavily_search_results_json', 'args': {'query': 'LA current weather'}, 'id': 'call_8726260083920209225'}], usage_metadata={'input_tokens': 228, 'output_tokens': 16, 'total_tokens': 244}), ToolMessage(content='[{\\'url\\': \\'https://www.weatherapi.com/\\', \\'content\\': \"{\\'location\\': {\\'name\\': \\'Los Angeles\\', \\'region\\': \\'California\\', \\'country\\': \\'United States of America\\', \\'lat\\': 34.05, \\'lon\\': -118.24, \\'tz_id\\': \\'America/Los_Angeles\\', \\'localtime_epoch\\': 1717739326, \\'localtime\\': \\'2024-06-06 22:48\\'}, \\'current\\': {\\'last_updated_epoch\\': 1717739100, \\'last_updated\\': \\'2024-06-06 22:45\\', \\'temp_c\\': 16.7, \\'temp_f\\': 62.1, \\'is_day\\': 0, \\'condition\\': {\\'text\\': \\'Overcast\\', \\'icon\\': \\'//cdn.weatherapi.com/weather/64x64/night/122.png\\', \\'code\\': 1009}, \\'wind_mph\\': 2.2, \\'wind_kph\\': 3.6, \\'wind_degree\\': 216, \\'wind_dir\\': \\'SW\\', \\'pressure_mb\\': 1012.0, \\'pressure_in\\': 29.88, \\'precip_mm\\': 0.0, \\'precip_in\\': 0.0, \\'humidity\\': 90, \\'cloud\\': 100, \\'feelslike_c\\': 16.7, \\'feelslike_f\\': 62.1, \\'windchill_c\\': 19.9, \\'windchill_f\\': 67.9, \\'heatindex_c\\': 20.2, \\'heatindex_f\\': 68.4, \\'dewpoint_c\\': 14.7, \\'dewpoint_f\\': 58.4, \\'vis_km\\': 14.0, \\'vis_miles\\': 8.0, \\'uv\\': 1.0, \\'gust_mph\\': 6.2, \\'gust_kph\\': 10.0}}\"}, {\\'url\\': \\'https://forecast.weather.gov/zipcity.php?inputstring=Los Angeles,CA\\', \\'content\\': \\'Los Angeles CA 34.05°N 118.25°W (Elev. 377 ft) Last Update: 2:17 pm PDT Jun 5, 2024. Forecast Valid: 7pm PDT Jun 5, 2024-6pm PDT Jun 12, 2024 . Forecast Discussion . Additional Resources. Radar & Satellite Image. Hourly Weather Forecast. ... Severe Weather ; Current Outlook Maps ; Drought ; Fire Weather ; Fronts/Precipitation Maps ; Current ...\\'}]', name='tavily_search_results_json', id='68c19581-5bc2-4760-93a8-9d6e8b406caa', tool_call_id='call_8726260083920209225'), AIMessage(content='The current weather in Los Angeles is overcast with a temperature of 62.1°F (16.7°C). The wind is blowing from the southwest at 2.2 mph (3.6 km/h), and the humidity is 90%. There is no precipitation at the moment.', response_metadata={'token_usage': {'completion_tokens': 61, 'prompt_tokens': 798, 'total_tokens': 859}, 'model_name': 'glm-4-air', 'system_fingerprint': None, 'finish_reason': 'stop', 'logprobs': None}, id='run-c2a8f33f-123b-412a-a7a3-73a040d8d3ce-0', usage_metadata={'input_tokens': 798, 'output_tokens': 61, 'total_tokens': 859})]}\n",
      "{'messages': [AIMessage(content='The current weather in Los Angeles is overcast with a temperature of 62.1°F (16.7°C). The wind is blowing from the southwest at 2.2 mph (3.6 km/h), and the humidity is 90%. There is no precipitation at the moment.', response_metadata={'token_usage': {'completion_tokens': 61, 'prompt_tokens': 798, 'total_tokens': 859}, 'model_name': 'glm-4-air', 'system_fingerprint': None, 'finish_reason': 'stop', 'logprobs': None}, id='run-c2a8f33f-123b-412a-a7a3-73a040d8d3ce-0', usage_metadata={'input_tokens': 798, 'output_tokens': 61, 'total_tokens': 859})]}\n"
     ]
    }
   ],
   "source": [
    "while abot.graph.get_state(thread).next:\n",
    "    print(\"\\n\", abot.graph.get_state(thread), \"\\n\")\n",
    "\n",
    "    _input = input(\"Proceed?\")\n",
    "\n",
    "    if _input != \"y\":\n",
    "        print(\"Bye!\")\n",
    "        break\n",
    "\n",
    "    for event in abot.graph.stream(None, thread):\n",
    "        for v in event.values():\n",
    "            print(v)"
   ]
  },
  {
   "cell_type": "markdown",
   "metadata": {},
   "source": [
    "### Modify State\n",
    "\n",
    "Run until the interrupt and then modify the state."
   ]
  },
  {
   "cell_type": "code",
   "execution_count": 41,
   "metadata": {},
   "outputs": [
    {
     "name": "stdout",
     "output_type": "stream",
     "text": [
      "{'messages': [HumanMessage(content='What is the weather like in LA now?', id='87141516-c120-4c37-9d1c-aba077de68cf'), AIMessage(content='', additional_kwargs={'tool_calls': [{'id': 'call_8726256235629355699', 'function': {'arguments': '{\"query\": \"current weather in Los Angeles\"}', 'name': 'tavily_search_results_json'}, 'type': 'function', 'index': 0}]}, response_metadata={'token_usage': {'completion_tokens': 18, 'prompt_tokens': 217, 'total_tokens': 235}, 'model_name': 'glm-4-air', 'system_fingerprint': None, 'finish_reason': 'tool_calls', 'logprobs': None}, id='run-7433f4af-3e19-44a6-928c-337cc9fff2f2-0', tool_calls=[{'name': 'tavily_search_results_json', 'args': {'query': 'current weather in Los Angeles'}, 'id': 'call_8726256235629355699'}], usage_metadata={'input_tokens': 217, 'output_tokens': 18, 'total_tokens': 235})]}\n",
      "{'messages': [AIMessage(content='', additional_kwargs={'tool_calls': [{'id': 'call_8726256235629355699', 'function': {'arguments': '{\"query\": \"current weather in Los Angeles\"}', 'name': 'tavily_search_results_json'}, 'type': 'function', 'index': 0}]}, response_metadata={'token_usage': {'completion_tokens': 18, 'prompt_tokens': 217, 'total_tokens': 235}, 'model_name': 'glm-4-air', 'system_fingerprint': None, 'finish_reason': 'tool_calls', 'logprobs': None}, id='run-7433f4af-3e19-44a6-928c-337cc9fff2f2-0', tool_calls=[{'name': 'tavily_search_results_json', 'args': {'query': 'current weather in Los Angeles'}, 'id': 'call_8726256235629355699'}], usage_metadata={'input_tokens': 217, 'output_tokens': 18, 'total_tokens': 235})]}\n"
     ]
    }
   ],
   "source": [
    "messages = [HumanMessage(content=\"What is the weather like in LA now?\")]\n",
    "\n",
    "thread = {\"configurable\": {\"thread_id\": 3}}\n",
    "\n",
    "for event in abot.graph.stream({\"messages\": messages}, thread):\n",
    "    for v in event.values():\n",
    "        print(v)"
   ]
  },
  {
   "cell_type": "code",
   "execution_count": 42,
   "metadata": {},
   "outputs": [],
   "source": [
    "current_values = abot.graph.get_state(thread)"
   ]
  },
  {
   "cell_type": "code",
   "execution_count": 43,
   "metadata": {},
   "outputs": [
    {
     "data": {
      "text/plain": [
       "[{'name': 'tavily_search_results_json',\n",
       "  'args': {'query': 'current weather in Los Angeles'},\n",
       "  'id': 'call_8726256235629355699'}]"
      ]
     },
     "execution_count": 43,
     "metadata": {},
     "output_type": "execute_result"
    }
   ],
   "source": [
    "current_values.values[\"messages\"][-1].tool_calls"
   ]
  },
  {
   "cell_type": "code",
   "execution_count": 44,
   "metadata": {},
   "outputs": [],
   "source": [
    "_id = current_values.values[\"messages\"][-1].tool_calls[0][\"id\"]\n",
    "\n",
    "current_values.values[\"messages\"][-1].tool_calls = [\n",
    "    {\n",
    "        \"name\": \"tavily_search_results_json\",\n",
    "        \"args\": {\"query\": \"current weather in Louisiana\"},\n",
    "        \"id\": _id,\n",
    "    }\n",
    "]"
   ]
  },
  {
   "cell_type": "code",
   "execution_count": 45,
   "metadata": {},
   "outputs": [
    {
     "name": "stdout",
     "output_type": "stream",
     "text": [
      "{'messages': [HumanMessage(content='What is the weather like in LA now?', id='87141516-c120-4c37-9d1c-aba077de68cf'), AIMessage(content='', additional_kwargs={'tool_calls': [{'id': 'call_8726256235629355699', 'function': {'arguments': '{\"query\": \"current weather in Los Angeles\"}', 'name': 'tavily_search_results_json'}, 'type': 'function', 'index': 0}]}, response_metadata={'token_usage': {'completion_tokens': 18, 'prompt_tokens': 217, 'total_tokens': 235}, 'model_name': 'glm-4-air', 'system_fingerprint': None, 'finish_reason': 'tool_calls', 'logprobs': None}, id='run-7433f4af-3e19-44a6-928c-337cc9fff2f2-0', tool_calls=[{'name': 'tavily_search_results_json', 'args': {'query': 'current weather in Louisiana'}, 'id': 'call_8726256235629355699'}], usage_metadata={'input_tokens': 217, 'output_tokens': 18, 'total_tokens': 235})]}\n"
     ]
    },
    {
     "data": {
      "text/plain": [
       "{'configurable': {'thread_id': '3',\n",
       "  'thread_ts': '1ef24b26-a960-65e7-8002-e7d0018028b3'}}"
      ]
     },
     "execution_count": 45,
     "metadata": {},
     "output_type": "execute_result"
    }
   ],
   "source": [
    "abot.graph.update_state(thread, current_values.values)"
   ]
  },
  {
   "cell_type": "code",
   "execution_count": 46,
   "metadata": {},
   "outputs": [
    {
     "data": {
      "text/plain": [
       "StateSnapshot(values={'messages': [HumanMessage(content='What is the weather like in LA now?', id='87141516-c120-4c37-9d1c-aba077de68cf'), AIMessage(content='', additional_kwargs={'tool_calls': [{'id': 'call_8726256235629355699', 'function': {'arguments': '{\"query\": \"current weather in Los Angeles\"}', 'name': 'tavily_search_results_json'}, 'type': 'function', 'index': 0}]}, response_metadata={'token_usage': {'completion_tokens': 18, 'prompt_tokens': 217, 'total_tokens': 235}, 'model_name': 'glm-4-air', 'system_fingerprint': None, 'finish_reason': 'tool_calls', 'logprobs': None}, id='run-7433f4af-3e19-44a6-928c-337cc9fff2f2-0', tool_calls=[{'name': 'tavily_search_results_json', 'args': {'query': 'current weather in Louisiana'}, 'id': 'call_8726256235629355699'}], usage_metadata={'input_tokens': 217, 'output_tokens': 18, 'total_tokens': 235})]}, next=('action',), config={'configurable': {'thread_id': '3', 'thread_ts': '1ef24b26-a960-65e7-8002-e7d0018028b3'}}, metadata={'source': 'update', 'step': 2, 'writes': {'llm': {'messages': [HumanMessage(content='What is the weather like in LA now?', id='87141516-c120-4c37-9d1c-aba077de68cf'), AIMessage(content='', additional_kwargs={'tool_calls': [{'id': 'call_8726256235629355699', 'function': {'arguments': '{\"query\": \"current weather in Los Angeles\"}', 'name': 'tavily_search_results_json'}, 'type': 'function', 'index': 0}]}, response_metadata={'token_usage': {'completion_tokens': 18, 'prompt_tokens': 217, 'total_tokens': 235}, 'model_name': 'glm-4-air', 'system_fingerprint': None, 'finish_reason': 'tool_calls', 'logprobs': None}, id='run-7433f4af-3e19-44a6-928c-337cc9fff2f2-0', tool_calls=[{'name': 'tavily_search_results_json', 'args': {'query': 'current weather in Louisiana'}, 'id': 'call_8726256235629355699'}], usage_metadata={'input_tokens': 217, 'output_tokens': 18, 'total_tokens': 235})]}}}, created_at='2024-06-07T09:43:38.277006+00:00', parent_config={'configurable': {'thread_id': '3', 'thread_ts': '1ef24b26-10ca-6580-8001-c4a3a269d7da'}})"
      ]
     },
     "execution_count": 46,
     "metadata": {},
     "output_type": "execute_result"
    }
   ],
   "source": [
    "abot.graph.get_state(thread)"
   ]
  },
  {
   "cell_type": "code",
   "execution_count": 47,
   "metadata": {},
   "outputs": [
    {
     "name": "stdout",
     "output_type": "stream",
     "text": [
      "Calling tool: {'name': 'tavily_search_results_json', 'args': {'query': 'current weather in Louisiana'}, 'id': 'call_8726256235629355699'}\n",
      "Back to the Model!\n",
      "{'messages': [ToolMessage(content='[{\\'url\\': \\'https://www.weatherapi.com/\\', \\'content\\': \"{\\'location\\': {\\'name\\': \\'Louisiana\\', \\'region\\': \\'Missouri\\', \\'country\\': \\'USA United States of America\\', \\'lat\\': 39.44, \\'lon\\': -91.06, \\'tz_id\\': \\'America/Chicago\\', \\'localtime_epoch\\': 1717753390, \\'localtime\\': \\'2024-06-07 4:43\\'}, \\'current\\': {\\'last_updated_epoch\\': 1717752600, \\'last_updated\\': \\'2024-06-07 04:30\\', \\'temp_c\\': 17.2, \\'temp_f\\': 63.0, \\'is_day\\': 0, \\'condition\\': {\\'text\\': \\'Clear\\', \\'icon\\': \\'//cdn.weatherapi.com/weather/64x64/night/113.png\\', \\'code\\': 1000}, \\'wind_mph\\': 3.8, \\'wind_kph\\': 6.1, \\'wind_degree\\': 280, \\'wind_dir\\': \\'W\\', \\'pressure_mb\\': 1013.0, \\'pressure_in\\': 29.9, \\'precip_mm\\': 0.0, \\'precip_in\\': 0.0, \\'humidity\\': 54, \\'cloud\\': 0, \\'feelslike_c\\': 17.2, \\'feelslike_f\\': 63.0, \\'windchill_c\\': 13.1, \\'windchill_f\\': 55.5, \\'heatindex_c\\': 13.7, \\'heatindex_f\\': 56.7, \\'dewpoint_c\\': 10.5, \\'dewpoint_f\\': 50.9, \\'vis_km\\': 16.0, \\'vis_miles\\': 9.0, \\'uv\\': 1.0, \\'gust_mph\\': 13.6, \\'gust_kph\\': 21.9}}\"}, {\\'url\\': \\'https://www.fox8live.com/2024/06/07/dry-skies-take-over-weekend/\\', \\'content\\': \\'The 2024 hurricane season is one of the slowest to start in over a decade Afternoon weather update for Thursday, June 6 Nicondra: Drying out after morning storms\\'}]', name='tavily_search_results_json', tool_call_id='call_8726256235629355699')]}\n",
      "{'messages': [HumanMessage(content='What is the weather like in LA now?', id='87141516-c120-4c37-9d1c-aba077de68cf'), AIMessage(content='', additional_kwargs={'tool_calls': [{'id': 'call_8726256235629355699', 'function': {'arguments': '{\"query\": \"current weather in Los Angeles\"}', 'name': 'tavily_search_results_json'}, 'type': 'function', 'index': 0}]}, response_metadata={'token_usage': {'completion_tokens': 18, 'prompt_tokens': 217, 'total_tokens': 235}, 'model_name': 'glm-4-air', 'system_fingerprint': None, 'finish_reason': 'tool_calls', 'logprobs': None}, id='run-7433f4af-3e19-44a6-928c-337cc9fff2f2-0', tool_calls=[{'name': 'tavily_search_results_json', 'args': {'query': 'current weather in Louisiana'}, 'id': 'call_8726256235629355699'}], usage_metadata={'input_tokens': 217, 'output_tokens': 18, 'total_tokens': 235}), ToolMessage(content='[{\\'url\\': \\'https://www.weatherapi.com/\\', \\'content\\': \"{\\'location\\': {\\'name\\': \\'Louisiana\\', \\'region\\': \\'Missouri\\', \\'country\\': \\'USA United States of America\\', \\'lat\\': 39.44, \\'lon\\': -91.06, \\'tz_id\\': \\'America/Chicago\\', \\'localtime_epoch\\': 1717753390, \\'localtime\\': \\'2024-06-07 4:43\\'}, \\'current\\': {\\'last_updated_epoch\\': 1717752600, \\'last_updated\\': \\'2024-06-07 04:30\\', \\'temp_c\\': 17.2, \\'temp_f\\': 63.0, \\'is_day\\': 0, \\'condition\\': {\\'text\\': \\'Clear\\', \\'icon\\': \\'//cdn.weatherapi.com/weather/64x64/night/113.png\\', \\'code\\': 1000}, \\'wind_mph\\': 3.8, \\'wind_kph\\': 6.1, \\'wind_degree\\': 280, \\'wind_dir\\': \\'W\\', \\'pressure_mb\\': 1013.0, \\'pressure_in\\': 29.9, \\'precip_mm\\': 0.0, \\'precip_in\\': 0.0, \\'humidity\\': 54, \\'cloud\\': 0, \\'feelslike_c\\': 17.2, \\'feelslike_f\\': 63.0, \\'windchill_c\\': 13.1, \\'windchill_f\\': 55.5, \\'heatindex_c\\': 13.7, \\'heatindex_f\\': 56.7, \\'dewpoint_c\\': 10.5, \\'dewpoint_f\\': 50.9, \\'vis_km\\': 16.0, \\'vis_miles\\': 9.0, \\'uv\\': 1.0, \\'gust_mph\\': 13.6, \\'gust_kph\\': 21.9}}\"}, {\\'url\\': \\'https://www.fox8live.com/2024/06/07/dry-skies-take-over-weekend/\\', \\'content\\': \\'The 2024 hurricane season is one of the slowest to start in over a decade Afternoon weather update for Thursday, June 6 Nicondra: Drying out after morning storms\\'}]', name='tavily_search_results_json', id='4db6c29d-65fe-4cc1-b109-70e77585024d', tool_call_id='call_8726256235629355699'), AIMessage(content='The current weather in Louisiana is clear with a temperature of 63.0°F (17.2°C). There is no precipitation, and the humidity is at 54%. The wind is coming from the west at 3.8 mph (6.1 kph).', response_metadata={'token_usage': {'completion_tokens': 57, 'prompt_tokens': 722, 'total_tokens': 779}, 'model_name': 'glm-4-air', 'system_fingerprint': None, 'finish_reason': 'stop', 'logprobs': None}, id='run-94d6cdee-3ffd-4766-9ced-7760a986808f-0', usage_metadata={'input_tokens': 722, 'output_tokens': 57, 'total_tokens': 779})]}\n",
      "{'messages': [AIMessage(content='The current weather in Louisiana is clear with a temperature of 63.0°F (17.2°C). There is no precipitation, and the humidity is at 54%. The wind is coming from the west at 3.8 mph (6.1 kph).', response_metadata={'token_usage': {'completion_tokens': 57, 'prompt_tokens': 722, 'total_tokens': 779}, 'model_name': 'glm-4-air', 'system_fingerprint': None, 'finish_reason': 'stop', 'logprobs': None}, id='run-94d6cdee-3ffd-4766-9ced-7760a986808f-0', usage_metadata={'input_tokens': 722, 'output_tokens': 57, 'total_tokens': 779})]}\n"
     ]
    }
   ],
   "source": [
    "for event in abot.graph.stream(None, thread):\n",
    "    for v in event.values():\n",
    "        print(v)"
   ]
  },
  {
   "cell_type": "markdown",
   "metadata": {},
   "source": [
    "### Time Travel"
   ]
  },
  {
   "cell_type": "code",
   "execution_count": 48,
   "metadata": {},
   "outputs": [
    {
     "name": "stdout",
     "output_type": "stream",
     "text": [
      "StateSnapshot(values={'messages': [HumanMessage(content='What is the weather like in LA now?', id='87141516-c120-4c37-9d1c-aba077de68cf'), AIMessage(content='', additional_kwargs={'tool_calls': [{'id': 'call_8726256235629355699', 'function': {'arguments': '{\"query\": \"current weather in Los Angeles\"}', 'name': 'tavily_search_results_json'}, 'type': 'function', 'index': 0}]}, response_metadata={'token_usage': {'completion_tokens': 18, 'prompt_tokens': 217, 'total_tokens': 235}, 'model_name': 'glm-4-air', 'system_fingerprint': None, 'finish_reason': 'tool_calls', 'logprobs': None}, id='run-7433f4af-3e19-44a6-928c-337cc9fff2f2-0', tool_calls=[{'name': 'tavily_search_results_json', 'args': {'query': 'current weather in Louisiana'}, 'id': 'call_8726256235629355699'}], usage_metadata={'input_tokens': 217, 'output_tokens': 18, 'total_tokens': 235}), ToolMessage(content='[{\\'url\\': \\'https://www.weatherapi.com/\\', \\'content\\': \"{\\'location\\': {\\'name\\': \\'Louisiana\\', \\'region\\': \\'Missouri\\', \\'country\\': \\'USA United States of America\\', \\'lat\\': 39.44, \\'lon\\': -91.06, \\'tz_id\\': \\'America/Chicago\\', \\'localtime_epoch\\': 1717753390, \\'localtime\\': \\'2024-06-07 4:43\\'}, \\'current\\': {\\'last_updated_epoch\\': 1717752600, \\'last_updated\\': \\'2024-06-07 04:30\\', \\'temp_c\\': 17.2, \\'temp_f\\': 63.0, \\'is_day\\': 0, \\'condition\\': {\\'text\\': \\'Clear\\', \\'icon\\': \\'//cdn.weatherapi.com/weather/64x64/night/113.png\\', \\'code\\': 1000}, \\'wind_mph\\': 3.8, \\'wind_kph\\': 6.1, \\'wind_degree\\': 280, \\'wind_dir\\': \\'W\\', \\'pressure_mb\\': 1013.0, \\'pressure_in\\': 29.9, \\'precip_mm\\': 0.0, \\'precip_in\\': 0.0, \\'humidity\\': 54, \\'cloud\\': 0, \\'feelslike_c\\': 17.2, \\'feelslike_f\\': 63.0, \\'windchill_c\\': 13.1, \\'windchill_f\\': 55.5, \\'heatindex_c\\': 13.7, \\'heatindex_f\\': 56.7, \\'dewpoint_c\\': 10.5, \\'dewpoint_f\\': 50.9, \\'vis_km\\': 16.0, \\'vis_miles\\': 9.0, \\'uv\\': 1.0, \\'gust_mph\\': 13.6, \\'gust_kph\\': 21.9}}\"}, {\\'url\\': \\'https://www.fox8live.com/2024/06/07/dry-skies-take-over-weekend/\\', \\'content\\': \\'The 2024 hurricane season is one of the slowest to start in over a decade Afternoon weather update for Thursday, June 6 Nicondra: Drying out after morning storms\\'}]', name='tavily_search_results_json', id='4db6c29d-65fe-4cc1-b109-70e77585024d', tool_call_id='call_8726256235629355699'), AIMessage(content='The current weather in Louisiana is clear with a temperature of 63.0°F (17.2°C). There is no precipitation, and the humidity is at 54%. The wind is coming from the west at 3.8 mph (6.1 kph).', response_metadata={'token_usage': {'completion_tokens': 57, 'prompt_tokens': 722, 'total_tokens': 779}, 'model_name': 'glm-4-air', 'system_fingerprint': None, 'finish_reason': 'stop', 'logprobs': None}, id='run-94d6cdee-3ffd-4766-9ced-7760a986808f-0', usage_metadata={'input_tokens': 722, 'output_tokens': 57, 'total_tokens': 779})]}, next=(), config={'configurable': {'thread_id': '3', 'thread_ts': '1ef24b27-2683-6233-8004-c1e2bcae2f63'}}, metadata={'source': 'loop', 'step': 4, 'writes': {'llm': {'messages': [AIMessage(content='The current weather in Louisiana is clear with a temperature of 63.0°F (17.2°C). There is no precipitation, and the humidity is at 54%. The wind is coming from the west at 3.8 mph (6.1 kph).', response_metadata={'token_usage': {'completion_tokens': 57, 'prompt_tokens': 722, 'total_tokens': 779}, 'model_name': 'glm-4-air', 'system_fingerprint': None, 'finish_reason': 'stop', 'logprobs': None}, id='run-94d6cdee-3ffd-4766-9ced-7760a986808f-0', usage_metadata={'input_tokens': 722, 'output_tokens': 57, 'total_tokens': 779})]}}}, created_at='2024-06-07T09:43:51.398443+00:00', parent_config={'configurable': {'thread_id': '3', 'thread_ts': '1ef24b27-11ff-6157-8003-73199f0ed9ad'}})\n",
      "------\n",
      "StateSnapshot(values={'messages': [HumanMessage(content='What is the weather like in LA now?', id='87141516-c120-4c37-9d1c-aba077de68cf'), AIMessage(content='', additional_kwargs={'tool_calls': [{'id': 'call_8726256235629355699', 'function': {'arguments': '{\"query\": \"current weather in Los Angeles\"}', 'name': 'tavily_search_results_json'}, 'type': 'function', 'index': 0}]}, response_metadata={'token_usage': {'completion_tokens': 18, 'prompt_tokens': 217, 'total_tokens': 235}, 'model_name': 'glm-4-air', 'system_fingerprint': None, 'finish_reason': 'tool_calls', 'logprobs': None}, id='run-7433f4af-3e19-44a6-928c-337cc9fff2f2-0', tool_calls=[{'name': 'tavily_search_results_json', 'args': {'query': 'current weather in Louisiana'}, 'id': 'call_8726256235629355699'}], usage_metadata={'input_tokens': 217, 'output_tokens': 18, 'total_tokens': 235}), ToolMessage(content='[{\\'url\\': \\'https://www.weatherapi.com/\\', \\'content\\': \"{\\'location\\': {\\'name\\': \\'Louisiana\\', \\'region\\': \\'Missouri\\', \\'country\\': \\'USA United States of America\\', \\'lat\\': 39.44, \\'lon\\': -91.06, \\'tz_id\\': \\'America/Chicago\\', \\'localtime_epoch\\': 1717753390, \\'localtime\\': \\'2024-06-07 4:43\\'}, \\'current\\': {\\'last_updated_epoch\\': 1717752600, \\'last_updated\\': \\'2024-06-07 04:30\\', \\'temp_c\\': 17.2, \\'temp_f\\': 63.0, \\'is_day\\': 0, \\'condition\\': {\\'text\\': \\'Clear\\', \\'icon\\': \\'//cdn.weatherapi.com/weather/64x64/night/113.png\\', \\'code\\': 1000}, \\'wind_mph\\': 3.8, \\'wind_kph\\': 6.1, \\'wind_degree\\': 280, \\'wind_dir\\': \\'W\\', \\'pressure_mb\\': 1013.0, \\'pressure_in\\': 29.9, \\'precip_mm\\': 0.0, \\'precip_in\\': 0.0, \\'humidity\\': 54, \\'cloud\\': 0, \\'feelslike_c\\': 17.2, \\'feelslike_f\\': 63.0, \\'windchill_c\\': 13.1, \\'windchill_f\\': 55.5, \\'heatindex_c\\': 13.7, \\'heatindex_f\\': 56.7, \\'dewpoint_c\\': 10.5, \\'dewpoint_f\\': 50.9, \\'vis_km\\': 16.0, \\'vis_miles\\': 9.0, \\'uv\\': 1.0, \\'gust_mph\\': 13.6, \\'gust_kph\\': 21.9}}\"}, {\\'url\\': \\'https://www.fox8live.com/2024/06/07/dry-skies-take-over-weekend/\\', \\'content\\': \\'The 2024 hurricane season is one of the slowest to start in over a decade Afternoon weather update for Thursday, June 6 Nicondra: Drying out after morning storms\\'}]', name='tavily_search_results_json', id='4db6c29d-65fe-4cc1-b109-70e77585024d', tool_call_id='call_8726256235629355699')]}, next=('llm',), config={'configurable': {'thread_id': '3', 'thread_ts': '1ef24b27-11ff-6157-8003-73199f0ed9ad'}}, metadata={'source': 'loop', 'step': 3, 'writes': {'action': {'messages': [ToolMessage(content='[{\\'url\\': \\'https://www.weatherapi.com/\\', \\'content\\': \"{\\'location\\': {\\'name\\': \\'Louisiana\\', \\'region\\': \\'Missouri\\', \\'country\\': \\'USA United States of America\\', \\'lat\\': 39.44, \\'lon\\': -91.06, \\'tz_id\\': \\'America/Chicago\\', \\'localtime_epoch\\': 1717753390, \\'localtime\\': \\'2024-06-07 4:43\\'}, \\'current\\': {\\'last_updated_epoch\\': 1717752600, \\'last_updated\\': \\'2024-06-07 04:30\\', \\'temp_c\\': 17.2, \\'temp_f\\': 63.0, \\'is_day\\': 0, \\'condition\\': {\\'text\\': \\'Clear\\', \\'icon\\': \\'//cdn.weatherapi.com/weather/64x64/night/113.png\\', \\'code\\': 1000}, \\'wind_mph\\': 3.8, \\'wind_kph\\': 6.1, \\'wind_degree\\': 280, \\'wind_dir\\': \\'W\\', \\'pressure_mb\\': 1013.0, \\'pressure_in\\': 29.9, \\'precip_mm\\': 0.0, \\'precip_in\\': 0.0, \\'humidity\\': 54, \\'cloud\\': 0, \\'feelslike_c\\': 17.2, \\'feelslike_f\\': 63.0, \\'windchill_c\\': 13.1, \\'windchill_f\\': 55.5, \\'heatindex_c\\': 13.7, \\'heatindex_f\\': 56.7, \\'dewpoint_c\\': 10.5, \\'dewpoint_f\\': 50.9, \\'vis_km\\': 16.0, \\'vis_miles\\': 9.0, \\'uv\\': 1.0, \\'gust_mph\\': 13.6, \\'gust_kph\\': 21.9}}\"}, {\\'url\\': \\'https://www.fox8live.com/2024/06/07/dry-skies-take-over-weekend/\\', \\'content\\': \\'The 2024 hurricane season is one of the slowest to start in over a decade Afternoon weather update for Thursday, June 6 Nicondra: Drying out after morning storms\\'}]', name='tavily_search_results_json', id='4db6c29d-65fe-4cc1-b109-70e77585024d', tool_call_id='call_8726256235629355699')]}}}, created_at='2024-06-07T09:43:49.247198+00:00', parent_config={'configurable': {'thread_id': '3', 'thread_ts': '1ef24b26-a960-65e7-8002-e7d0018028b3'}})\n",
      "------\n",
      "StateSnapshot(values={'messages': [HumanMessage(content='What is the weather like in LA now?', id='87141516-c120-4c37-9d1c-aba077de68cf'), AIMessage(content='', additional_kwargs={'tool_calls': [{'id': 'call_8726256235629355699', 'function': {'arguments': '{\"query\": \"current weather in Los Angeles\"}', 'name': 'tavily_search_results_json'}, 'type': 'function', 'index': 0}]}, response_metadata={'token_usage': {'completion_tokens': 18, 'prompt_tokens': 217, 'total_tokens': 235}, 'model_name': 'glm-4-air', 'system_fingerprint': None, 'finish_reason': 'tool_calls', 'logprobs': None}, id='run-7433f4af-3e19-44a6-928c-337cc9fff2f2-0', tool_calls=[{'name': 'tavily_search_results_json', 'args': {'query': 'current weather in Louisiana'}, 'id': 'call_8726256235629355699'}], usage_metadata={'input_tokens': 217, 'output_tokens': 18, 'total_tokens': 235})]}, next=('action',), config={'configurable': {'thread_id': '3', 'thread_ts': '1ef24b26-a960-65e7-8002-e7d0018028b3'}}, metadata={'source': 'update', 'step': 2, 'writes': {'llm': {'messages': [HumanMessage(content='What is the weather like in LA now?', id='87141516-c120-4c37-9d1c-aba077de68cf'), AIMessage(content='', additional_kwargs={'tool_calls': [{'id': 'call_8726256235629355699', 'function': {'arguments': '{\"query\": \"current weather in Los Angeles\"}', 'name': 'tavily_search_results_json'}, 'type': 'function', 'index': 0}]}, response_metadata={'token_usage': {'completion_tokens': 18, 'prompt_tokens': 217, 'total_tokens': 235}, 'model_name': 'glm-4-air', 'system_fingerprint': None, 'finish_reason': 'tool_calls', 'logprobs': None}, id='run-7433f4af-3e19-44a6-928c-337cc9fff2f2-0', tool_calls=[{'name': 'tavily_search_results_json', 'args': {'query': 'current weather in Louisiana'}, 'id': 'call_8726256235629355699'}], usage_metadata={'input_tokens': 217, 'output_tokens': 18, 'total_tokens': 235})]}}}, created_at='2024-06-07T09:43:38.277006+00:00', parent_config={'configurable': {'thread_id': '3', 'thread_ts': '1ef24b26-10ca-6580-8001-c4a3a269d7da'}})\n",
      "------\n",
      "StateSnapshot(values={'messages': [HumanMessage(content='What is the weather like in LA now?', id='87141516-c120-4c37-9d1c-aba077de68cf'), AIMessage(content='', additional_kwargs={'tool_calls': [{'id': 'call_8726256235629355699', 'function': {'arguments': '{\"query\": \"current weather in Los Angeles\"}', 'name': 'tavily_search_results_json'}, 'type': 'function', 'index': 0}]}, response_metadata={'token_usage': {'completion_tokens': 18, 'prompt_tokens': 217, 'total_tokens': 235}, 'model_name': 'glm-4-air', 'system_fingerprint': None, 'finish_reason': 'tool_calls', 'logprobs': None}, id='run-7433f4af-3e19-44a6-928c-337cc9fff2f2-0', tool_calls=[{'name': 'tavily_search_results_json', 'args': {'query': 'current weather in Los Angeles'}, 'id': 'call_8726256235629355699'}], usage_metadata={'input_tokens': 217, 'output_tokens': 18, 'total_tokens': 235})]}, next=('action',), config={'configurable': {'thread_id': '3', 'thread_ts': '1ef24b26-10ca-6580-8001-c4a3a269d7da'}}, metadata={'source': 'loop', 'step': 1, 'writes': {'llm': {'messages': [AIMessage(content='', additional_kwargs={'tool_calls': [{'id': 'call_8726256235629355699', 'function': {'arguments': '{\"query\": \"current weather in Los Angeles\"}', 'name': 'tavily_search_results_json'}, 'type': 'function', 'index': 0}]}, response_metadata={'token_usage': {'completion_tokens': 18, 'prompt_tokens': 217, 'total_tokens': 235}, 'model_name': 'glm-4-air', 'system_fingerprint': None, 'finish_reason': 'tool_calls', 'logprobs': None}, id='run-7433f4af-3e19-44a6-928c-337cc9fff2f2-0', tool_calls=[{'name': 'tavily_search_results_json', 'args': {'query': 'current weather in Los Angeles'}, 'id': 'call_8726256235629355699'}], usage_metadata={'input_tokens': 217, 'output_tokens': 18, 'total_tokens': 235})]}}}, created_at='2024-06-07T09:43:22.277197+00:00', parent_config={'configurable': {'thread_id': '3', 'thread_ts': '1ef24b25-efb8-6be7-8000-918e722d942b'}})\n",
      "------\n",
      "StateSnapshot(values={'messages': [HumanMessage(content='What is the weather like in LA now?', id='87141516-c120-4c37-9d1c-aba077de68cf')]}, next=('llm',), config={'configurable': {'thread_id': '3', 'thread_ts': '1ef24b25-efb8-6be7-8000-918e722d942b'}}, metadata={'source': 'loop', 'step': 0, 'writes': None}, created_at='2024-06-07T09:43:18.809688+00:00', parent_config={'configurable': {'thread_id': '3', 'thread_ts': '1ef24b25-efb6-6d43-bfff-24611d2e971c'}})\n",
      "------\n",
      "StateSnapshot(values={'messages': []}, next=('__start__',), config={'configurable': {'thread_id': '3', 'thread_ts': '1ef24b25-efb6-6d43-bfff-24611d2e971c'}}, metadata={'source': 'input', 'step': -1, 'writes': {'messages': [HumanMessage(content='What is the weather like in LA now?')]}}, created_at='2024-06-07T09:43:18.808902+00:00', parent_config=None)\n",
      "------\n"
     ]
    }
   ],
   "source": [
    "states = []\n",
    "\n",
    "for state in abot.graph.get_state_history(thread):\n",
    "    print(state)\n",
    "    print(\"------\")\n",
    "    states.append(state)"
   ]
  },
  {
   "cell_type": "code",
   "execution_count": 49,
   "metadata": {},
   "outputs": [
    {
     "data": {
      "text/plain": [
       "StateSnapshot(values={'messages': [HumanMessage(content='What is the weather like in LA now?', id='87141516-c120-4c37-9d1c-aba077de68cf'), AIMessage(content='', additional_kwargs={'tool_calls': [{'id': 'call_8726256235629355699', 'function': {'arguments': '{\"query\": \"current weather in Los Angeles\"}', 'name': 'tavily_search_results_json'}, 'type': 'function', 'index': 0}]}, response_metadata={'token_usage': {'completion_tokens': 18, 'prompt_tokens': 217, 'total_tokens': 235}, 'model_name': 'glm-4-air', 'system_fingerprint': None, 'finish_reason': 'tool_calls', 'logprobs': None}, id='run-7433f4af-3e19-44a6-928c-337cc9fff2f2-0', tool_calls=[{'name': 'tavily_search_results_json', 'args': {'query': 'current weather in Los Angeles'}, 'id': 'call_8726256235629355699'}], usage_metadata={'input_tokens': 217, 'output_tokens': 18, 'total_tokens': 235})]}, next=('action',), config={'configurable': {'thread_id': '3', 'thread_ts': '1ef24b26-10ca-6580-8001-c4a3a269d7da'}}, metadata={'source': 'loop', 'step': 1, 'writes': {'llm': {'messages': [AIMessage(content='', additional_kwargs={'tool_calls': [{'id': 'call_8726256235629355699', 'function': {'arguments': '{\"query\": \"current weather in Los Angeles\"}', 'name': 'tavily_search_results_json'}, 'type': 'function', 'index': 0}]}, response_metadata={'token_usage': {'completion_tokens': 18, 'prompt_tokens': 217, 'total_tokens': 235}, 'model_name': 'glm-4-air', 'system_fingerprint': None, 'finish_reason': 'tool_calls', 'logprobs': None}, id='run-7433f4af-3e19-44a6-928c-337cc9fff2f2-0', tool_calls=[{'name': 'tavily_search_results_json', 'args': {'query': 'current weather in Los Angeles'}, 'id': 'call_8726256235629355699'}], usage_metadata={'input_tokens': 217, 'output_tokens': 18, 'total_tokens': 235})]}}}, created_at='2024-06-07T09:43:22.277197+00:00', parent_config={'configurable': {'thread_id': '3', 'thread_ts': '1ef24b25-efb8-6be7-8000-918e722d942b'}})"
      ]
     },
     "execution_count": 49,
     "metadata": {},
     "output_type": "execute_result"
    }
   ],
   "source": [
    "to_replay = states[-3]\n",
    "\n",
    "to_replay"
   ]
  },
  {
   "cell_type": "code",
   "execution_count": 50,
   "metadata": {},
   "outputs": [
    {
     "name": "stdout",
     "output_type": "stream",
     "text": [
      "Calling tool: {'name': 'tavily_search_results_json', 'args': {'query': 'current weather in Los Angeles'}, 'id': 'call_8726256235629355699'}\n",
      "Back to the Model!\n",
      "{'messages': [ToolMessage(content='[{\\'url\\': \\'https://www.weatherapi.com/\\', \\'content\\': \"{\\'location\\': {\\'name\\': \\'Los Angeles\\', \\'region\\': \\'California\\', \\'country\\': \\'United States of America\\', \\'lat\\': 34.05, \\'lon\\': -118.24, \\'tz_id\\': \\'America/Los_Angeles\\', \\'localtime_epoch\\': 1717753360, \\'localtime\\': \\'2024-06-07 2:42\\'}, \\'current\\': {\\'last_updated_epoch\\': 1717752600, \\'last_updated\\': \\'2024-06-07 02:30\\', \\'temp_c\\': 15.6, \\'temp_f\\': 60.1, \\'is_day\\': 0, \\'condition\\': {\\'text\\': \\'Mist\\', \\'icon\\': \\'//cdn.weatherapi.com/weather/64x64/night/143.png\\', \\'code\\': 1030}, \\'wind_mph\\': 3.8, \\'wind_kph\\': 6.1, \\'wind_degree\\': 230, \\'wind_dir\\': \\'SW\\', \\'pressure_mb\\': 1012.0, \\'pressure_in\\': 29.89, \\'precip_mm\\': 0.0, \\'precip_in\\': 0.0, \\'humidity\\': 96, \\'cloud\\': 100, \\'feelslike_c\\': 15.6, \\'feelslike_f\\': 60.1, \\'windchill_c\\': 18.5, \\'windchill_f\\': 65.3, \\'heatindex_c\\': 18.5, \\'heatindex_f\\': 65.3, \\'dewpoint_c\\': 14.3, \\'dewpoint_f\\': 57.8, \\'vis_km\\': 4.0, \\'vis_miles\\': 2.0, \\'uv\\': 1.0, \\'gust_mph\\': 4.7, \\'gust_kph\\': 7.6}}\"}, {\\'url\\': \\'https://www.timeanddate.com/weather/usa/los-angeles/historic?month=5&year=2024\\', \\'content\\': \\'See more current weather. ... May 2024 Weather in Los Angeles — Graph °F. See Hour-by-hour Forecast for upcoming weather. See weather overview. High & Low Weather Summary for May 2024 Temperature Humidity Pressure; High: 70 °F (May 7, 11:53 am) 93% (May 5, 1:07 am) 30.08 \"Hg (May 5, 1:07 am) Low: 55 °F (May 5, 4:53 am)\\'}]', name='tavily_search_results_json', tool_call_id='call_8726256235629355699')]}\n",
      "{'messages': [HumanMessage(content='What is the weather like in LA now?', id='87141516-c120-4c37-9d1c-aba077de68cf'), AIMessage(content='', additional_kwargs={'tool_calls': [{'id': 'call_8726256235629355699', 'function': {'arguments': '{\"query\": \"current weather in Los Angeles\"}', 'name': 'tavily_search_results_json'}, 'type': 'function', 'index': 0}]}, response_metadata={'token_usage': {'completion_tokens': 18, 'prompt_tokens': 217, 'total_tokens': 235}, 'model_name': 'glm-4-air', 'system_fingerprint': None, 'finish_reason': 'tool_calls', 'logprobs': None}, id='run-7433f4af-3e19-44a6-928c-337cc9fff2f2-0', tool_calls=[{'name': 'tavily_search_results_json', 'args': {'query': 'current weather in Los Angeles'}, 'id': 'call_8726256235629355699'}], usage_metadata={'input_tokens': 217, 'output_tokens': 18, 'total_tokens': 235}), ToolMessage(content='[{\\'url\\': \\'https://www.weatherapi.com/\\', \\'content\\': \"{\\'location\\': {\\'name\\': \\'Los Angeles\\', \\'region\\': \\'California\\', \\'country\\': \\'United States of America\\', \\'lat\\': 34.05, \\'lon\\': -118.24, \\'tz_id\\': \\'America/Los_Angeles\\', \\'localtime_epoch\\': 1717753360, \\'localtime\\': \\'2024-06-07 2:42\\'}, \\'current\\': {\\'last_updated_epoch\\': 1717752600, \\'last_updated\\': \\'2024-06-07 02:30\\', \\'temp_c\\': 15.6, \\'temp_f\\': 60.1, \\'is_day\\': 0, \\'condition\\': {\\'text\\': \\'Mist\\', \\'icon\\': \\'//cdn.weatherapi.com/weather/64x64/night/143.png\\', \\'code\\': 1030}, \\'wind_mph\\': 3.8, \\'wind_kph\\': 6.1, \\'wind_degree\\': 230, \\'wind_dir\\': \\'SW\\', \\'pressure_mb\\': 1012.0, \\'pressure_in\\': 29.89, \\'precip_mm\\': 0.0, \\'precip_in\\': 0.0, \\'humidity\\': 96, \\'cloud\\': 100, \\'feelslike_c\\': 15.6, \\'feelslike_f\\': 60.1, \\'windchill_c\\': 18.5, \\'windchill_f\\': 65.3, \\'heatindex_c\\': 18.5, \\'heatindex_f\\': 65.3, \\'dewpoint_c\\': 14.3, \\'dewpoint_f\\': 57.8, \\'vis_km\\': 4.0, \\'vis_miles\\': 2.0, \\'uv\\': 1.0, \\'gust_mph\\': 4.7, \\'gust_kph\\': 7.6}}\"}, {\\'url\\': \\'https://www.timeanddate.com/weather/usa/los-angeles/historic?month=5&year=2024\\', \\'content\\': \\'See more current weather. ... May 2024 Weather in Los Angeles — Graph °F. See Hour-by-hour Forecast for upcoming weather. See weather overview. High & Low Weather Summary for May 2024 Temperature Humidity Pressure; High: 70 °F (May 7, 11:53 am) 93% (May 5, 1:07 am) 30.08 \"Hg (May 5, 1:07 am) Low: 55 °F (May 5, 4:53 am)\\'}]', name='tavily_search_results_json', id='04cc481c-4cdc-4fd2-b6c5-4e0238e43fb3', tool_call_id='call_8726256235629355699'), AIMessage(content='The current weather in Los Angeles is mist with a temperature of 15.6°C (60.1°F). The humidity is 96%, and the wind is blowing from the southwest at 3.8 mph (6.1 km/h).', response_metadata={'token_usage': {'completion_tokens': 52, 'prompt_tokens': 803, 'total_tokens': 855}, 'model_name': 'glm-4-air', 'system_fingerprint': None, 'finish_reason': 'stop', 'logprobs': None}, id='run-0963b5f3-204e-4134-a0d4-5a95e8f08b5b-0', usage_metadata={'input_tokens': 803, 'output_tokens': 52, 'total_tokens': 855})]}\n",
      "{'messages': [AIMessage(content='The current weather in Los Angeles is mist with a temperature of 15.6°C (60.1°F). The humidity is 96%, and the wind is blowing from the southwest at 3.8 mph (6.1 km/h).', response_metadata={'token_usage': {'completion_tokens': 52, 'prompt_tokens': 803, 'total_tokens': 855}, 'model_name': 'glm-4-air', 'system_fingerprint': None, 'finish_reason': 'stop', 'logprobs': None}, id='run-0963b5f3-204e-4134-a0d4-5a95e8f08b5b-0', usage_metadata={'input_tokens': 803, 'output_tokens': 52, 'total_tokens': 855})]}\n"
     ]
    }
   ],
   "source": [
    "for event in abot.graph.stream(None, to_replay.config):\n",
    "    for k, v in event.items():\n",
    "        print(v)"
   ]
  },
  {
   "cell_type": "markdown",
   "metadata": {},
   "source": [
    "### Go back in time and edit"
   ]
  },
  {
   "cell_type": "code",
   "execution_count": 51,
   "metadata": {},
   "outputs": [],
   "source": [
    "_id = to_replay.values[\"messages\"][-1].tool_calls[0][\"id\"]\n",
    "\n",
    "to_replay.values[\"messages\"][-1].tool_calls = [\n",
    "    {\n",
    "        \"name\": \"tavily_search_results_json\",\n",
    "        \"args\": {\"query\": \"current weather in LA, accuweather\"},\n",
    "        \"id\": _id,\n",
    "    }\n",
    "]"
   ]
  },
  {
   "cell_type": "code",
   "execution_count": 52,
   "metadata": {},
   "outputs": [
    {
     "name": "stdout",
     "output_type": "stream",
     "text": [
      "{'messages': [HumanMessage(content='What is the weather like in LA now?', id='87141516-c120-4c37-9d1c-aba077de68cf'), AIMessage(content='', additional_kwargs={'tool_calls': [{'id': 'call_8726256235629355699', 'function': {'arguments': '{\"query\": \"current weather in Los Angeles\"}', 'name': 'tavily_search_results_json'}, 'type': 'function', 'index': 0}]}, response_metadata={'token_usage': {'completion_tokens': 18, 'prompt_tokens': 217, 'total_tokens': 235}, 'model_name': 'glm-4-air', 'system_fingerprint': None, 'finish_reason': 'tool_calls', 'logprobs': None}, id='run-7433f4af-3e19-44a6-928c-337cc9fff2f2-0', tool_calls=[{'name': 'tavily_search_results_json', 'args': {'query': 'current weather in LA, accuweather'}, 'id': 'call_8726256235629355699'}], usage_metadata={'input_tokens': 217, 'output_tokens': 18, 'total_tokens': 235})]}\n"
     ]
    }
   ],
   "source": [
    "branch_state = abot.graph.update_state(to_replay.config, to_replay.values)"
   ]
  },
  {
   "cell_type": "code",
   "execution_count": 53,
   "metadata": {},
   "outputs": [
    {
     "name": "stdout",
     "output_type": "stream",
     "text": [
      "Calling tool: {'name': 'tavily_search_results_json', 'args': {'query': 'current weather in LA, accuweather'}, 'id': 'call_8726256235629355699'}\n",
      "Back to the Model!\n",
      "{'messages': [ToolMessage(content='[{\\'url\\': \\'https://www.weatherapi.com/\\', \\'content\\': \"{\\'location\\': {\\'name\\': \\'Los Angeles\\', \\'region\\': \\'California\\', \\'country\\': \\'United States of America\\', \\'lat\\': 34.05, \\'lon\\': -118.24, \\'tz_id\\': \\'America/Los_Angeles\\', \\'localtime_epoch\\': 1717753528, \\'localtime\\': \\'2024-06-07 2:45\\'}, \\'current\\': {\\'last_updated_epoch\\': 1717753500, \\'last_updated\\': \\'2024-06-07 02:45\\', \\'temp_c\\': 15.6, \\'temp_f\\': 60.1, \\'is_day\\': 0, \\'condition\\': {\\'text\\': \\'Mist\\', \\'icon\\': \\'//cdn.weatherapi.com/weather/64x64/night/143.png\\', \\'code\\': 1030}, \\'wind_mph\\': 3.8, \\'wind_kph\\': 6.1, \\'wind_degree\\': 250, \\'wind_dir\\': \\'WSW\\', \\'pressure_mb\\': 1012.0, \\'pressure_in\\': 29.89, \\'precip_mm\\': 0.0, \\'precip_in\\': 0.0, \\'humidity\\': 96, \\'cloud\\': 100, \\'feelslike_c\\': 15.6, \\'feelslike_f\\': 60.1, \\'windchill_c\\': 18.5, \\'windchill_f\\': 65.3, \\'heatindex_c\\': 18.5, \\'heatindex_f\\': 65.3, \\'dewpoint_c\\': 14.3, \\'dewpoint_f\\': 57.8, \\'vis_km\\': 4.8, \\'vis_miles\\': 2.0, \\'uv\\': 1.0, \\'gust_mph\\': 4.7, \\'gust_kph\\': 7.6}}\"}, {\\'url\\': \\'https://www.accuweather.com/en/us/los-angeles/90012/current-weather/347625\\', \\'content\\': \\'Current weather in Los Angeles, CA. Check current conditions in Los Angeles, CA with radar, hourly, and more.\\'}]', name='tavily_search_results_json', tool_call_id='call_8726256235629355699')]}\n",
      "{'messages': [HumanMessage(content='What is the weather like in LA now?', id='87141516-c120-4c37-9d1c-aba077de68cf'), AIMessage(content='', additional_kwargs={'tool_calls': [{'id': 'call_8726256235629355699', 'function': {'arguments': '{\"query\": \"current weather in Los Angeles\"}', 'name': 'tavily_search_results_json'}, 'type': 'function', 'index': 0}]}, response_metadata={'token_usage': {'completion_tokens': 18, 'prompt_tokens': 217, 'total_tokens': 235}, 'model_name': 'glm-4-air', 'system_fingerprint': None, 'finish_reason': 'tool_calls', 'logprobs': None}, id='run-7433f4af-3e19-44a6-928c-337cc9fff2f2-0', tool_calls=[{'name': 'tavily_search_results_json', 'args': {'query': 'current weather in LA, accuweather'}, 'id': 'call_8726256235629355699'}], usage_metadata={'input_tokens': 217, 'output_tokens': 18, 'total_tokens': 235}), ToolMessage(content='[{\\'url\\': \\'https://www.weatherapi.com/\\', \\'content\\': \"{\\'location\\': {\\'name\\': \\'Los Angeles\\', \\'region\\': \\'California\\', \\'country\\': \\'United States of America\\', \\'lat\\': 34.05, \\'lon\\': -118.24, \\'tz_id\\': \\'America/Los_Angeles\\', \\'localtime_epoch\\': 1717753528, \\'localtime\\': \\'2024-06-07 2:45\\'}, \\'current\\': {\\'last_updated_epoch\\': 1717753500, \\'last_updated\\': \\'2024-06-07 02:45\\', \\'temp_c\\': 15.6, \\'temp_f\\': 60.1, \\'is_day\\': 0, \\'condition\\': {\\'text\\': \\'Mist\\', \\'icon\\': \\'//cdn.weatherapi.com/weather/64x64/night/143.png\\', \\'code\\': 1030}, \\'wind_mph\\': 3.8, \\'wind_kph\\': 6.1, \\'wind_degree\\': 250, \\'wind_dir\\': \\'WSW\\', \\'pressure_mb\\': 1012.0, \\'pressure_in\\': 29.89, \\'precip_mm\\': 0.0, \\'precip_in\\': 0.0, \\'humidity\\': 96, \\'cloud\\': 100, \\'feelslike_c\\': 15.6, \\'feelslike_f\\': 60.1, \\'windchill_c\\': 18.5, \\'windchill_f\\': 65.3, \\'heatindex_c\\': 18.5, \\'heatindex_f\\': 65.3, \\'dewpoint_c\\': 14.3, \\'dewpoint_f\\': 57.8, \\'vis_km\\': 4.8, \\'vis_miles\\': 2.0, \\'uv\\': 1.0, \\'gust_mph\\': 4.7, \\'gust_kph\\': 7.6}}\"}, {\\'url\\': \\'https://www.accuweather.com/en/us/los-angeles/90012/current-weather/347625\\', \\'content\\': \\'Current weather in Los Angeles, CA. Check current conditions in Los Angeles, CA with radar, hourly, and more.\\'}]', name='tavily_search_results_json', id='9dd249d1-99bb-402e-a5e6-b9fce43ef45d', tool_call_id='call_8726256235629355699'), AIMessage(content='The current weather in Los Angeles is misty with a temperature of 60.1°F (15.6°C). The humidity is 96%, and the wind is blowing from the west-southwest at 3.8 mph (6.1 kph). The visibility is 2.0 miles (4.8 km), and the UV index is 1.0.', response_metadata={'token_usage': {'completion_tokens': 80, 'prompt_tokens': 715, 'total_tokens': 795}, 'model_name': 'glm-4-air', 'system_fingerprint': None, 'finish_reason': 'stop', 'logprobs': None}, id='run-0064695d-39e7-40cb-985a-fa29b6e30209-0', usage_metadata={'input_tokens': 715, 'output_tokens': 80, 'total_tokens': 795})]}\n",
      "{'messages': [AIMessage(content='The current weather in Los Angeles is misty with a temperature of 60.1°F (15.6°C). The humidity is 96%, and the wind is blowing from the west-southwest at 3.8 mph (6.1 kph). The visibility is 2.0 miles (4.8 km), and the UV index is 1.0.', response_metadata={'token_usage': {'completion_tokens': 80, 'prompt_tokens': 715, 'total_tokens': 795}, 'model_name': 'glm-4-air', 'system_fingerprint': None, 'finish_reason': 'stop', 'logprobs': None}, id='run-0064695d-39e7-40cb-985a-fa29b6e30209-0', usage_metadata={'input_tokens': 715, 'output_tokens': 80, 'total_tokens': 795})]}\n"
     ]
    }
   ],
   "source": [
    "for event in abot.graph.stream(None, branch_state):\n",
    "    for k, v in event.items():\n",
    "        if k != \"__end__\":\n",
    "            print(v)"
   ]
  },
  {
   "cell_type": "markdown",
   "metadata": {},
   "source": [
    "### Add message to a state at a given time"
   ]
  },
  {
   "cell_type": "code",
   "execution_count": 54,
   "metadata": {},
   "outputs": [],
   "source": [
    "_id = to_replay.values[\"messages\"][-1].tool_calls[0][\"id\"]"
   ]
  },
  {
   "cell_type": "code",
   "execution_count": 55,
   "metadata": {},
   "outputs": [],
   "source": [
    "state_update = {\n",
    "    \"messages\": [\n",
    "        ToolMessage(\n",
    "            tool_call_id=_id,\n",
    "            name=\"tavily_search_results_json\",\n",
    "            content=\"54 degree celcius\",\n",
    "        )\n",
    "    ]\n",
    "}"
   ]
  },
  {
   "cell_type": "code",
   "execution_count": 56,
   "metadata": {},
   "outputs": [],
   "source": [
    "branch_and_add = abot.graph.update_state(\n",
    "    to_replay.config, state_update, as_node=\"action\"\n",
    ")"
   ]
  },
  {
   "cell_type": "code",
   "execution_count": 57,
   "metadata": {},
   "outputs": [
    {
     "name": "stdout",
     "output_type": "stream",
     "text": [
      "{'messages': [HumanMessage(content='What is the weather like in LA now?', id='87141516-c120-4c37-9d1c-aba077de68cf'), AIMessage(content='', additional_kwargs={'tool_calls': [{'id': 'call_8726256235629355699', 'function': {'arguments': '{\"query\": \"current weather in Los Angeles\"}', 'name': 'tavily_search_results_json'}, 'type': 'function', 'index': 0}]}, response_metadata={'token_usage': {'completion_tokens': 18, 'prompt_tokens': 217, 'total_tokens': 235}, 'model_name': 'glm-4-air', 'system_fingerprint': None, 'finish_reason': 'tool_calls', 'logprobs': None}, id='run-7433f4af-3e19-44a6-928c-337cc9fff2f2-0', tool_calls=[{'name': 'tavily_search_results_json', 'args': {'query': 'current weather in Los Angeles'}, 'id': 'call_8726256235629355699'}], usage_metadata={'input_tokens': 217, 'output_tokens': 18, 'total_tokens': 235}), ToolMessage(content='54 degree celcius', name='tavily_search_results_json', id='c62422a9-7253-4c2f-b8b1-0378ef5a8ee9', tool_call_id='call_8726256235629355699'), AIMessage(content='The current weather in Los Angeles is 54 degrees Celsius. However, this seems unusually cold for LA. Let me double-check the temperature in Fahrenheit to provide a more accurate reading.', response_metadata={'token_usage': {'completion_tokens': 38, 'prompt_tokens': 246, 'total_tokens': 284}, 'model_name': 'glm-4-air', 'system_fingerprint': None, 'finish_reason': 'stop', 'logprobs': None}, id='run-95545929-72b9-47fa-b2d7-9c973d1d3f5f-0', usage_metadata={'input_tokens': 246, 'output_tokens': 38, 'total_tokens': 284})]}\n",
      "{'messages': [AIMessage(content='The current weather in Los Angeles is 54 degrees Celsius. However, this seems unusually cold for LA. Let me double-check the temperature in Fahrenheit to provide a more accurate reading.', response_metadata={'token_usage': {'completion_tokens': 38, 'prompt_tokens': 246, 'total_tokens': 284}, 'model_name': 'glm-4-air', 'system_fingerprint': None, 'finish_reason': 'stop', 'logprobs': None}, id='run-95545929-72b9-47fa-b2d7-9c973d1d3f5f-0', usage_metadata={'input_tokens': 246, 'output_tokens': 38, 'total_tokens': 284})]}\n"
     ]
    }
   ],
   "source": [
    "for event in abot.graph.stream(None, branch_and_add):\n",
    "    for k, v in event.items():\n",
    "        print(v)"
   ]
  },
  {
   "cell_type": "markdown",
   "metadata": {},
   "source": [
    "### Extra Practice\n",
    "#### Build a small graph\n",
    "This is a small graph you can tinker with if you want more insight into controlling state memory."
   ]
  },
  {
   "cell_type": "code",
   "execution_count": 58,
   "metadata": {},
   "outputs": [],
   "source": [
    "class AgentState(TypedDict):\n",
    "    lnode: str\n",
    "    scratch: str\n",
    "    count: Annotated[int, operator.add]"
   ]
  },
  {
   "cell_type": "code",
   "execution_count": 60,
   "metadata": {},
   "outputs": [],
   "source": [
    "def node1(state: AgentState) -> dict:\n",
    "    print(f\"node1, count: {state['count']}\")\n",
    "    return {\"lnode\": \"node_1\", \"count\": 1}\n",
    "\n",
    "\n",
    "def node2(state: AgentState) -> dict:\n",
    "    print(f\"node2, count: {state['count']}\")\n",
    "    return {\"lnode\": \"node_2\", \"count\": 1}"
   ]
  },
  {
   "cell_type": "code",
   "execution_count": 61,
   "metadata": {},
   "outputs": [],
   "source": [
    "def should_continue(state):\n",
    "    return state[\"count\"] < 3"
   ]
  },
  {
   "cell_type": "code",
   "execution_count": 62,
   "metadata": {},
   "outputs": [],
   "source": [
    "builder = StateGraph(AgentState)\n",
    "builder.add_node(node=\"Node1\", action=node1)\n",
    "builder.add_node(node=\"Node2\", action=node2)\n",
    "\n",
    "builder.add_edge(start_key=\"Node1\", end_key=\"Node2\")\n",
    "builder.add_conditional_edges(\n",
    "    source=\"Node2\", path=should_continue, path_map={True: \"Node1\", False: END}\n",
    ")\n",
    "\n",
    "builder.set_entry_point(key=\"Node1\")"
   ]
  },
  {
   "cell_type": "code",
   "execution_count": 63,
   "metadata": {},
   "outputs": [],
   "source": [
    "memory = SqliteSaver.from_conn_string(\":memory:\")\n",
    "\n",
    "graph = builder.compile(checkpointer=memory)"
   ]
  },
  {
   "cell_type": "markdown",
   "metadata": {},
   "source": [
    "#### Run it!"
   ]
  },
  {
   "cell_type": "code",
   "execution_count": 64,
   "metadata": {},
   "outputs": [
    {
     "name": "stdout",
     "output_type": "stream",
     "text": [
      "node1, count: 0\n",
      "node2, count: 1\n",
      "node1, count: 2\n",
      "node2, count: 3\n"
     ]
    },
    {
     "data": {
      "text/plain": [
       "{'lnode': 'node_2', 'scratch': 'hi', 'count': 4}"
      ]
     },
     "execution_count": 64,
     "metadata": {},
     "output_type": "execute_result"
    }
   ],
   "source": [
    "thread = {\"configurable\": {\"thread_id\": \"1\"}}\n",
    "\n",
    "graph.invoke({\"count\": 0, \"scratch\": \"hi\"}, thread)"
   ]
  },
  {
   "cell_type": "markdown",
   "metadata": {},
   "source": [
    "#### Look at current state"
   ]
  },
  {
   "cell_type": "code",
   "execution_count": 65,
   "metadata": {},
   "outputs": [
    {
     "data": {
      "text/plain": [
       "StateSnapshot(values={'lnode': 'node_2', 'scratch': 'hi', 'count': 4}, next=(), config={'configurable': {'thread_id': '1', 'thread_ts': '1ef24b46-d0ff-67df-8004-54743f9a692c'}}, metadata={'source': 'loop', 'step': 4, 'writes': {'Node2': {'lnode': 'node_2', 'count': 1}}}, created_at='2024-06-07T09:58:01.425081+00:00', parent_config={'configurable': {'thread_id': '1', 'thread_ts': '1ef24b46-d0fb-6819-8003-8df676c7bbe2'}})"
      ]
     },
     "execution_count": 65,
     "metadata": {},
     "output_type": "execute_result"
    }
   ],
   "source": [
    "graph.get_state(thread)"
   ]
  },
  {
   "cell_type": "markdown",
   "metadata": {},
   "source": [
    "### Look at state history"
   ]
  },
  {
   "cell_type": "code",
   "execution_count": 66,
   "metadata": {},
   "outputs": [
    {
     "name": "stdout",
     "output_type": "stream",
     "text": [
      "StateSnapshot(values={'lnode': 'node_2', 'scratch': 'hi', 'count': 4}, next=(), config={'configurable': {'thread_id': '1', 'thread_ts': '1ef24b46-d0ff-67df-8004-54743f9a692c'}}, metadata={'source': 'loop', 'step': 4, 'writes': {'Node2': {'lnode': 'node_2', 'count': 1}}}, created_at='2024-06-07T09:58:01.425081+00:00', parent_config={'configurable': {'thread_id': '1', 'thread_ts': '1ef24b46-d0fb-6819-8003-8df676c7bbe2'}}) \n",
      "\n",
      "StateSnapshot(values={'lnode': 'node_1', 'scratch': 'hi', 'count': 3}, next=('Node2',), config={'configurable': {'thread_id': '1', 'thread_ts': '1ef24b46-d0fb-6819-8003-8df676c7bbe2'}}, metadata={'source': 'loop', 'step': 3, 'writes': {'Node1': {'lnode': 'node_1', 'count': 1}}}, created_at='2024-06-07T09:58:01.423450+00:00', parent_config={'configurable': {'thread_id': '1', 'thread_ts': '1ef24b46-d0f8-6813-8002-7a81808d3d56'}}) \n",
      "\n",
      "StateSnapshot(values={'lnode': 'node_2', 'scratch': 'hi', 'count': 2}, next=('Node1',), config={'configurable': {'thread_id': '1', 'thread_ts': '1ef24b46-d0f8-6813-8002-7a81808d3d56'}}, metadata={'source': 'loop', 'step': 2, 'writes': {'Node2': {'lnode': 'node_2', 'count': 1}}}, created_at='2024-06-07T09:58:01.422221+00:00', parent_config={'configurable': {'thread_id': '1', 'thread_ts': '1ef24b46-d0f2-6ce4-8001-b02a7e24a5c2'}}) \n",
      "\n",
      "StateSnapshot(values={'lnode': 'node_1', 'scratch': 'hi', 'count': 1}, next=('Node2',), config={'configurable': {'thread_id': '1', 'thread_ts': '1ef24b46-d0f2-6ce4-8001-b02a7e24a5c2'}}, metadata={'source': 'loop', 'step': 1, 'writes': {'Node1': {'lnode': 'node_1', 'count': 1}}}, created_at='2024-06-07T09:58:01.419887+00:00', parent_config={'configurable': {'thread_id': '1', 'thread_ts': '1ef24b46-d0ed-6e7a-8000-7cfa1e169f8b'}}) \n",
      "\n",
      "StateSnapshot(values={'scratch': 'hi', 'count': 0}, next=('Node1',), config={'configurable': {'thread_id': '1', 'thread_ts': '1ef24b46-d0ed-6e7a-8000-7cfa1e169f8b'}}, metadata={'source': 'loop', 'step': 0, 'writes': None}, created_at='2024-06-07T09:58:01.417877+00:00', parent_config={'configurable': {'thread_id': '1', 'thread_ts': '1ef24b46-d0ea-6566-bfff-d82040d04024'}}) \n",
      "\n",
      "StateSnapshot(values={'count': 0}, next=('__start__',), config={'configurable': {'thread_id': '1', 'thread_ts': '1ef24b46-d0ea-6566-bfff-d82040d04024'}}, metadata={'source': 'input', 'step': -1, 'writes': {'count': 0, 'scratch': 'hi'}}, created_at='2024-06-07T09:58:01.416420+00:00', parent_config=None) \n",
      "\n"
     ]
    }
   ],
   "source": [
    "for state in graph.get_state_history(thread):\n",
    "    print(state, \"\\n\")"
   ]
  },
  {
   "cell_type": "code",
   "execution_count": 67,
   "metadata": {},
   "outputs": [
    {
     "name": "stdout",
     "output_type": "stream",
     "text": [
      "{'configurable': {'thread_id': '1', 'thread_ts': '1ef24b46-d0ff-67df-8004-54743f9a692c'}} 4\n",
      "{'configurable': {'thread_id': '1', 'thread_ts': '1ef24b46-d0fb-6819-8003-8df676c7bbe2'}} 3\n",
      "{'configurable': {'thread_id': '1', 'thread_ts': '1ef24b46-d0f8-6813-8002-7a81808d3d56'}} 2\n",
      "{'configurable': {'thread_id': '1', 'thread_ts': '1ef24b46-d0f2-6ce4-8001-b02a7e24a5c2'}} 1\n",
      "{'configurable': {'thread_id': '1', 'thread_ts': '1ef24b46-d0ed-6e7a-8000-7cfa1e169f8b'}} 0\n",
      "{'configurable': {'thread_id': '1', 'thread_ts': '1ef24b46-d0ea-6566-bfff-d82040d04024'}} 0\n"
     ]
    }
   ],
   "source": [
    "states = []\n",
    "\n",
    "for state in graph.get_state_history(thread):\n",
    "    states.append(state.config)\n",
    "    print(state.config, state.values[\"count\"])"
   ]
  },
  {
   "cell_type": "code",
   "execution_count": 68,
   "metadata": {},
   "outputs": [
    {
     "data": {
      "text/plain": [
       "{'configurable': {'thread_id': '1',\n",
       "  'thread_ts': '1ef24b46-d0f2-6ce4-8001-b02a7e24a5c2'}}"
      ]
     },
     "execution_count": 68,
     "metadata": {},
     "output_type": "execute_result"
    }
   ],
   "source": [
    "states[-3]"
   ]
  },
  {
   "cell_type": "code",
   "execution_count": 69,
   "metadata": {},
   "outputs": [
    {
     "data": {
      "text/plain": [
       "StateSnapshot(values={'lnode': 'node_1', 'scratch': 'hi', 'count': 1}, next=('Node2',), config={'configurable': {'thread_id': '1', 'thread_ts': '1ef24b46-d0f2-6ce4-8001-b02a7e24a5c2'}}, metadata={'source': 'loop', 'step': 1, 'writes': {'Node1': {'lnode': 'node_1', 'count': 1}}}, created_at='2024-06-07T09:58:01.419887+00:00', parent_config={'configurable': {'thread_id': '1', 'thread_ts': '1ef24b46-d0ed-6e7a-8000-7cfa1e169f8b'}})"
      ]
     },
     "execution_count": 69,
     "metadata": {},
     "output_type": "execute_result"
    }
   ],
   "source": [
    "graph.get_state(states[-3])"
   ]
  },
  {
   "cell_type": "markdown",
   "metadata": {},
   "source": [
    "#### Go back in Time"
   ]
  },
  {
   "cell_type": "code",
   "execution_count": 70,
   "metadata": {},
   "outputs": [
    {
     "name": "stdout",
     "output_type": "stream",
     "text": [
      "node2, count: 1\n",
      "node1, count: 2\n",
      "node2, count: 3\n"
     ]
    },
    {
     "data": {
      "text/plain": [
       "{'lnode': 'node_2', 'scratch': 'hi', 'count': 4}"
      ]
     },
     "execution_count": 70,
     "metadata": {},
     "output_type": "execute_result"
    }
   ],
   "source": [
    "graph.invoke(None, states[-3])"
   ]
  },
  {
   "cell_type": "code",
   "execution_count": 71,
   "metadata": {},
   "outputs": [
    {
     "name": "stdout",
     "output_type": "stream",
     "text": [
      "{'configurable': {'thread_id': '1', 'thread_ts': '1ef24b52-d829-6e74-8004-a33e663ef2e1'}} 4\n",
      "{'configurable': {'thread_id': '1', 'thread_ts': '1ef24b52-d825-6fb5-8003-d8a8eac03c81'}} 3\n",
      "{'configurable': {'thread_id': '1', 'thread_ts': '1ef24b52-d823-6178-8002-a00a2e65870d'}} 2\n",
      "{'configurable': {'thread_id': '1', 'thread_ts': '1ef24b46-d0ff-67df-8004-54743f9a692c'}} 4\n",
      "{'configurable': {'thread_id': '1', 'thread_ts': '1ef24b46-d0fb-6819-8003-8df676c7bbe2'}} 3\n",
      "{'configurable': {'thread_id': '1', 'thread_ts': '1ef24b46-d0f8-6813-8002-7a81808d3d56'}} 2\n",
      "{'configurable': {'thread_id': '1', 'thread_ts': '1ef24b46-d0f2-6ce4-8001-b02a7e24a5c2'}} 1\n",
      "{'configurable': {'thread_id': '1', 'thread_ts': '1ef24b46-d0ed-6e7a-8000-7cfa1e169f8b'}} 0\n",
      "{'configurable': {'thread_id': '1', 'thread_ts': '1ef24b46-d0ea-6566-bfff-d82040d04024'}} 0\n"
     ]
    }
   ],
   "source": [
    "thread = {\"configurable\": {\"thread_id\": \"1\"}}\n",
    "\n",
    "for state in graph.get_state_history(thread):\n",
    "    print(state.config, state.values[\"count\"])"
   ]
  },
  {
   "cell_type": "code",
   "execution_count": 72,
   "metadata": {},
   "outputs": [
    {
     "name": "stdout",
     "output_type": "stream",
     "text": [
      "StateSnapshot(values={'lnode': 'node_2', 'scratch': 'hi', 'count': 4}, next=(), config={'configurable': {'thread_id': '1', 'thread_ts': '1ef24b52-d829-6e74-8004-a33e663ef2e1'}}, metadata={'source': 'loop', 'step': 4, 'writes': {'Node2': {'lnode': 'node_2', 'count': 1}}}, created_at='2024-06-07T10:03:24.299008+00:00', parent_config={'configurable': {'thread_id': '1', 'thread_ts': '1ef24b52-d825-6fb5-8003-d8a8eac03c81'}}) \n",
      "\n",
      "StateSnapshot(values={'lnode': 'node_1', 'scratch': 'hi', 'count': 3}, next=('Node2',), config={'configurable': {'thread_id': '1', 'thread_ts': '1ef24b52-d825-6fb5-8003-d8a8eac03c81'}}, metadata={'source': 'loop', 'step': 3, 'writes': {'Node1': {'lnode': 'node_1', 'count': 1}}}, created_at='2024-06-07T10:03:24.297397+00:00', parent_config={'configurable': {'thread_id': '1', 'thread_ts': '1ef24b52-d823-6178-8002-a00a2e65870d'}}) \n",
      "\n",
      "StateSnapshot(values={'lnode': 'node_2', 'scratch': 'hi', 'count': 2}, next=('Node1',), config={'configurable': {'thread_id': '1', 'thread_ts': '1ef24b52-d823-6178-8002-a00a2e65870d'}}, metadata={'source': 'loop', 'step': 2, 'writes': {'Node2': {'lnode': 'node_2', 'count': 1}}}, created_at='2024-06-07T10:03:24.296212+00:00', parent_config={'configurable': {'thread_id': '1', 'thread_ts': '1ef24b46-d0f2-6ce4-8001-b02a7e24a5c2'}}) \n",
      "\n",
      "StateSnapshot(values={'lnode': 'node_2', 'scratch': 'hi', 'count': 4}, next=(), config={'configurable': {'thread_id': '1', 'thread_ts': '1ef24b46-d0ff-67df-8004-54743f9a692c'}}, metadata={'source': 'loop', 'step': 4, 'writes': {'Node2': {'lnode': 'node_2', 'count': 1}}}, created_at='2024-06-07T09:58:01.425081+00:00', parent_config={'configurable': {'thread_id': '1', 'thread_ts': '1ef24b46-d0fb-6819-8003-8df676c7bbe2'}}) \n",
      "\n",
      "StateSnapshot(values={'lnode': 'node_1', 'scratch': 'hi', 'count': 3}, next=('Node2',), config={'configurable': {'thread_id': '1', 'thread_ts': '1ef24b46-d0fb-6819-8003-8df676c7bbe2'}}, metadata={'source': 'loop', 'step': 3, 'writes': {'Node1': {'lnode': 'node_1', 'count': 1}}}, created_at='2024-06-07T09:58:01.423450+00:00', parent_config={'configurable': {'thread_id': '1', 'thread_ts': '1ef24b46-d0f8-6813-8002-7a81808d3d56'}}) \n",
      "\n",
      "StateSnapshot(values={'lnode': 'node_2', 'scratch': 'hi', 'count': 2}, next=('Node1',), config={'configurable': {'thread_id': '1', 'thread_ts': '1ef24b46-d0f8-6813-8002-7a81808d3d56'}}, metadata={'source': 'loop', 'step': 2, 'writes': {'Node2': {'lnode': 'node_2', 'count': 1}}}, created_at='2024-06-07T09:58:01.422221+00:00', parent_config={'configurable': {'thread_id': '1', 'thread_ts': '1ef24b46-d0f2-6ce4-8001-b02a7e24a5c2'}}) \n",
      "\n",
      "StateSnapshot(values={'lnode': 'node_1', 'scratch': 'hi', 'count': 1}, next=('Node2',), config={'configurable': {'thread_id': '1', 'thread_ts': '1ef24b46-d0f2-6ce4-8001-b02a7e24a5c2'}}, metadata={'source': 'loop', 'step': 1, 'writes': {'Node1': {'lnode': 'node_1', 'count': 1}}}, created_at='2024-06-07T09:58:01.419887+00:00', parent_config={'configurable': {'thread_id': '1', 'thread_ts': '1ef24b46-d0ed-6e7a-8000-7cfa1e169f8b'}}) \n",
      "\n",
      "StateSnapshot(values={'scratch': 'hi', 'count': 0}, next=('Node1',), config={'configurable': {'thread_id': '1', 'thread_ts': '1ef24b46-d0ed-6e7a-8000-7cfa1e169f8b'}}, metadata={'source': 'loop', 'step': 0, 'writes': None}, created_at='2024-06-07T09:58:01.417877+00:00', parent_config={'configurable': {'thread_id': '1', 'thread_ts': '1ef24b46-d0ea-6566-bfff-d82040d04024'}}) \n",
      "\n",
      "StateSnapshot(values={'count': 0}, next=('__start__',), config={'configurable': {'thread_id': '1', 'thread_ts': '1ef24b46-d0ea-6566-bfff-d82040d04024'}}, metadata={'source': 'input', 'step': -1, 'writes': {'count': 0, 'scratch': 'hi'}}, created_at='2024-06-07T09:58:01.416420+00:00', parent_config=None) \n",
      "\n"
     ]
    }
   ],
   "source": [
    "thread = {\"configurable\": {\"thread_id\": \"1\"}}\n",
    "\n",
    "for state in graph.get_state_history(thread):\n",
    "    print(state, \"\\n\")"
   ]
  },
  {
   "cell_type": "markdown",
   "metadata": {},
   "source": [
    "#### Modify State"
   ]
  },
  {
   "cell_type": "code",
   "execution_count": 73,
   "metadata": {},
   "outputs": [
    {
     "name": "stdout",
     "output_type": "stream",
     "text": [
      "node1, count: 0\n",
      "node2, count: 1\n",
      "node1, count: 2\n",
      "node2, count: 3\n"
     ]
    },
    {
     "data": {
      "text/plain": [
       "{'lnode': 'node_2', 'scratch': 'hi', 'count': 4}"
      ]
     },
     "execution_count": 73,
     "metadata": {},
     "output_type": "execute_result"
    }
   ],
   "source": [
    "thread2 = {\"configurable\": {\"thread_id\": \"2\"}}\n",
    "\n",
    "graph.invoke({\"count\": 0, \"scratch\": \"hi\"}, thread2)"
   ]
  },
  {
   "cell_type": "code",
   "execution_count": 75,
   "metadata": {},
   "outputs": [
    {
     "name": "stdout",
     "output_type": "stream",
     "text": [
      "{'configurable': {'thread_id': '2', 'thread_ts': '1ef24b64-1019-6365-8004-eb0f342f7a86'}} 4\n",
      "{'configurable': {'thread_id': '2', 'thread_ts': '1ef24b64-1016-668b-8003-05a896297ef1'}} 3\n",
      "{'configurable': {'thread_id': '2', 'thread_ts': '1ef24b64-1014-670c-8002-4a41ca588a18'}} 2\n",
      "{'configurable': {'thread_id': '2', 'thread_ts': '1ef24b64-1011-670b-8001-c8eeb42462b5'}} 1\n",
      "{'configurable': {'thread_id': '2', 'thread_ts': '1ef24b64-100e-687b-8000-722c5c156ff5'}} 0\n",
      "{'configurable': {'thread_id': '2', 'thread_ts': '1ef24b64-100c-697d-bfff-da72788b8915'}} 0\n"
     ]
    }
   ],
   "source": [
    "states2 = []\n",
    "\n",
    "for state in graph.get_state_history(thread2):\n",
    "    states2.append(state.config)\n",
    "    print(state.config, state.values[\"count\"])"
   ]
  },
  {
   "cell_type": "code",
   "execution_count": 76,
   "metadata": {},
   "outputs": [
    {
     "data": {
      "text/plain": [
       "StateSnapshot(values={'lnode': 'node_1', 'scratch': 'hi', 'count': 1}, next=('Node2',), config={'configurable': {'thread_id': '2', 'thread_ts': '1ef24b64-1011-670b-8001-c8eeb42462b5'}}, metadata={'source': 'loop', 'step': 1, 'writes': {'Node1': {'lnode': 'node_1', 'count': 1}}}, created_at='2024-06-07T10:11:06.501287+00:00', parent_config={'configurable': {'thread_id': '2', 'thread_ts': '1ef24b64-100e-687b-8000-722c5c156ff5'}})"
      ]
     },
     "execution_count": 76,
     "metadata": {},
     "output_type": "execute_result"
    }
   ],
   "source": [
    "save_state = graph.get_state(states2[-3])\n",
    "save_state"
   ]
  },
  {
   "cell_type": "code",
   "execution_count": 77,
   "metadata": {},
   "outputs": [
    {
     "data": {
      "text/plain": [
       "StateSnapshot(values={'lnode': 'node_1', 'scratch': 'Hello', 'count': -3}, next=('Node2',), config={'configurable': {'thread_id': '2', 'thread_ts': '1ef24b64-1011-670b-8001-c8eeb42462b5'}}, metadata={'source': 'loop', 'step': 1, 'writes': {'Node1': {'lnode': 'node_1', 'count': 1}}}, created_at='2024-06-07T10:11:06.501287+00:00', parent_config={'configurable': {'thread_id': '2', 'thread_ts': '1ef24b64-100e-687b-8000-722c5c156ff5'}})"
      ]
     },
     "execution_count": 77,
     "metadata": {},
     "output_type": "execute_result"
    }
   ],
   "source": [
    "save_state.values[\"count\"] = -3\n",
    "save_state.values[\"scratch\"] = \"Hello\"\n",
    "save_state"
   ]
  },
  {
   "cell_type": "code",
   "execution_count": 78,
   "metadata": {},
   "outputs": [
    {
     "data": {
      "text/plain": [
       "{'configurable': {'thread_id': '2',\n",
       "  'thread_ts': '1ef24b69-3804-6a4b-8005-1e1a73a8e4a3'}}"
      ]
     },
     "execution_count": 78,
     "metadata": {},
     "output_type": "execute_result"
    }
   ],
   "source": [
    "graph.update_state(thread2, save_state.values)"
   ]
  },
  {
   "cell_type": "code",
   "execution_count": 79,
   "metadata": {},
   "outputs": [
    {
     "name": "stdout",
     "output_type": "stream",
     "text": [
      "StateSnapshot(values={'lnode': 'node_1', 'scratch': 'Hello', 'count': 1}, next=('Node1',), config={'configurable': {'thread_id': '2', 'thread_ts': '1ef24b69-3804-6a4b-8005-1e1a73a8e4a3'}}, metadata={'source': 'update', 'step': 5, 'writes': {'Node2': {'lnode': 'node_1', 'scratch': 'Hello', 'count': -3}}}, created_at='2024-06-07T10:13:24.908079+00:00', parent_config={'configurable': {'thread_id': '2', 'thread_ts': '1ef24b64-1019-6365-8004-eb0f342f7a86'}}) \n",
      "\n",
      "StateSnapshot(values={'lnode': 'node_2', 'scratch': 'hi', 'count': 4}, next=(), config={'configurable': {'thread_id': '2', 'thread_ts': '1ef24b64-1019-6365-8004-eb0f342f7a86'}}, metadata={'source': 'loop', 'step': 4, 'writes': {'Node2': {'lnode': 'node_2', 'count': 1}}}, created_at='2024-06-07T10:11:06.504473+00:00', parent_config={'configurable': {'thread_id': '2', 'thread_ts': '1ef24b64-1016-668b-8003-05a896297ef1'}}) \n",
      "\n",
      "StateSnapshot(values={'lnode': 'node_1', 'scratch': 'hi', 'count': 3}, next=('Node2',), config={'configurable': {'thread_id': '2', 'thread_ts': '1ef24b64-1016-668b-8003-05a896297ef1'}}, metadata={'source': 'loop', 'step': 3, 'writes': {'Node1': {'lnode': 'node_1', 'count': 1}}}, created_at='2024-06-07T10:11:06.503324+00:00', parent_config={'configurable': {'thread_id': '2', 'thread_ts': '1ef24b64-1014-670c-8002-4a41ca588a18'}}) \n",
      "\n"
     ]
    }
   ],
   "source": [
    "for i, state in enumerate(graph.get_state_history(thread2)):\n",
    "    if i >= 3:\n",
    "        break\n",
    "\n",
    "    print(state, \"\\n\")"
   ]
  },
  {
   "cell_type": "markdown",
   "metadata": {},
   "source": [
    "#### Try again with `as_node`"
   ]
  },
  {
   "cell_type": "code",
   "execution_count": 80,
   "metadata": {},
   "outputs": [
    {
     "data": {
      "text/plain": [
       "{'configurable': {'thread_id': '2',\n",
       "  'thread_ts': '1ef24b6f-00dc-64e2-8006-238bcdee3b49'}}"
      ]
     },
     "execution_count": 80,
     "metadata": {},
     "output_type": "execute_result"
    }
   ],
   "source": [
    "graph.update_state(thread2, save_state.values, as_node=\"Node1\")"
   ]
  },
  {
   "cell_type": "code",
   "execution_count": 81,
   "metadata": {},
   "outputs": [
    {
     "name": "stdout",
     "output_type": "stream",
     "text": [
      "StateSnapshot(values={'lnode': 'node_1', 'scratch': 'Hello', 'count': -2}, next=('Node2',), config={'configurable': {'thread_id': '2', 'thread_ts': '1ef24b6f-00dc-64e2-8006-238bcdee3b49'}}, metadata={'source': 'update', 'step': 6, 'writes': {'Node1': {'lnode': 'node_1', 'scratch': 'Hello', 'count': -3}}}, created_at='2024-06-07T10:16:00.185654+00:00', parent_config={'configurable': {'thread_id': '2', 'thread_ts': '1ef24b69-3804-6a4b-8005-1e1a73a8e4a3'}}) \n",
      "\n",
      "StateSnapshot(values={'lnode': 'node_1', 'scratch': 'Hello', 'count': 1}, next=('Node1',), config={'configurable': {'thread_id': '2', 'thread_ts': '1ef24b69-3804-6a4b-8005-1e1a73a8e4a3'}}, metadata={'source': 'update', 'step': 5, 'writes': {'Node2': {'lnode': 'node_1', 'scratch': 'Hello', 'count': -3}}}, created_at='2024-06-07T10:13:24.908079+00:00', parent_config={'configurable': {'thread_id': '2', 'thread_ts': '1ef24b64-1019-6365-8004-eb0f342f7a86'}}) \n",
      "\n",
      "StateSnapshot(values={'lnode': 'node_2', 'scratch': 'hi', 'count': 4}, next=(), config={'configurable': {'thread_id': '2', 'thread_ts': '1ef24b64-1019-6365-8004-eb0f342f7a86'}}, metadata={'source': 'loop', 'step': 4, 'writes': {'Node2': {'lnode': 'node_2', 'count': 1}}}, created_at='2024-06-07T10:11:06.504473+00:00', parent_config={'configurable': {'thread_id': '2', 'thread_ts': '1ef24b64-1016-668b-8003-05a896297ef1'}}) \n",
      "\n"
     ]
    }
   ],
   "source": [
    "for i, state in enumerate(graph.get_state_history(thread2)):\n",
    "    if i >= 3:\n",
    "        break\n",
    "\n",
    "    print(state, \"\\n\")"
   ]
  },
  {
   "cell_type": "code",
   "execution_count": 82,
   "metadata": {},
   "outputs": [
    {
     "name": "stdout",
     "output_type": "stream",
     "text": [
      "node2, count: -2\n",
      "node1, count: -1\n",
      "node2, count: 0\n",
      "node1, count: 1\n",
      "node2, count: 2\n"
     ]
    },
    {
     "data": {
      "text/plain": [
       "{'lnode': 'node_2', 'scratch': 'Hello', 'count': 3}"
      ]
     },
     "execution_count": 82,
     "metadata": {},
     "output_type": "execute_result"
    }
   ],
   "source": [
    "graph.invoke(None, thread2)"
   ]
  },
  {
   "cell_type": "code",
   "execution_count": 83,
   "metadata": {},
   "outputs": [
    {
     "name": "stdout",
     "output_type": "stream",
     "text": [
      "StateSnapshot(values={'lnode': 'node_2', 'scratch': 'Hello', 'count': 3}, next=(), config={'configurable': {'thread_id': '2', 'thread_ts': '1ef24b71-fae8-6ecf-800b-920b79d9ff13'}}, metadata={'source': 'loop', 'step': 11, 'writes': {'Node2': {'lnode': 'node_2', 'count': 1}}}, created_at='2024-06-07T10:17:20.092323+00:00', parent_config={'configurable': {'thread_id': '2', 'thread_ts': '1ef24b71-fae5-65a9-800a-dd417b7e553f'}}) \n",
      "\n",
      "StateSnapshot(values={'lnode': 'node_1', 'scratch': 'Hello', 'count': 2}, next=('Node2',), config={'configurable': {'thread_id': '2', 'thread_ts': '1ef24b71-fae5-65a9-800a-dd417b7e553f'}}, metadata={'source': 'loop', 'step': 10, 'writes': {'Node1': {'lnode': 'node_1', 'count': 1}}}, created_at='2024-06-07T10:17:20.090855+00:00', parent_config={'configurable': {'thread_id': '2', 'thread_ts': '1ef24b71-fae1-6aa4-8009-200c1b61c21d'}}) \n",
      "\n",
      "StateSnapshot(values={'lnode': 'node_2', 'scratch': 'Hello', 'count': 1}, next=('Node1',), config={'configurable': {'thread_id': '2', 'thread_ts': '1ef24b71-fae1-6aa4-8009-200c1b61c21d'}}, metadata={'source': 'loop', 'step': 9, 'writes': {'Node2': {'lnode': 'node_2', 'count': 1}}}, created_at='2024-06-07T10:17:20.089350+00:00', parent_config={'configurable': {'thread_id': '2', 'thread_ts': '1ef24b71-fade-63fd-8008-200886672e4e'}}) \n",
      "\n",
      "StateSnapshot(values={'lnode': 'node_1', 'scratch': 'Hello', 'count': 0}, next=('Node2',), config={'configurable': {'thread_id': '2', 'thread_ts': '1ef24b71-fade-63fd-8008-200886672e4e'}}, metadata={'source': 'loop', 'step': 8, 'writes': {'Node1': {'lnode': 'node_1', 'count': 1}}}, created_at='2024-06-07T10:17:20.087950+00:00', parent_config={'configurable': {'thread_id': '2', 'thread_ts': '1ef24b71-fadb-68ac-8007-643b2df13397'}}) \n",
      "\n",
      "StateSnapshot(values={'lnode': 'node_2', 'scratch': 'Hello', 'count': -1}, next=('Node1',), config={'configurable': {'thread_id': '2', 'thread_ts': '1ef24b71-fadb-68ac-8007-643b2df13397'}}, metadata={'source': 'loop', 'step': 7, 'writes': {'Node2': {'lnode': 'node_2', 'count': 1}}}, created_at='2024-06-07T10:17:20.086837+00:00', parent_config={'configurable': {'thread_id': '2', 'thread_ts': '1ef24b6f-00dc-64e2-8006-238bcdee3b49'}}) \n",
      "\n",
      "StateSnapshot(values={'lnode': 'node_1', 'scratch': 'Hello', 'count': -2}, next=('Node2',), config={'configurable': {'thread_id': '2', 'thread_ts': '1ef24b6f-00dc-64e2-8006-238bcdee3b49'}}, metadata={'source': 'update', 'step': 6, 'writes': {'Node1': {'lnode': 'node_1', 'scratch': 'Hello', 'count': -3}}}, created_at='2024-06-07T10:16:00.185654+00:00', parent_config={'configurable': {'thread_id': '2', 'thread_ts': '1ef24b69-3804-6a4b-8005-1e1a73a8e4a3'}}) \n",
      "\n",
      "StateSnapshot(values={'lnode': 'node_1', 'scratch': 'Hello', 'count': 1}, next=('Node1',), config={'configurable': {'thread_id': '2', 'thread_ts': '1ef24b69-3804-6a4b-8005-1e1a73a8e4a3'}}, metadata={'source': 'update', 'step': 5, 'writes': {'Node2': {'lnode': 'node_1', 'scratch': 'Hello', 'count': -3}}}, created_at='2024-06-07T10:13:24.908079+00:00', parent_config={'configurable': {'thread_id': '2', 'thread_ts': '1ef24b64-1019-6365-8004-eb0f342f7a86'}}) \n",
      "\n",
      "StateSnapshot(values={'lnode': 'node_2', 'scratch': 'hi', 'count': 4}, next=(), config={'configurable': {'thread_id': '2', 'thread_ts': '1ef24b64-1019-6365-8004-eb0f342f7a86'}}, metadata={'source': 'loop', 'step': 4, 'writes': {'Node2': {'lnode': 'node_2', 'count': 1}}}, created_at='2024-06-07T10:11:06.504473+00:00', parent_config={'configurable': {'thread_id': '2', 'thread_ts': '1ef24b64-1016-668b-8003-05a896297ef1'}}) \n",
      "\n",
      "StateSnapshot(values={'lnode': 'node_1', 'scratch': 'hi', 'count': 3}, next=('Node2',), config={'configurable': {'thread_id': '2', 'thread_ts': '1ef24b64-1016-668b-8003-05a896297ef1'}}, metadata={'source': 'loop', 'step': 3, 'writes': {'Node1': {'lnode': 'node_1', 'count': 1}}}, created_at='2024-06-07T10:11:06.503324+00:00', parent_config={'configurable': {'thread_id': '2', 'thread_ts': '1ef24b64-1014-670c-8002-4a41ca588a18'}}) \n",
      "\n",
      "StateSnapshot(values={'lnode': 'node_2', 'scratch': 'hi', 'count': 2}, next=('Node1',), config={'configurable': {'thread_id': '2', 'thread_ts': '1ef24b64-1014-670c-8002-4a41ca588a18'}}, metadata={'source': 'loop', 'step': 2, 'writes': {'Node2': {'lnode': 'node_2', 'count': 1}}}, created_at='2024-06-07T10:11:06.502517+00:00', parent_config={'configurable': {'thread_id': '2', 'thread_ts': '1ef24b64-1011-670b-8001-c8eeb42462b5'}}) \n",
      "\n",
      "StateSnapshot(values={'lnode': 'node_1', 'scratch': 'hi', 'count': 1}, next=('Node2',), config={'configurable': {'thread_id': '2', 'thread_ts': '1ef24b64-1011-670b-8001-c8eeb42462b5'}}, metadata={'source': 'loop', 'step': 1, 'writes': {'Node1': {'lnode': 'node_1', 'count': 1}}}, created_at='2024-06-07T10:11:06.501287+00:00', parent_config={'configurable': {'thread_id': '2', 'thread_ts': '1ef24b64-100e-687b-8000-722c5c156ff5'}}) \n",
      "\n",
      "StateSnapshot(values={'scratch': 'hi', 'count': 0}, next=('Node1',), config={'configurable': {'thread_id': '2', 'thread_ts': '1ef24b64-100e-687b-8000-722c5c156ff5'}}, metadata={'source': 'loop', 'step': 0, 'writes': None}, created_at='2024-06-07T10:11:06.500096+00:00', parent_config={'configurable': {'thread_id': '2', 'thread_ts': '1ef24b64-100c-697d-bfff-da72788b8915'}}) \n",
      "\n",
      "StateSnapshot(values={'count': 0}, next=('__start__',), config={'configurable': {'thread_id': '2', 'thread_ts': '1ef24b64-100c-697d-bfff-da72788b8915'}}, metadata={'source': 'input', 'step': -1, 'writes': {'count': 0, 'scratch': 'hi'}}, created_at='2024-06-07T10:11:06.499305+00:00', parent_config=None) \n",
      "\n"
     ]
    }
   ],
   "source": [
    "for state in graph.get_state_history(thread2):\n",
    "    print(state, \"\\n\")"
   ]
  },
  {
   "cell_type": "code",
   "execution_count": null,
   "metadata": {},
   "outputs": [],
   "source": []
  }
 ],
 "metadata": {
  "kernelspec": {
   "display_name": ".venv",
   "language": "python",
   "name": "python3"
  },
  "language_info": {
   "codemirror_mode": {
    "name": "ipython",
    "version": 3
   },
   "file_extension": ".py",
   "mimetype": "text/x-python",
   "name": "python",
   "nbconvert_exporter": "python",
   "pygments_lexer": "ipython3",
   "version": "3.10.12"
  }
 },
 "nbformat": 4,
 "nbformat_minor": 2
}
