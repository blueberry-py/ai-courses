{
 "cells": [
  {
   "cell_type": "markdown",
   "metadata": {},
   "source": [
    "## Lesson 2: LangGraph Components\n",
    "\n",
    "https://learn.deeplearning.ai/courses/ai-agents-in-langgraph/lesson/3/langgraph-components"
   ]
  },
  {
   "cell_type": "code",
   "execution_count": 2,
   "metadata": {},
   "outputs": [],
   "source": [
    "import operator\n",
    "from typing import Annotated, TypedDict\n",
    "\n",
    "from dotenv import find_dotenv, load_dotenv\n",
    "from langchain_community.tools.tavily_search import TavilySearchResults\n",
    "from langchain_core.messages import AnyMessage, HumanMessage, SystemMessage, ToolMessage\n",
    "from langchain_openai import ChatOpenAI\n",
    "from langgraph.graph import END, StateGraph"
   ]
  },
  {
   "cell_type": "code",
   "execution_count": 5,
   "metadata": {},
   "outputs": [],
   "source": [
    "load_dotenv(find_dotenv())\n",
    "\n",
    "MODEL = \"glm-4\"\n",
    "BASE_URL = \"https://open.bigmodel.cn/api/paas/v4/\""
   ]
  },
  {
   "cell_type": "code",
   "execution_count": 6,
   "metadata": {},
   "outputs": [
    {
     "name": "stdout",
     "output_type": "stream",
     "text": [
      "<class 'langchain_community.tools.tavily_search.tool.TavilySearchResults'>\n",
      "tavily_search_results_json\n"
     ]
    }
   ],
   "source": [
    "tool = TavilySearchResults(max_results=4)\n",
    "\n",
    "print(type(tool))\n",
    "print(tool.name)"
   ]
  },
  {
   "cell_type": "code",
   "execution_count": 7,
   "metadata": {},
   "outputs": [],
   "source": [
    "class AgentState(TypedDict):\n",
    "    messages: Annotated[list[AnyMessage], operator.add]"
   ]
  },
  {
   "cell_type": "code",
   "execution_count": 8,
   "metadata": {},
   "outputs": [],
   "source": [
    "class Agent:\n",
    "    def __init__(self, model, tools, system: str = \"\") -> None:\n",
    "        self.system = system\n",
    "\n",
    "        graph = StateGraph(AgentState)\n",
    "        graph.add_node(node=\"llm\", action=self.call_openai)\n",
    "        graph.add_node(node=\"action\", action=self.take_action)\n",
    "        graph.add_conditional_edges(\n",
    "            source=\"llm\", path=self.exists_action, path_map={True: \"action\", False: END}\n",
    "        )\n",
    "        graph.add_edge(start_key=\"action\", end_key=\"llm\")\n",
    "        graph.set_entry_point(key=\"llm\")\n",
    "\n",
    "        self.graph = graph.compile()\n",
    "        self.tools = {t.name: t for t in tools}\n",
    "        self.model = model.bind_tools(tools)\n",
    "\n",
    "    def exists_action(self, state: AgentState) -> bool:\n",
    "        result = state[\"messages\"][-1]\n",
    "        return len(result.tool_calls) > 0\n",
    "\n",
    "    def call_openai(self, state: AgentState) -> dict:\n",
    "        messages = state[\"messages\"]\n",
    "\n",
    "        if self.system:\n",
    "            messages = [SystemMessage(content=self.system)] + messages\n",
    "\n",
    "        message = self.model.invoke(messages)\n",
    "\n",
    "        return {\"messages\": [message]}\n",
    "\n",
    "    def take_action(self, state: AgentState) -> dict:\n",
    "        tool_calls = state[\"messages\"][-1].tool_calls\n",
    "        results = []\n",
    "\n",
    "        for t in tool_calls:\n",
    "            print(f\"Calling: {t}\")\n",
    "\n",
    "            result = self.tools[t[\"name\"]].invoke(t[\"args\"])\n",
    "            results.append(\n",
    "                ToolMessage(tool_call_id=t[\"id\"], name=t[\"name\"], content=str(result))\n",
    "            )\n",
    "\n",
    "        print(\"Back to the model!\")\n",
    "\n",
    "        return {\"messages\": results}"
   ]
  },
  {
   "cell_type": "code",
   "execution_count": 9,
   "metadata": {},
   "outputs": [],
   "source": [
    "prompt = \"\"\"You are a smart research assistant. Use the search engine to look up information. \\\n",
    "You are allowed to make multiple calls (either together or in sequence). \\\n",
    "Only look up information when you are sure of what you want. \\\n",
    "If you need to look up some information before asking a follow up question, you are allowed to do that!\n",
    "\"\"\""
   ]
  },
  {
   "cell_type": "code",
   "execution_count": 14,
   "metadata": {},
   "outputs": [],
   "source": [
    "model = ChatOpenAI(model=MODEL, base_url=BASE_URL)"
   ]
  },
  {
   "cell_type": "code",
   "execution_count": 15,
   "metadata": {},
   "outputs": [],
   "source": [
    "abot = Agent(model=model, tools=[tool], system=prompt)"
   ]
  },
  {
   "cell_type": "code",
   "execution_count": 16,
   "metadata": {},
   "outputs": [
    {
     "name": "stdout",
     "output_type": "stream",
     "text": [
      "Calling: {'name': 'tavily_search_results_json', 'args': {'query': 'San Francisco weather'}, 'id': 'call_8726258812609962530'}\n",
      "Back to the model!\n"
     ]
    }
   ],
   "source": [
    "messages = [HumanMessage(content=\"What is the weather like in San Francisco now?\")]\n",
    "\n",
    "result = abot.graph.invoke({\"messages\": messages})"
   ]
  },
  {
   "cell_type": "code",
   "execution_count": 19,
   "metadata": {},
   "outputs": [
    {
     "name": "stdout",
     "output_type": "stream",
     "text": [
      "content='What is the weather like in San Francisco now?'\n",
      "content='' additional_kwargs={'tool_calls': [{'id': 'call_8726258812609962530', 'function': {'arguments': '{\"query\":\"San Francisco weather\"}', 'name': 'tavily_search_results_json'}, 'type': 'function', 'index': 0}]} response_metadata={'token_usage': {'completion_tokens': 20, 'prompt_tokens': 214, 'total_tokens': 234}, 'model_name': 'glm-4', 'system_fingerprint': None, 'finish_reason': 'tool_calls', 'logprobs': None} id='run-57683940-ce03-4821-b9a9-ca0f3295f84a-0' tool_calls=[{'name': 'tavily_search_results_json', 'args': {'query': 'San Francisco weather'}, 'id': 'call_8726258812609962530'}] usage_metadata={'input_tokens': 214, 'output_tokens': 20, 'total_tokens': 234}\n",
      "content='[{\\'url\\': \\'https://www.weatherapi.com/\\', \\'content\\': \"{\\'location\\': {\\'name\\': \\'San Francisco\\', \\'region\\': \\'California\\', \\'country\\': \\'United States of America\\', \\'lat\\': 37.78, \\'lon\\': -122.42, \\'tz_id\\': \\'America/Los_Angeles\\', \\'localtime_epoch\\': 1717668357, \\'localtime\\': \\'2024-06-06 3:05\\'}, \\'current\\': {\\'last_updated_epoch\\': 1717668000, \\'last_updated\\': \\'2024-06-06 03:00\\', \\'temp_c\\': 9.0, \\'temp_f\\': 48.2, \\'is_day\\': 0, \\'condition\\': {\\'text\\': \\'Mist\\', \\'icon\\': \\'//cdn.weatherapi.com/weather/64x64/night/143.png\\', \\'code\\': 1030}, \\'wind_mph\\': 2.2, \\'wind_kph\\': 3.6, \\'wind_degree\\': 10, \\'wind_dir\\': \\'N\\', \\'pressure_mb\\': 1011.0, \\'pressure_in\\': 29.86, \\'precip_mm\\': 0.0, \\'precip_in\\': 0.0, \\'humidity\\': 100, \\'cloud\\': 25, \\'feelslike_c\\': 7.1, \\'feelslike_f\\': 44.8, \\'windchill_c\\': 10.8, \\'windchill_f\\': 51.4, \\'heatindex_c\\': 12.0, \\'heatindex_f\\': 53.5, \\'dewpoint_c\\': 9.5, \\'dewpoint_f\\': 49.1, \\'vis_km\\': 8.0, \\'vis_miles\\': 4.0, \\'uv\\': 1.0, \\'gust_mph\\': 12.0, \\'gust_kph\\': 19.3}}\"}, {\\'url\\': \\'https://www.weathertab.com/en/c/e/06/united-states/california/san-francisco/\\', \\'content\\': \\'Explore comprehensive June 2024 weather forecasts for San Francisco, including daily high and low temperatures, precipitation risks, and monthly temperature trends. Featuring detailed day-by-day forecasts, dynamic graphs of daily rain probabilities, and temperature trends to help you plan ahead.\\'}, {\\'url\\': \\'https://www.accuweather.com/en/us/san-francisco/94103/june-weather/347629\\', \\'content\\': \\'Get the monthly weather forecast for San Francisco, CA, including daily high/low, historical averages, to help you plan ahead.\\'}, {\\'url\\': \\'https://world-weather.info/forecast/usa/san_francisco/june-2024/\\', \\'content\\': \\'Extended weather forecast in San Francisco. Hourly Week 10 days 14 days 30 days Year. Detailed ⚡ San Francisco Weather Forecast for June 2024 - day/night 🌡️ temperatures, precipitations - World-Weather.info.\\'}]' name='tavily_search_results_json' tool_call_id='call_8726258812609962530'\n",
      "content=\"According to the search results, the current weather condition in San Francisco is mist with a temperature of 9.0°C (48.2°F). It's night time and the wind speed is 3.6 km/h (2.2 mph) from the north. The visibility is 8.0 kilometers (4.0 miles) and the humidity is 100%. Please note that weather conditions may change, so it's always a good idea to check for updates before going outside.\" response_metadata={'token_usage': {'completion_tokens': 101, 'prompt_tokens': 875, 'total_tokens': 976}, 'model_name': 'glm-4', 'system_fingerprint': None, 'finish_reason': 'stop', 'logprobs': None} id='run-0882bb73-d04f-43f5-992f-2dc409efb577-0' usage_metadata={'input_tokens': 875, 'output_tokens': 101, 'total_tokens': 976}\n"
     ]
    }
   ],
   "source": [
    "for message in result[\"messages\"]:\n",
    "    print(message)"
   ]
  },
  {
   "cell_type": "code",
   "execution_count": 20,
   "metadata": {},
   "outputs": [
    {
     "name": "stdout",
     "output_type": "stream",
     "text": [
      "According to the search results, the current weather condition in San Francisco is mist with a temperature of 9.0°C (48.2°F). It's night time and the wind speed is 3.6 km/h (2.2 mph) from the north. The visibility is 8.0 kilometers (4.0 miles) and the humidity is 100%. Please note that weather conditions may change, so it's always a good idea to check for updates before going outside.\n"
     ]
    }
   ],
   "source": [
    "print(result[\"messages\"][-1].content)"
   ]
  },
  {
   "cell_type": "code",
   "execution_count": 21,
   "metadata": {},
   "outputs": [
    {
     "name": "stdout",
     "output_type": "stream",
     "text": [
      "Calling: {'name': 'tavily_search_results_json', 'args': {'query': 'San Francisco weather'}, 'id': 'call_8726254174045176622'}\n",
      "Back to the model!\n",
      "Calling: {'name': 'tavily_search_results_json', 'args': {'query': 'Los Angeles weather'}, 'id': 'call_8726254002246480129'}\n",
      "Back to the model!\n"
     ]
    }
   ],
   "source": [
    "messages = [\n",
    "    HumanMessage(\n",
    "        content=\"What is the weather like in San Francisco and Los Angeles now?\"\n",
    "    )\n",
    "]\n",
    "\n",
    "result = abot.graph.invoke({\"messages\": messages})"
   ]
  },
  {
   "cell_type": "code",
   "execution_count": 22,
   "metadata": {},
   "outputs": [
    {
     "name": "stdout",
     "output_type": "stream",
     "text": [
      "The current weather in San Francisco is mist with a temperature of 9.0°C (48.2°F), while the current weather in Los Angeles is also mist with a temperature of 17.2°C (63.0°F).\n"
     ]
    }
   ],
   "source": [
    "print(result[\"messages\"][-1].content)"
   ]
  },
  {
   "cell_type": "code",
   "execution_count": 23,
   "metadata": {},
   "outputs": [
    {
     "name": "stdout",
     "output_type": "stream",
     "text": [
      "Calling: {'name': 'tavily_search_results_json', 'args': {'query': 'super bowl 2024 winner'}, 'id': 'call_8721259058359544598'}\n",
      "Back to the model!\n",
      "Calling: {'name': 'tavily_search_results_json', 'args': {'query': 'gdp of kansas city'}, 'id': 'call_8726252627856829320'}\n",
      "Back to the model!\n"
     ]
    }
   ],
   "source": [
    "query = \"Who won the super bowl in 2024? What is the GDP of state where the winning team is located?\"\n",
    "\n",
    "messages = [HumanMessage(content=query)]\n",
    "\n",
    "result = abot.graph.invoke({\"messages\": messages})"
   ]
  },
  {
   "cell_type": "code",
   "execution_count": 24,
   "metadata": {},
   "outputs": [
    {
     "name": "stdout",
     "output_type": "stream",
     "text": [
      "The Kansas City Chiefs won the Super Bowl in 2024. The GDP of Kansas City, MO-KS (MSA) was $64,342,000,000 in 2022.\n"
     ]
    }
   ],
   "source": [
    "print(result[\"messages\"][-1].content)"
   ]
  },
  {
   "cell_type": "code",
   "execution_count": null,
   "metadata": {},
   "outputs": [],
   "source": []
  }
 ],
 "metadata": {
  "kernelspec": {
   "display_name": ".venv",
   "language": "python",
   "name": "python3"
  },
  "language_info": {
   "codemirror_mode": {
    "name": "ipython",
    "version": 3
   },
   "file_extension": ".py",
   "mimetype": "text/x-python",
   "name": "python",
   "nbconvert_exporter": "python",
   "pygments_lexer": "ipython3",
   "version": "3.10.12"
  }
 },
 "nbformat": 4,
 "nbformat_minor": 2
}
