{
 "cells": [
  {
   "cell_type": "markdown",
   "metadata": {},
   "source": [
    "## Lesson 2: Sequential Chats and Customer Onboarding\n",
    "\n",
    "https://learn.deeplearning.ai/courses/ai-agentic-design-patterns-with-autogen/lesson/3/sequential-chats-and-customer-onboarding"
   ]
  },
  {
   "cell_type": "code",
   "execution_count": 1,
   "metadata": {},
   "outputs": [],
   "source": [
    "from autogen import ConversableAgent\n",
    "from dotenv import find_dotenv, load_dotenv"
   ]
  },
  {
   "cell_type": "code",
   "execution_count": 12,
   "metadata": {},
   "outputs": [],
   "source": [
    "load_dotenv(find_dotenv())\n",
    "\n",
    "MODEL_NAME = \"glm-4-air\"\n",
    "BASE_URL = \"https://open.bigmodel.cn/api/paas/v4/\"\n",
    "\n",
    "llm_config = {\"model\": MODEL_NAME, \"base_url\": BASE_URL, \"temperature\": 0.5}"
   ]
  },
  {
   "cell_type": "markdown",
   "metadata": {},
   "source": [
    "### Creating the needed agents"
   ]
  },
  {
   "cell_type": "code",
   "execution_count": 13,
   "metadata": {},
   "outputs": [],
   "source": [
    "onboarding_personal_information_agent = ConversableAgent(\n",
    "    name=\"Onboarding Personal Information Agent\",\n",
    "    system_message=\"\"\"You are a helpful customer onboarding agent,\n",
    "        you are here to help new customers get started with our product.\n",
    "        Your job is to gather customer's name and location.\n",
    "        Do not ask for other information. Return 'TERMINATE'\n",
    "        when you have gathered all the information.\n",
    "    \"\"\",\n",
    "    llm_config=llm_config,\n",
    "    code_execution_config=False,\n",
    "    human_input_mode=\"NEVER\",\n",
    ")\n",
    "\n",
    "onboarding_topic_preference_agent = ConversableAgent(\n",
    "    name=\"Onboarding Topic Preference Agent\",\n",
    "    system_message=\"\"\"You are a helpful customer onboarding agent,\n",
    "        you are here to help new customers get started with our product.\n",
    "        Your job is to gather customer's preferences on news topics.\n",
    "        Do not ask for other information. Return 'TERMINATE'\n",
    "        when you have gathered all the information.\n",
    "    \"\"\",\n",
    "    llm_config=llm_config,\n",
    "    code_execution_config=False,\n",
    "    human_input_mode=\"NEVER\",\n",
    ")\n",
    "\n",
    "customer_engagement_agent = ConversableAgent(\n",
    "    name=\"Customer Engagement Agent\",\n",
    "    system_message=\"\"\"You are a helpful customer service agent\n",
    "        here to provide fun for the customer based on the user's\n",
    "        personal information and topic preferences.\n",
    "        This could include fun facts, jokes, or interesting stories.\n",
    "        Make sure to make it engaging and fun!\n",
    "        Return 'TERMINATE' when you are done.\n",
    "    \"\"\",\n",
    "    llm_config=llm_config,\n",
    "    code_execution_config=False,\n",
    "    human_input_mode=\"NEVER\",\n",
    "    is_termination_msg=lambda msg: \"terminate\" in msg.get(\"content\").lower(),\n",
    ")\n",
    "\n",
    "customer_proxy_agent = ConversableAgent(\n",
    "    name=\"customer_proxy_agent\",\n",
    "    llm_config=False,\n",
    "    code_execution_config=False,\n",
    "    human_input_mode=\"ALWAYS\",\n",
    "    is_termination_msg=lambda msg: \"terminate\" in msg.get(\"content\").lower(),\n",
    ")"
   ]
  },
  {
   "cell_type": "markdown",
   "metadata": {},
   "source": [
    "### Creating tasks\n",
    "Now you can craft a series of tasks to facilitate the onboarding process."
   ]
  },
  {
   "cell_type": "code",
   "execution_count": 14,
   "metadata": {},
   "outputs": [],
   "source": [
    "chats = [\n",
    "    {\n",
    "        \"sender\": onboarding_personal_information_agent,\n",
    "        \"recipient\": customer_proxy_agent,\n",
    "        \"message\": \"\"\"\n",
    "            Hello, I'm here to help you get started with our product.\n",
    "            Could you tell me your name and location?\n",
    "        \"\"\",\n",
    "        \"summary_method\": \"reflection_with_llm\",\n",
    "        \"summary_args\": {\n",
    "            \"summary_prompt\": \"\"\"\n",
    "                Return the customer information into as\n",
    "                JSON object only: {'name': '', 'location': ''}\n",
    "            \"\"\",\n",
    "        },\n",
    "        \"max_turns\": 2,\n",
    "        \"clear_hisotry\": True,\n",
    "    },\n",
    "    {\n",
    "        \"sender\": onboarding_topic_preference_agent,\n",
    "        \"recipient\": customer_proxy_agent,\n",
    "        \"message\": \"\"\"\n",
    "            Great! Could you tell me what topics you are interested in reading about?\n",
    "        \"\"\",\n",
    "        \"summary_method\": \"reflection_with_llm\",\n",
    "        \"max_turns\": 1,\n",
    "        \"clear_hisotry\": False,\n",
    "    },\n",
    "    {\n",
    "        \"sender\": customer_proxy_agent,\n",
    "        \"recipient\": customer_engagement_agent,\n",
    "        \"message\": \"Let's find somthing fun to read.\",\n",
    "        \"summary_method\": \"reflection_with_llm\",\n",
    "        \"max_turns\": 1,\n",
    "    },\n",
    "]"
   ]
  },
  {
   "cell_type": "markdown",
   "metadata": {},
   "source": [
    "### Start the onboarding process"
   ]
  },
  {
   "cell_type": "code",
   "execution_count": 5,
   "metadata": {},
   "outputs": [],
   "source": [
    "from autogen import initiate_chats"
   ]
  },
  {
   "cell_type": "code",
   "execution_count": 15,
   "metadata": {},
   "outputs": [
    {
     "name": "stdout",
     "output_type": "stream",
     "text": [
      "\u001b[34m\n",
      "********************************************************************************\u001b[0m\n",
      "\u001b[34mStarting a new chat....\u001b[0m\n",
      "\u001b[34m\n",
      "********************************************************************************\u001b[0m\n",
      "\u001b[33mOnboarding Personal Information Agent\u001b[0m (to customer_proxy_agent):\n",
      "\n",
      "\n",
      "            Hello, I'm here to help you get started with our product.\n",
      "            Could you tell me your name and location?\n",
      "        \n",
      "\n",
      "--------------------------------------------------------------------------------\n",
      "\u001b[33mcustomer_proxy_agent\u001b[0m (to Onboarding Personal Information Agent):\n",
      "\n",
      "I'm Bob and I'm in London right now.\n",
      "\n",
      "--------------------------------------------------------------------------------\n",
      "\u001b[33mOnboarding Personal Information Agent\u001b[0m (to customer_proxy_agent):\n",
      "\n",
      "Thank you, Bob. I've noted that you're in London. Is there anything else I can assist you with before we proceed? If not, I will mark this as complete and move forward with the onboarding process. TERMINATE\n",
      "\n",
      "--------------------------------------------------------------------------------\n",
      "\u001b[33mcustomer_proxy_agent\u001b[0m (to Onboarding Personal Information Agent):\n",
      "\n",
      "no thank you\n",
      "\n",
      "--------------------------------------------------------------------------------\n",
      "\u001b[34m\n",
      "********************************************************************************\u001b[0m\n",
      "\u001b[34mStarting a new chat....\u001b[0m\n",
      "\u001b[34m\n",
      "********************************************************************************\u001b[0m\n",
      "\u001b[33mOnboarding Topic Preference Agent\u001b[0m (to customer_proxy_agent):\n",
      "\n",
      "\n",
      "            Great! Could you tell me what topics you are interested in reading about?\n",
      "        \n",
      "Context: \n",
      ", that's all I needed to get started. You can proceed with the onboarding process for me.\n",
      "\n",
      "--------------------------------------------------------------------------------\n",
      "\u001b[33mcustomer_proxy_agent\u001b[0m (to Onboarding Topic Preference Agent):\n",
      "\n",
      "science fiction\n",
      "\n",
      "--------------------------------------------------------------------------------\n",
      "\u001b[34m\n",
      "********************************************************************************\u001b[0m\n",
      "\u001b[34mStarting a new chat....\u001b[0m\n",
      "\u001b[34m\n",
      "********************************************************************************\u001b[0m\n",
      "\u001b[33mcustomer_proxy_agent\u001b[0m (to Customer Engagement Agent):\n",
      "\n",
      "Let's find somthing fun to read.\n",
      "Context: \n",
      ", that's all I needed to get started. You can proceed with the onboarding process for me.\n",
      ", artificial intelligence, space exploration, technological advancements, philosophy of mind, cognitive science, quantum computing, historical fiction, cybersecurity, and the impact of technology on society. However, my interests are not limited to these topics as I am designed to assist with a wide range of subjects based on user queries and needs. If you have a specific topic in mind, feel free to let me know, and I can provide information or discuss it with you.\n",
      "\n",
      "--------------------------------------------------------------------------------\n",
      "\u001b[33mCustomer Engagement Agent\u001b[0m (to customer_proxy_agent):\n",
      "\n",
      "Absolutely, with such a diverse set of interests, we've got a treasure trove of topics to explore! Let's kick things off with a fun fact that bridges technology and space exploration:\n",
      "\n",
      "Did you know that the first piece of hardware from the International Space Station (ISS) to be brought back to Earth was a toilet? Specifically, it was a Russian-built toilet facility, returned after the ISS's first crew, Expedition 1, completed their mission. It's a quirky detail, considering the toilet is one of the most used, yet least celebrated, pieces of technology on the ISS!\n",
      "\n",
      "Now, for a bit of a joke to lighten the mood:\n",
      "\n",
      "Why don't scientists trust atoms?\n",
      "\n",
      "Because they make up everything!\n",
      "\n",
      "And because you enjoy historical fiction, here's a tidbit that might peak your interest: The book \"The Three-Body Problem\" by Liu Cixin is a blend of historical fiction and science fiction. It starts during the Cultural Revolution in China and then jumps into a grand tale of first contact with an alien civilization. It's a fantastic read that intertwines philosophy of mind, cognitive science, and quantum computing within its story.\n",
      "\n",
      "For a touch of cybersecurity fun, here's an interesting story:\n",
      "\n",
      "There's a type of attack called \" Whale Phishing,\" where cybercriminals target high-profile individuals within a company, like CEOs or CFOs, with spear phishing attacks. The story of how these \"whales\" can be lured into giving away sensitive information is as intriguing as it is concerning for corporate cybersecurity.\n",
      "\n",
      "Since we've touched on quantum computing, here's a mind-bending thought: Quantum computers have the potential to solve problems that classical computers would take billions of years to solve. Imagine the societal impact when we unlock that kind of power!\n",
      "\n",
      "Lastly, considering the impact of technology on society, here's a thought-provoking quote by Arthur C. Clarke: \"Any sufficiently advanced technology is indistinguishable from magic.\"\n",
      "\n",
      "I hope you've enjoyed this little foray into fun facts and jokes! If you'd like to dive deeper into any of these topics or explore another subject entirely, just let me know. TERMINATE\n",
      "\n",
      "--------------------------------------------------------------------------------\n"
     ]
    }
   ],
   "source": [
    "chat_results = initiate_chats(chat_queue=chats)"
   ]
  },
  {
   "cell_type": "markdown",
   "metadata": {},
   "source": [
    "### Print out the summary"
   ]
  },
  {
   "cell_type": "code",
   "execution_count": 16,
   "metadata": {},
   "outputs": [
    {
     "name": "stdout",
     "output_type": "stream",
     "text": [
      ", that's all I needed to get started. You can proceed with the onboarding process for me.\n",
      "\n",
      "\n",
      ", artificial intelligence, space exploration, technological advancements, philosophy of mind, cognitive science, quantum computing, historical fiction, cybersecurity, and the impact of technology on society. However, my interests are not limited to these topics as I am designed to assist with a wide range of subjects based on user queries and needs. If you have a specific topic in mind, feel free to let me know, and I can provide information or discuss it with you.\n",
      "\n",
      "\n",
      "the current thread if you'd like to move on to something else, or CONTINUE exploring the current theme.\n",
      "\n",
      "\n"
     ]
    }
   ],
   "source": [
    "for chat_result in chat_results:\n",
    "    print(chat_result.summary)\n",
    "    print(\"\\n\")"
   ]
  },
  {
   "cell_type": "markdown",
   "metadata": {},
   "source": [
    "### Print out the cost"
   ]
  },
  {
   "cell_type": "code",
   "execution_count": 17,
   "metadata": {},
   "outputs": [
    {
     "name": "stdout",
     "output_type": "stream",
     "text": [
      "{'usage_including_cached_inference': {'total_cost': 0, 'glm-4-air': {'cost': 0, 'prompt_tokens': 203, 'completion_tokens': 71, 'total_tokens': 274}}, 'usage_excluding_cached_inference': {'total_cost': 0, 'glm-4-air': {'cost': 0, 'prompt_tokens': 203, 'completion_tokens': 71, 'total_tokens': 274}}}\n",
      "\n",
      "\n",
      "{'usage_including_cached_inference': {'total_cost': 0, 'glm-4-air': {'cost': 0, 'prompt_tokens': 49, 'completion_tokens': 90, 'total_tokens': 139}}, 'usage_excluding_cached_inference': {'total_cost': 0, 'glm-4-air': {'cost': 0, 'prompt_tokens': 49, 'completion_tokens': 90, 'total_tokens': 139}}}\n",
      "\n",
      "\n",
      "{'usage_including_cached_inference': {'total_cost': 0, 'glm-4-air': {'cost': 0, 'prompt_tokens': 752, 'completion_tokens': 455, 'total_tokens': 1207}}, 'usage_excluding_cached_inference': {'total_cost': 0, 'glm-4-air': {'cost': 0, 'prompt_tokens': 752, 'completion_tokens': 455, 'total_tokens': 1207}}}\n",
      "\n",
      "\n"
     ]
    }
   ],
   "source": [
    "for chat_result in chat_results:\n",
    "    print(chat_result.cost)\n",
    "    print(\"\\n\")"
   ]
  },
  {
   "cell_type": "code",
   "execution_count": null,
   "metadata": {},
   "outputs": [],
   "source": []
  }
 ],
 "metadata": {
  "kernelspec": {
   "display_name": ".venv",
   "language": "python",
   "name": "python3"
  },
  "language_info": {
   "codemirror_mode": {
    "name": "ipython",
    "version": 3
   },
   "file_extension": ".py",
   "mimetype": "text/x-python",
   "name": "python",
   "nbconvert_exporter": "python",
   "pygments_lexer": "ipython3",
   "version": "3.10.12"
  }
 },
 "nbformat": 4,
 "nbformat_minor": 2
}
