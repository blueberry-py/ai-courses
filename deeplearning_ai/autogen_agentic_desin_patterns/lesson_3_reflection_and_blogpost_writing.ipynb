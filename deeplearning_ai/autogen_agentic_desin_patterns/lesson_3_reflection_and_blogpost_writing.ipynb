{
 "cells": [
  {
   "cell_type": "markdown",
   "metadata": {},
   "source": [
    "## Lesson 3: Reflection and Blogpost Writing\n",
    "\n",
    "https://learn.deeplearning.ai/courses/ai-agentic-design-patterns-with-autogen/lesson/4/reflection-and-blogpost-writing"
   ]
  },
  {
   "cell_type": "code",
   "execution_count": 4,
   "metadata": {},
   "outputs": [],
   "source": [
    "import autogen\n",
    "from dotenv import find_dotenv, load_dotenv"
   ]
  },
  {
   "cell_type": "code",
   "execution_count": 5,
   "metadata": {},
   "outputs": [],
   "source": [
    "load_dotenv(find_dotenv())\n",
    "\n",
    "MODEL_NAME = \"glm-4\"\n",
    "BASE_URL = \"https://open.bigmodel.cn/api/paas/v4/\"\n",
    "\n",
    "llm_config = {\"model\": MODEL_NAME, \"base_url\": BASE_URL, \"temperature\": 0.5}"
   ]
  },
  {
   "cell_type": "markdown",
   "metadata": {},
   "source": [
    "### The task!"
   ]
  },
  {
   "cell_type": "code",
   "execution_count": 6,
   "metadata": {},
   "outputs": [],
   "source": [
    "task = \"\"\"\n",
    "    Write a concise but engaging blogpost about DeepLearning.AI.\n",
    "    Make sure the blogpost is within 100 words.\n",
    "\"\"\""
   ]
  },
  {
   "cell_type": "markdown",
   "metadata": {},
   "source": [
    "### Create a writer agent"
   ]
  },
  {
   "cell_type": "code",
   "execution_count": 7,
   "metadata": {},
   "outputs": [],
   "source": [
    "writer = autogen.AssistantAgent(\n",
    "    name=\"Writer\",\n",
    "    llm_config=llm_config,\n",
    "    system_message=\"\"\"\n",
    "        You are a writer. You write engaging and concise\n",
    "        blogpost (with title) on given topics. You must polish your\n",
    "        writing based on the feedback you receive and give a refined\n",
    "        version. Only return your final work without additional comments.\n",
    "    \"\"\",\n",
    ")"
   ]
  },
  {
   "cell_type": "code",
   "execution_count": 8,
   "metadata": {},
   "outputs": [],
   "source": [
    "reply = writer.generate_reply(messages=[{\"role\": \"user\", \"content\": task}])"
   ]
  },
  {
   "cell_type": "code",
   "execution_count": 9,
   "metadata": {},
   "outputs": [
    {
     "name": "stdout",
     "output_type": "stream",
     "text": [
      "Title: Unleashing the Power of DeepLearning.AI\n",
      "\n",
      "DeepLearning.AI: a revolution in the world of artificial intelligence. This cutting-edge platform, founded by AI pioneer Andrew Ng, offers comprehensive courses and resources to master neural networks and deep learning. Whether you're a beginner or an experienced professional, DeepLearning.AI empowers you to unlock the potential of AI, driving innovation and transforming industries. Don't miss out on this opportunity to become a part of the deep learning revolution. Join DeepLearning.AI today and shape the future!\n"
     ]
    }
   ],
   "source": [
    "print(reply)"
   ]
  },
  {
   "cell_type": "markdown",
   "metadata": {},
   "source": [
    "### Adding reflection\n",
    "Create a critic agent to reflect on the work of the writer agent."
   ]
  },
  {
   "cell_type": "code",
   "execution_count": 10,
   "metadata": {},
   "outputs": [],
   "source": [
    "critic = autogen.AssistantAgent(\n",
    "    name=\"Critic\",\n",
    "    llm_config=llm_config,\n",
    "    system_message=\"\"\"\n",
    "        You are a critic. You evaluate the content of the writer\n",
    "        and give constructive feedback on the content to help improve\n",
    "        the quality of the blogpost.\n",
    "    \"\"\",\n",
    "    is_termination_msg=lambda msg: msg.get(\"content\", \"\").find(\"TERMINATE\") >= 0,\n",
    ")"
   ]
  },
  {
   "cell_type": "code",
   "execution_count": 11,
   "metadata": {},
   "outputs": [
    {
     "name": "stdout",
     "output_type": "stream",
     "text": [
      "\u001b[33mCritic\u001b[0m (to Writer):\n",
      "\n",
      "\n",
      "    Write a concise but engaging blogpost about DeepLearning.AI.\n",
      "    Make sure the blogpost is within 100 words.\n",
      "\n",
      "\n",
      "--------------------------------------------------------------------------------\n",
      "\u001b[33mWriter\u001b[0m (to Critic):\n",
      "\n",
      "Title: Unleashing the Power of DeepLearning.AI\n",
      "\n",
      "DeepLearning.AI: a revolution in the world of artificial intelligence. This cutting-edge platform, founded by AI pioneer Andrew Ng, offers comprehensive courses and resources to master neural networks and deep learning. Whether you're a beginner or an experienced professional, DeepLearning.AI empowers you to unlock the potential of AI, driving innovation and transforming industries. Don't miss out on this opportunity to become a part of the deep learning revolution. Join DeepLearning.AI today and shape the future!\n",
      "\n",
      "--------------------------------------------------------------------------------\n",
      "\u001b[33mCritic\u001b[0m (to Writer):\n",
      "\n",
      "Your blogpost is concise and to the point, which is great for capturing attention in a busy online environment. However, to provide constructive feedback and enhance the quality, here are a few suggestions:\n",
      "\n",
      "1. **Title Refinement**: The title is catchy, but it could be more specific to what readers can expect from the post or the platform. For example:\n",
      "   \"Elevate Your AI Knowledge with DeepLearning.AI\"\n",
      "\n",
      "2. **Engagement**: To engage the reader more, consider starting with a question or a statement that connects with their aspirations or challenges.\n",
      "   \"Ready to dive into the depths of artificial intelligence? DeepLearning.AI is your gateway.\"\n",
      "\n",
      "3. **Clarity**: While brief, the post could benefit from a bit more clarity on what the platform offers. For example, you could mention specific course highlights or outcomes.\n",
      "\n",
      "4. **Call to Action**: The call to action is good, but it could be more persuasive. Here's a revised version:\n",
      "   \"Embark on your deep learning journey today. Join DeepLearning.AI and become a catalyst for the AI revolution!\"\n",
      "\n",
      "Here's a revised version of your blogpost incorporating these suggestions:\n",
      "\n",
      "---\n",
      "\n",
      "Title: Elevate Your AI Knowledge with DeepLearning.AI\n",
      "\n",
      "Are you ready to explore the forefront of artificial intelligence? DeepLearning.AI, led by the renowned Dr. Andrew Ng, is your portal to mastering neural networks and deep learning. Offering a suite of interactive courses, this platform equips you with the skills to innovate and lead in AI. From foundational concepts to advanced techniques, DeepLearning.AI is your launchpad to the future. Embark on your deep learning journey today. Join and become a catalyst for the AI revolution!\n",
      "\n",
      "---\n",
      "\n",
      "Remember, the goal is to provide value in a short space, so every word counts. Keep up the good work, and continue refining your writing to engage and inform your audience.\n",
      "\n",
      "--------------------------------------------------------------------------------\n",
      "\u001b[33mWriter\u001b[0m (to Critic):\n",
      "\n",
      "Title: Elevate Your AI Knowledge with DeepLearning.AI\n",
      "\n",
      "Are you eager to explore the boundless world of artificial intelligence? DeepLearning.AI, under the guidance of AI luminary Dr. Andrew Ng, is your key to unlocking the secrets of neural networks and deep learning. This treasure trove of interactive courses promises to equip you with the expertise needed to drive AI innovation. Whether you seek to grasp the basics or delve into advanced concepts, DeepLearning.AI is your springboard to the cutting edge. Take the leap today. Join us and become a force in the AI revolution!\n",
      "\n",
      "--------------------------------------------------------------------------------\n"
     ]
    }
   ],
   "source": [
    "res = critic.initiate_chat(\n",
    "    recipient=writer,\n",
    "    message=task,\n",
    "    max_turns=2,\n",
    "    summary_method=\"last_msg\",\n",
    ")"
   ]
  },
  {
   "cell_type": "code",
   "execution_count": 12,
   "metadata": {},
   "outputs": [
    {
     "name": "stdout",
     "output_type": "stream",
     "text": [
      "Title: Elevate Your AI Knowledge with DeepLearning.AI\n",
      "\n",
      "Are you eager to explore the boundless world of artificial intelligence? DeepLearning.AI, under the guidance of AI luminary Dr. Andrew Ng, is your key to unlocking the secrets of neural networks and deep learning. This treasure trove of interactive courses promises to equip you with the expertise needed to drive AI innovation. Whether you seek to grasp the basics or delve into advanced concepts, DeepLearning.AI is your springboard to the cutting edge. Take the leap today. Join us and become a force in the AI revolution!\n"
     ]
    }
   ],
   "source": [
    "print(res.summary)"
   ]
  },
  {
   "cell_type": "markdown",
   "metadata": {},
   "source": [
    "### Nested chat"
   ]
  },
  {
   "cell_type": "code",
   "execution_count": 13,
   "metadata": {},
   "outputs": [],
   "source": [
    "seo_reviewer = autogen.AssistantAgent(\n",
    "    name=\"SEO Reviewer\",\n",
    "    llm_config=llm_config,\n",
    "    system_message=\"\"\"\n",
    "        You are a SEO reviewer, known for\n",
    "        your ability to optimize content for search engines,\n",
    "        ensuring that it ranks well and attracts organic traffic.\n",
    "        Make sure your suggestion is concise (within 3 bullet points),\n",
    "        concrete and to the point.\n",
    "        Begin the review by stating your role.\n",
    "    \"\"\",\n",
    ")\n",
    "\n",
    "legal_reviewer = autogen.AssistantAgent(\n",
    "    name=\"Legal Reviewer\",\n",
    "    llm_config=llm_config,\n",
    "    system_message=\"\"\"\n",
    "        You are a Legal reviewer, known for\n",
    "        your ability to ensure that content is legally compliant\n",
    "        and free from any potential legal issues.\n",
    "        Make sure your suggestion is concise (within 3 bullet points),\n",
    "        concrete and to the point.\n",
    "        Begin the review by stating your role.\n",
    "    \"\"\",\n",
    ")\n",
    "\n",
    "ethics_reviewer = autogen.AssistantAgent(\n",
    "    name=\"Ethics Reviewer\",\n",
    "    llm_config=llm_config,\n",
    "    system_message=\"\"\"\n",
    "        You are an Ethics reviewer, known for\n",
    "        your ability to ensure that content is ethically sound\n",
    "        and free from any potential ethical issues.\n",
    "        Make sure your suggestion is concise (within 3 bullet points),\n",
    "        concrete and to the point.\n",
    "        Begin the review by stating your role.\n",
    "    \"\"\",\n",
    ")\n",
    "\n",
    "meta_reviewer = autogen.AssistantAgent(\n",
    "    name=\"Meta Reviewer\",\n",
    "    llm_config=llm_config,\n",
    "    system_message=\"\"\"\n",
    "        You are a meta reviewer, you aggragate and review\n",
    "        the work of other reviewers and give a final suggestion on the content.\n",
    "    \"\"\",\n",
    ")"
   ]
  },
  {
   "cell_type": "markdown",
   "metadata": {},
   "source": [
    "### Orchestrate the nested chats to solve the task"
   ]
  },
  {
   "cell_type": "code",
   "execution_count": 14,
   "metadata": {},
   "outputs": [],
   "source": [
    "def reflection_message(recipient, messages, sender, config):\n",
    "    return f\"\"\"Review the following content.\n",
    "        {recipient.chat_messages_for_summary(sender)[-1][\"content\"]}\n",
    "    \"\"\""
   ]
  },
  {
   "cell_type": "code",
   "execution_count": 15,
   "metadata": {},
   "outputs": [],
   "source": [
    "review_chats = [\n",
    "    {\n",
    "        \"recipient\": seo_reviewer,\n",
    "        \"message\": reflection_message,\n",
    "        \"summary_method\": \"reflection_with_llm\",\n",
    "        \"summary_args\": {\n",
    "            \"summary_prompt\": \"\"\"Return review into as JSON object only:\n",
    "                {\"Reviwer\": \"\", \"Review\": \"\"}. Here Reviewer should be your role.\n",
    "            \"\"\",\n",
    "        },\n",
    "        \"max_turns\": 1,\n",
    "    },\n",
    "    {\n",
    "        \"recipient\": legal_reviewer,\n",
    "        \"message\": reflection_message,\n",
    "        \"summary_method\": \"reflection_with_llm\",\n",
    "        \"summary_args\": {\n",
    "            \"summary_prompt\": \"\"\"Return review into as JSON object only:\n",
    "                {\"Reviwer\": \"\", \"Review\": \"\"}.\n",
    "            \"\"\",\n",
    "        },\n",
    "        \"max_turns\": 1,\n",
    "    },\n",
    "    {\n",
    "        \"recipient\": ethics_reviewer,\n",
    "        \"message\": reflection_message,\n",
    "        \"summary_method\": \"reflection_with_llm\",\n",
    "        \"summary_args\": {\n",
    "            \"summary_prompt\": \"\"\"Return review into as JSON object only:\n",
    "                {\"reviwer\": \"\", \"review\": \"\"}.\n",
    "            \"\"\",\n",
    "        },\n",
    "        \"max_turns\": 1,\n",
    "    },\n",
    "    {\n",
    "        \"recipient\": meta_reviewer,\n",
    "        \"message\": \"Aggregate feedback from all reviewers and give final suggestions on the writting.\",\n",
    "        \"max_turns\": 1,\n",
    "    },\n",
    "]"
   ]
  },
  {
   "cell_type": "code",
   "execution_count": 16,
   "metadata": {},
   "outputs": [],
   "source": [
    "critic.register_nested_chats(chat_queue=review_chats, trigger=writer)"
   ]
  },
  {
   "cell_type": "code",
   "execution_count": 17,
   "metadata": {},
   "outputs": [
    {
     "name": "stdout",
     "output_type": "stream",
     "text": [
      "\u001b[33mCritic\u001b[0m (to Writer):\n",
      "\n",
      "\n",
      "    Write a concise but engaging blogpost about DeepLearning.AI.\n",
      "    Make sure the blogpost is within 100 words.\n",
      "\n",
      "\n",
      "--------------------------------------------------------------------------------\n",
      "\u001b[33mWriter\u001b[0m (to Critic):\n",
      "\n",
      "Title: Unleashing the Power of DeepLearning.AI\n",
      "\n",
      "DeepLearning.AI: a revolution in the world of artificial intelligence. This cutting-edge platform, founded by AI pioneer Andrew Ng, offers comprehensive courses and resources to master neural networks and deep learning. Whether you're a beginner or an experienced professional, DeepLearning.AI empowers you to unlock the potential of AI, driving innovation and transforming industries. Don't miss out on this opportunity to become a part of the deep learning revolution. Join DeepLearning.AI today and shape the future!\n",
      "\n",
      "--------------------------------------------------------------------------------\n",
      "\u001b[34m\n",
      "********************************************************************************\u001b[0m\n",
      "\u001b[34mStarting a new chat....\u001b[0m\n",
      "\u001b[34m\n",
      "********************************************************************************\u001b[0m\n",
      "\u001b[33mCritic\u001b[0m (to SEO Reviewer):\n",
      "\n",
      "Review the following content.\n",
      "        Title: Unleashing the Power of DeepLearning.AI\n",
      "\n",
      "DeepLearning.AI: a revolution in the world of artificial intelligence. This cutting-edge platform, founded by AI pioneer Andrew Ng, offers comprehensive courses and resources to master neural networks and deep learning. Whether you're a beginner or an experienced professional, DeepLearning.AI empowers you to unlock the potential of AI, driving innovation and transforming industries. Don't miss out on this opportunity to become a part of the deep learning revolution. Join DeepLearning.AI today and shape the future!\n",
      "    \n",
      "\n",
      "--------------------------------------------------------------------------------\n",
      "\u001b[33mSEO Reviewer\u001b[0m (to Critic):\n",
      "\n",
      "Role: SEO Reviewer\n",
      "\n",
      "- Optimize title tag: \"Master Deep Learning with Andrew Ng's DeepLearning.AI\"\n",
      "- Include primary keyword: \"Deep learning courses\" in the first paragraph.\n",
      "- Enhance user engagement: Add a call-to-action (CTA) with a target keyword \"Start your AI journey now!\"\n",
      "\n",
      "--------------------------------------------------------------------------------\n",
      "\u001b[34m\n",
      "********************************************************************************\u001b[0m\n",
      "\u001b[34mStarting a new chat....\u001b[0m\n",
      "\u001b[34m\n",
      "********************************************************************************\u001b[0m\n",
      "\u001b[33mCritic\u001b[0m (to Legal Reviewer):\n",
      "\n",
      "Review the following content.\n",
      "        Title: Unleashing the Power of DeepLearning.AI\n",
      "\n",
      "DeepLearning.AI: a revolution in the world of artificial intelligence. This cutting-edge platform, founded by AI pioneer Andrew Ng, offers comprehensive courses and resources to master neural networks and deep learning. Whether you're a beginner or an experienced professional, DeepLearning.AI empowers you to unlock the potential of AI, driving innovation and transforming industries. Don't miss out on this opportunity to become a part of the deep learning revolution. Join DeepLearning.AI today and shape the future!\n",
      "    \n",
      "Context: \n",
      "- Optimized Content:\n",
      "\n",
      "Title: Master Deep Learning with Andrew Ng's DeepLearning.AI\n",
      "\n",
      "Deep learning courses have taken the world of artificial intelligence by storm, and at the forefront of this revolution is DeepLearning.AI, a platform founded by AI pioneer Andrew Ng. Offering comprehensive resources and courses, DeepLearning.AI is designed to help both beginners and seasoned professionals deep-dive into neural networks and deep learning. Ready to unlock the potential of AI and drive innovation? DeepLearning.AI empowers you to do just that, transforming industries along the way. Start your AI journey now and become a part of the deep learning revolution with DeepLearning.AI!\n",
      "\n",
      "Role: SEO Reviewer\n",
      "\n",
      "- Title tag optimized for search visibility and user appeal.\n",
      "- Primary keyword \"Deep learning courses\" integrated into the opening paragraph.\n",
      "- User engagement enhanced with a call-to-action \"Start your AI journey now!\", which includes a target keyword.\n",
      "\n",
      "--------------------------------------------------------------------------------\n",
      "\u001b[33mLegal Reviewer\u001b[0m (to Critic):\n",
      "\n",
      "Role: Legal Reviewer\n",
      "\n",
      "- Ensure the content does not imply a guaranteed outcome of becoming an expert in AI after joining the platform, as results may vary.\n",
      "- Confirm that the use of Andrew Ng's name and the mention of his role as a founder are accurate and have his consent, to avoid any defamation or false representation.\n",
      "- Check for proper disclosure if there is any affiliate or promotional relationship between the content creator and DeepLearning.AI, to maintain transparency and comply with advertising standards.\n",
      "\n",
      "--------------------------------------------------------------------------------\n",
      "\u001b[34m\n",
      "********************************************************************************\u001b[0m\n",
      "\u001b[34mStarting a new chat....\u001b[0m\n",
      "\u001b[34m\n",
      "********************************************************************************\u001b[0m\n",
      "\u001b[33mCritic\u001b[0m (to Ethics Reviewer):\n",
      "\n",
      "Review the following content.\n",
      "        Title: Unleashing the Power of DeepLearning.AI\n",
      "\n",
      "DeepLearning.AI: a revolution in the world of artificial intelligence. This cutting-edge platform, founded by AI pioneer Andrew Ng, offers comprehensive courses and resources to master neural networks and deep learning. Whether you're a beginner or an experienced professional, DeepLearning.AI empowers you to unlock the potential of AI, driving innovation and transforming industries. Don't miss out on this opportunity to become a part of the deep learning revolution. Join DeepLearning.AI today and shape the future!\n",
      "    \n",
      "Context: \n",
      "- Optimized Content:\n",
      "\n",
      "Title: Master Deep Learning with Andrew Ng's DeepLearning.AI\n",
      "\n",
      "Deep learning courses have taken the world of artificial intelligence by storm, and at the forefront of this revolution is DeepLearning.AI, a platform founded by AI pioneer Andrew Ng. Offering comprehensive resources and courses, DeepLearning.AI is designed to help both beginners and seasoned professionals deep-dive into neural networks and deep learning. Ready to unlock the potential of AI and drive innovation? DeepLearning.AI empowers you to do just that, transforming industries along the way. Start your AI journey now and become a part of the deep learning revolution with DeepLearning.AI!\n",
      "\n",
      "Role: SEO Reviewer\n",
      "\n",
      "- Title tag optimized for search visibility and user appeal.\n",
      "- Primary keyword \"Deep learning courses\" integrated into the opening paragraph.\n",
      "- User engagement enhanced with a call-to-action \"Start your AI journey now!\", which includes a target keyword.\n",
      "Content Review:\n",
      "\n",
      "The content appears to be well-structured with a focus on search engine optimization (SEO) and user engagement. The title tag is designed to improve search visibility and attract users. The integration of the primary keyword \"Deep learning courses\" is strategic, and the call-to-action is likely to prompt user interaction.\n",
      "\n",
      "However, from a legal standpoint, the following considerations should be addressed:\n",
      "\n",
      "1. **Misrepresentation**: The content should avoid overpromising outcomes. Suggested change: \"Ready to unlock the potential of AI and drive innovation?\" could be revised to \"Embark on a learning journey to explore the potential of AI and contribute to innovation.\"\n",
      "\n",
      "2. **Consent and Accuracy**: It is crucial to ensure that the use of Andrew Ng's name and his role as the founder of DeepLearning.AI is accurate and that his consent has been obtained for this promotional content.\n",
      "\n",
      "3. **Transparency**: If there is any affiliate relationship or if the content is promotional in nature, there should be a clear disclosure statement to inform readers of this relationship.\n",
      "\n",
      "By addressing these points, the content can maintain its engaging quality while also adhering to legal standards and ethical practices.\n",
      "\n",
      "--------------------------------------------------------------------------------\n",
      "\u001b[33mEthics Reviewer\u001b[0m (to Critic):\n",
      "\n",
      "Role: Ethics Reviewer\n",
      "\n",
      "- **Accuracy and Consent**: Verify the factual accuracy of Andrew Ng's involvement and obtain his consent for using his name and credentials in promotional material.\n",
      "  \n",
      "- **Responsible Messaging**: Refine the call-to-action to ensure it doesn't overstate the potential outcomes of taking the courses, to avoid misleading readers.\n",
      "\n",
      "- **Disclosure of Relationships**: If there is any financial or promotional relationship between the content creator and DeepLearning.AI, include a clear disclosure statement for transparency.\n",
      "\n",
      "--------------------------------------------------------------------------------\n",
      "\u001b[34m\n",
      "********************************************************************************\u001b[0m\n",
      "\u001b[34mStarting a new chat....\u001b[0m\n",
      "\u001b[34m\n",
      "********************************************************************************\u001b[0m\n",
      "\u001b[33mCritic\u001b[0m (to Meta Reviewer):\n",
      "\n",
      "Aggregate feedback from all reviewers and give final suggestions on the writting.\n",
      "Context: \n",
      "- Optimized Content:\n",
      "\n",
      "Title: Master Deep Learning with Andrew Ng's DeepLearning.AI\n",
      "\n",
      "Deep learning courses have taken the world of artificial intelligence by storm, and at the forefront of this revolution is DeepLearning.AI, a platform founded by AI pioneer Andrew Ng. Offering comprehensive resources and courses, DeepLearning.AI is designed to help both beginners and seasoned professionals deep-dive into neural networks and deep learning. Ready to unlock the potential of AI and drive innovation? DeepLearning.AI empowers you to do just that, transforming industries along the way. Start your AI journey now and become a part of the deep learning revolution with DeepLearning.AI!\n",
      "\n",
      "Role: SEO Reviewer\n",
      "\n",
      "- Title tag optimized for search visibility and user appeal.\n",
      "- Primary keyword \"Deep learning courses\" integrated into the opening paragraph.\n",
      "- User engagement enhanced with a call-to-action \"Start your AI journey now!\", which includes a target keyword.\n",
      "Content Review:\n",
      "\n",
      "The content appears to be well-structured with a focus on search engine optimization (SEO) and user engagement. The title tag is designed to improve search visibility and attract users. The integration of the primary keyword \"Deep learning courses\" is strategic, and the call-to-action is likely to prompt user interaction.\n",
      "\n",
      "However, from a legal standpoint, the following considerations should be addressed:\n",
      "\n",
      "1. **Misrepresentation**: The content should avoid overpromising outcomes. Suggested change: \"Ready to unlock the potential of AI and drive innovation?\" could be revised to \"Embark on a learning journey to explore the potential of AI and contribute to innovation.\"\n",
      "\n",
      "2. **Consent and Accuracy**: It is crucial to ensure that the use of Andrew Ng's name and his role as the founder of DeepLearning.AI is accurate and that his consent has been obtained for this promotional content.\n",
      "\n",
      "3. **Transparency**: If there is any affiliate relationship or if the content is promotional in nature, there should be a clear disclosure statement to inform readers of this relationship.\n",
      "\n",
      "By addressing these points, the content can maintain its engaging quality while also adhering to legal standards and ethical practices.\n",
      "The content review ensures that the messaging is responsible, accurate, and ethical, which is crucial for maintaining trust with potential users and upholding the reputation of DeepLearning.AI.\n",
      "\n",
      "--------------------------------------------------------------------------------\n",
      "\u001b[33mMeta Reviewer\u001b[0m (to Critic):\n",
      "\n",
      "Final Suggestion:\n",
      "\n",
      "After aggregating the feedback from the SEO reviewer and the legal reviewer, it is recommended that the content be revised as follows:\n",
      "\n",
      "- **Title**: Retain the current title as it is SEO-optimized and engaging.\n",
      "\n",
      "- **Content**: Modify the opening statement to reflect a more realistic portrayal of the educational journey. Instead of \"Ready to unlock the potential of AI and drive innovation?\", consider the revised sentence: \"Embark on a comprehensive learning path with DeepLearning.AI to explore the vast potential of AI and contribute to technological innovation.\"\n",
      "\n",
      "- **Legal Compliance**: Ensure that the use of Andrew Ng's name and his association with DeepLearning.AI is accurate and that proper consent has been obtained. Additionally, if the content serves a promotional or affiliate purpose, include a clear disclosure statement to maintain transparency with the audience.\n",
      "\n",
      "- **Call-to-Action**: Keep the call-to-action \"Start your AI journey now!\" as it is effective in prompting user engagement and includes a target keyword.\n",
      "\n",
      "By implementing these suggestions, the content will not only maintain its search visibility and engagement potential but will also align with legal standards and ethical considerations. This approach will help build credibility and trust with the audience, which are essential for the long-term reputation and success of DeepLearning.AI's educational offerings.\n",
      "\n",
      "--------------------------------------------------------------------------------\n",
      "\u001b[33mCritic\u001b[0m (to Writer):\n",
      "\n",
      "Final Suggestion:\n",
      "\n",
      "After aggregating the feedback from the SEO reviewer and the legal reviewer, it is recommended that the content be revised as follows:\n",
      "\n",
      "- **Title**: Retain the current title as it is SEO-optimized and engaging.\n",
      "\n",
      "- **Content**: Modify the opening statement to reflect a more realistic portrayal of the educational journey. Instead of \"Ready to unlock the potential of AI and drive innovation?\", consider the revised sentence: \"Embark on a comprehensive learning path with DeepLearning.AI to explore the vast potential of AI and contribute to technological innovation.\"\n",
      "\n",
      "- **Legal Compliance**: Ensure that the use of Andrew Ng's name and his association with DeepLearning.AI is accurate and that proper consent has been obtained. Additionally, if the content serves a promotional or affiliate purpose, include a clear disclosure statement to maintain transparency with the audience.\n",
      "\n",
      "- **Call-to-Action**: Keep the call-to-action \"Start your AI journey now!\" as it is effective in prompting user engagement and includes a target keyword.\n",
      "\n",
      "By implementing these suggestions, the content will not only maintain its search visibility and engagement potential but will also align with legal standards and ethical considerations. This approach will help build credibility and trust with the audience, which are essential for the long-term reputation and success of DeepLearning.AI's educational offerings.\n",
      "\n",
      "--------------------------------------------------------------------------------\n",
      "\u001b[33mWriter\u001b[0m (to Critic):\n",
      "\n",
      "Title: Unleashing the Power of DeepLearning.AI\n",
      "\n",
      "Embark on a comprehensive learning path with DeepLearning.AI to explore the vast potential of AI and contribute to technological innovation. Founded by the renowned AI expert, Andrew Ng, this educational platform offers a goldmine of resources for learners of all levels. Start your AI journey now and be part of a transformative wave in neural networks and deep learning. Remember, with DeepLearning.AI, you're not just learning; you're shaping the future. [Disclosure: This post may contain affiliate links.]\n",
      "\n",
      "--------------------------------------------------------------------------------\n"
     ]
    }
   ],
   "source": [
    "res = critic.initiate_chat(\n",
    "    recipient=writer,\n",
    "    message=task,\n",
    "    max_turns=2,\n",
    "    summary_method=\"last_msg\",\n",
    ")"
   ]
  },
  {
   "cell_type": "markdown",
   "metadata": {},
   "source": [
    "### Get the summary"
   ]
  },
  {
   "cell_type": "code",
   "execution_count": 18,
   "metadata": {},
   "outputs": [
    {
     "name": "stdout",
     "output_type": "stream",
     "text": [
      "Title: Unleashing the Power of DeepLearning.AI\n",
      "\n",
      "Embark on a comprehensive learning path with DeepLearning.AI to explore the vast potential of AI and contribute to technological innovation. Founded by the renowned AI expert, Andrew Ng, this educational platform offers a goldmine of resources for learners of all levels. Start your AI journey now and be part of a transformative wave in neural networks and deep learning. Remember, with DeepLearning.AI, you're not just learning; you're shaping the future. [Disclosure: This post may contain affiliate links.]\n"
     ]
    }
   ],
   "source": [
    "print(res.summary)"
   ]
  },
  {
   "cell_type": "code",
   "execution_count": null,
   "metadata": {},
   "outputs": [],
   "source": []
  }
 ],
 "metadata": {
  "kernelspec": {
   "display_name": ".venv",
   "language": "python",
   "name": "python3"
  },
  "language_info": {
   "codemirror_mode": {
    "name": "ipython",
    "version": 3
   },
   "file_extension": ".py",
   "mimetype": "text/x-python",
   "name": "python",
   "nbconvert_exporter": "python",
   "pygments_lexer": "ipython3",
   "version": "3.10.12"
  }
 },
 "nbformat": 4,
 "nbformat_minor": 2
}
