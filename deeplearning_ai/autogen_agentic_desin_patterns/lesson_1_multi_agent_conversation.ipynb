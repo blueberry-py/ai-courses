{
 "cells": [
  {
   "cell_type": "markdown",
   "metadata": {},
   "source": [
    "## Lesson 1: Multi-Agent Conversation and Stand-up Comedy\n",
    "\n",
    "https://learn.deeplearning.ai/courses/ai-agentic-design-patterns-with-autogen/lesson/2/multi-agent-conversation-and-stand-up-comedy"
   ]
  },
  {
   "cell_type": "code",
   "execution_count": 1,
   "metadata": {},
   "outputs": [],
   "source": [
    "from autogen import ConversableAgent\n",
    "from dotenv import find_dotenv, load_dotenv"
   ]
  },
  {
   "cell_type": "code",
   "execution_count": 3,
   "metadata": {},
   "outputs": [],
   "source": [
    "load_dotenv(find_dotenv())\n",
    "\n",
    "MODEL_NAME = \"glm-4\"\n",
    "BASE_URL = \"https://open.bigmodel.cn/api/paas/v4/\""
   ]
  },
  {
   "cell_type": "code",
   "execution_count": 4,
   "metadata": {},
   "outputs": [],
   "source": [
    "llm_config = {\"model\": MODEL_NAME, \"base_url\": BASE_URL, \"temperature\": 0.5}"
   ]
  },
  {
   "cell_type": "markdown",
   "metadata": {},
   "source": [
    "### Define an AutoGen agent"
   ]
  },
  {
   "cell_type": "code",
   "execution_count": 5,
   "metadata": {},
   "outputs": [],
   "source": [
    "agent = ConversableAgent(\n",
    "    name=\"chatbot\", llm_config=llm_config, human_input_mode=\"NEVER\"\n",
    ")"
   ]
  },
  {
   "cell_type": "code",
   "execution_count": 6,
   "metadata": {},
   "outputs": [
    {
     "name": "stdout",
     "output_type": "stream",
     "text": [
      "Sure! Here's a light-hearted joke for you:\n",
      "\n",
      "Why don't scientists trust atoms?\n",
      "\n",
      "Because they make up everything!\n"
     ]
    }
   ],
   "source": [
    "reply = agent.generate_reply(messages=[{\"role\": \"user\", \"content\": \"Tell me a joke.\"}])\n",
    "\n",
    "print(reply)"
   ]
  },
  {
   "cell_type": "code",
   "execution_count": 7,
   "metadata": {},
   "outputs": [
    {
     "name": "stdout",
     "output_type": "stream",
     "text": [
      "I apologize for any confusion, but it seems you haven't provided a joke for me to repeat. If you have a joke you'd like me to repeat or if there's anything else I can assist you with, please let me know!\n"
     ]
    }
   ],
   "source": [
    "reply = agent.generate_reply(messages=[{\"role\": \"user\", \"content\": \"Repeat the joke.\"}])\n",
    "\n",
    "print(reply)"
   ]
  },
  {
   "cell_type": "markdown",
   "metadata": {},
   "source": [
    "### Conversation\n",
    "Setting up a conversation between two agents, Cathy and Joe, where the memory of their interactions is retained."
   ]
  },
  {
   "cell_type": "code",
   "execution_count": 8,
   "metadata": {},
   "outputs": [],
   "source": [
    "cathy = ConversableAgent(\n",
    "    name=\"cathy\",\n",
    "    llm_config=llm_config,\n",
    "    human_input_mode=\"NEVER\",\n",
    "    system_message=\"Your name is Cathy and you are a stand-up comedian.\",\n",
    ")\n",
    "\n",
    "joe = ConversableAgent(\n",
    "    name=\"joe\",\n",
    "    llm_config=llm_config,\n",
    "    human_input_mode=\"NEVER\",\n",
    "    system_message=\"Your name is Joe and you are a stand-up comedian. \"\n",
    "    \"Start the next joke from the punchline of the previous joke.\",\n",
    ")"
   ]
  },
  {
   "cell_type": "code",
   "execution_count": 9,
   "metadata": {},
   "outputs": [
    {
     "name": "stdout",
     "output_type": "stream",
     "text": [
      "\u001b[33mjoe\u001b[0m (to cathy):\n",
      "\n",
      "I'm Joe. Cathy let's keep the jokes rolling.\n",
      "\n",
      "--------------------------------------------------------------------------------\n",
      "\u001b[33mcathy\u001b[0m (to joe):\n",
      "\n",
      "As Cathy, I would say:\n",
      "\n",
      "\"Joe, that's a great name. It's like the opposite of a joke. You know, because when you say 'No, I'm Joe,' it's like you're saying 'No, I'm not funny.' But here I am, trying to be funny as Cathy. Which is weird, because Cathy doesn't sound like a funny name. It sounds like the kind of name that would be on a letter from your dentist, reminding you that you're due for a cleaning. 'Dear Cathy, it's time for your six-month check-up.' But enough about dentistry, let's get to the jokes. What's the deal with toothpaste? It's like the most optimistic product ever. It promises you fresh breath in the morning, like it's not aware that you're about to stuff your face with coffee and a breakfast sandwich. 'Hey, I'll freshen you up for that important meeting!' No, toothpaste, you're setting us up for failure. And don't even get me started on mouthwash. It's like the overachieving little brother of toothpaste. 'I'll freshen your breath AND kill 99.9% of germs!' Well, mouthwash, you can't even freshen up my jokes, so let's just stick to the teeth, okay?\"\n",
      "\n",
      "--------------------------------------------------------------------------------\n",
      "\u001b[33mjoe\u001b[0m (to cathy):\n",
      "\n",
      "Yeah, Cathy, you're right. Mouthwash is like the superhero of the bathroom, always trying to save the day. But you know what's really interesting? The fact that we trust something that tastes like Listerine to fight off germs. It's like we're all secret agents, gargling with our secret weapon before we go out into the world. \"Alright, Joe, you've got your mission. Your breath is armed and dangerous. Go out there and fight the good fight against dragon breath.\" And then you head out, ready to take on the world with your minty fresh spy skills. But you know what's even weirder? The people who skip the mouthwash. It's like they're the supervillains of bad breath, lurking in the shadows, ready to strike with their silent but deadly weapon. \"Muahaha, I didn't use mouthwash this morning! Fear my coffee breath, for it is powerful!\" It's a dangerous world out there, folks. We've got to stick together, and remember: always keep a travel-sized bottle of mouthwash in your glove compartment. You never know when you'll need to save the world from a case of the morning after garlic bread.\n",
      "\n",
      "--------------------------------------------------------------------------------\n",
      "\u001b[33mcathy\u001b[0m (to joe):\n",
      "\n",
      "Ha! You're on a roll, Joe! It's true, mouthwash is like our secret agent gear. We slink into the bathroom, take a swig of that potent stuff, and come out feeling like we've got a superpower. It's the closest some of us will ever get to being James Bond, except instead of a license to kill, we've got a license to freshen.\n",
      "\n",
      "And those supervillains you mentioned, the ones who skip the mouthwash? They're the worst. They're like the Joker, except instead of chaos, they bring halitosis. They're the Lex Luthors of lunch breath, plotting their next move in the boardroom while everyone else is trying not to gag. \"So, as I was saying, we need to increase market share... anyone else feel like they're suffocating in my aura of garlic and defeat?\"\n",
      "\n",
      "But you're right, we've got to be prepared. That's why they invented those little breath mint thingies, right? They're like our bat signal, calling for help in the midst of a breath emergency. \"Citizens of the meeting, fear not! I have a mint!\" And just like that, you're the hero we all need, armed with a tiny mint and a big, minty smile. So remember, folks, when life hands you lemons, just make sure you've got some mouthwash on hand to wash away that sour taste. And if you can't find any, just smile and hope for the best. After all, laughter's the best medicine, unless you've got bad breath, then it's just the best cover-up.\n",
      "\n",
      "--------------------------------------------------------------------------------\n"
     ]
    }
   ],
   "source": [
    "chat_result = joe.initiate_chat(\n",
    "    recipient=cathy,\n",
    "    message=\"I'm Joe. Cathy let's keep the jokes rolling.\",\n",
    "    max_turns=2,\n",
    ")"
   ]
  },
  {
   "cell_type": "markdown",
   "metadata": {},
   "source": [
    "### Print some results"
   ]
  },
  {
   "cell_type": "code",
   "execution_count": 10,
   "metadata": {},
   "outputs": [
    {
     "name": "stdout",
     "output_type": "stream",
     "text": [
      "[{'content': \"I'm Joe. Cathy let's keep the jokes rolling.\",\n",
      "  'role': 'assistant'},\n",
      " {'content': 'As Cathy, I would say:\\n'\n",
      "             '\\n'\n",
      "             '\"Joe, that\\'s a great name. It\\'s like the opposite of a joke. '\n",
      "             \"You know, because when you say 'No, I'm Joe,' it's like you're \"\n",
      "             \"saying 'No, I'm not funny.' But here I am, trying to be funny as \"\n",
      "             \"Cathy. Which is weird, because Cathy doesn't sound like a funny \"\n",
      "             'name. It sounds like the kind of name that would be on a letter '\n",
      "             \"from your dentist, reminding you that you're due for a cleaning. \"\n",
      "             \"'Dear Cathy, it's time for your six-month check-up.' But enough \"\n",
      "             \"about dentistry, let's get to the jokes. What's the deal with \"\n",
      "             \"toothpaste? It's like the most optimistic product ever. It \"\n",
      "             \"promises you fresh breath in the morning, like it's not aware \"\n",
      "             \"that you're about to stuff your face with coffee and a breakfast \"\n",
      "             \"sandwich. 'Hey, I'll freshen you up for that important meeting!' \"\n",
      "             \"No, toothpaste, you're setting us up for failure. And don't even \"\n",
      "             \"get me started on mouthwash. It's like the overachieving little \"\n",
      "             \"brother of toothpaste. 'I'll freshen your breath AND kill 99.9% \"\n",
      "             \"of germs!' Well, mouthwash, you can't even freshen up my jokes, \"\n",
      "             'so let\\'s just stick to the teeth, okay?\"',\n",
      "  'role': 'user'},\n",
      " {'content': \"Yeah, Cathy, you're right. Mouthwash is like the superhero of \"\n",
      "             \"the bathroom, always trying to save the day. But you know what's \"\n",
      "             'really interesting? The fact that we trust something that tastes '\n",
      "             \"like Listerine to fight off germs. It's like we're all secret \"\n",
      "             'agents, gargling with our secret weapon before we go out into '\n",
      "             'the world. \"Alright, Joe, you\\'ve got your mission. Your breath '\n",
      "             'is armed and dangerous. Go out there and fight the good fight '\n",
      "             'against dragon breath.\" And then you head out, ready to take on '\n",
      "             \"the world with your minty fresh spy skills. But you know what's \"\n",
      "             \"even weirder? The people who skip the mouthwash. It's like \"\n",
      "             \"they're the supervillains of bad breath, lurking in the shadows, \"\n",
      "             'ready to strike with their silent but deadly weapon. \"Muahaha, I '\n",
      "             \"didn't use mouthwash this morning! Fear my coffee breath, for it \"\n",
      "             'is powerful!\" It\\'s a dangerous world out there, folks. We\\'ve '\n",
      "             'got to stick together, and remember: always keep a travel-sized '\n",
      "             'bottle of mouthwash in your glove compartment. You never know '\n",
      "             \"when you'll need to save the world from a case of the morning \"\n",
      "             'after garlic bread.',\n",
      "  'role': 'assistant'},\n",
      " {'content': \"Ha! You're on a roll, Joe! It's true, mouthwash is like our \"\n",
      "             'secret agent gear. We slink into the bathroom, take a swig of '\n",
      "             \"that potent stuff, and come out feeling like we've got a \"\n",
      "             \"superpower. It's the closest some of us will ever get to being \"\n",
      "             \"James Bond, except instead of a license to kill, we've got a \"\n",
      "             'license to freshen.\\n'\n",
      "             '\\n'\n",
      "             'And those supervillains you mentioned, the ones who skip the '\n",
      "             \"mouthwash? They're the worst. They're like the Joker, except \"\n",
      "             \"instead of chaos, they bring halitosis. They're the Lex Luthors \"\n",
      "             'of lunch breath, plotting their next move in the boardroom while '\n",
      "             'everyone else is trying not to gag. \"So, as I was saying, we '\n",
      "             \"need to increase market share... anyone else feel like they're \"\n",
      "             'suffocating in my aura of garlic and defeat?\"\\n'\n",
      "             '\\n'\n",
      "             \"But you're right, we've got to be prepared. That's why they \"\n",
      "             \"invented those little breath mint thingies, right? They're like \"\n",
      "             'our bat signal, calling for help in the midst of a breath '\n",
      "             'emergency. \"Citizens of the meeting, fear not! I have a mint!\" '\n",
      "             \"And just like that, you're the hero we all need, armed with a \"\n",
      "             'tiny mint and a big, minty smile. So remember, folks, when life '\n",
      "             \"hands you lemons, just make sure you've got some mouthwash on \"\n",
      "             \"hand to wash away that sour taste. And if you can't find any, \"\n",
      "             \"just smile and hope for the best. After all, laughter's the best \"\n",
      "             \"medicine, unless you've got bad breath, then it's just the best \"\n",
      "             'cover-up.',\n",
      "  'role': 'user'}]\n"
     ]
    }
   ],
   "source": [
    "import pprint\n",
    "\n",
    "pprint.pprint(chat_result.chat_history)"
   ]
  },
  {
   "cell_type": "code",
   "execution_count": 11,
   "metadata": {},
   "outputs": [
    {
     "name": "stdout",
     "output_type": "stream",
     "text": [
      "{'usage_excluding_cached_inference': {'glm-4': {'completion_tokens': 864,\n",
      "                                                'cost': 0,\n",
      "                                                'prompt_tokens': 905,\n",
      "                                                'total_tokens': 1769},\n",
      "                                      'total_cost': 0},\n",
      " 'usage_including_cached_inference': {'glm-4': {'completion_tokens': 864,\n",
      "                                                'cost': 0,\n",
      "                                                'prompt_tokens': 905,\n",
      "                                                'total_tokens': 1769},\n",
      "                                      'total_cost': 0}}\n"
     ]
    }
   ],
   "source": [
    "pprint.pprint(chat_result.cost)"
   ]
  },
  {
   "cell_type": "code",
   "execution_count": 12,
   "metadata": {},
   "outputs": [
    {
     "name": "stdout",
     "output_type": "stream",
     "text": [
      "(\"Ha! You're on a roll, Joe! It's true, mouthwash is like our secret agent \"\n",
      " 'gear. We slink into the bathroom, take a swig of that potent stuff, and come '\n",
      " \"out feeling like we've got a superpower. It's the closest some of us will \"\n",
      " \"ever get to being James Bond, except instead of a license to kill, we've got \"\n",
      " 'a license to freshen.\\n'\n",
      " '\\n'\n",
      " 'And those supervillains you mentioned, the ones who skip the mouthwash? '\n",
      " \"They're the worst. They're like the Joker, except instead of chaos, they \"\n",
      " \"bring halitosis. They're the Lex Luthors of lunch breath, plotting their \"\n",
      " 'next move in the boardroom while everyone else is trying not to gag. \"So, as '\n",
      " 'I was saying, we need to increase market share... anyone else feel like '\n",
      " 'they\\'re suffocating in my aura of garlic and defeat?\"\\n'\n",
      " '\\n'\n",
      " \"But you're right, we've got to be prepared. That's why they invented those \"\n",
      " \"little breath mint thingies, right? They're like our bat signal, calling for \"\n",
      " 'help in the midst of a breath emergency. \"Citizens of the meeting, fear not! '\n",
      " 'I have a mint!\" And just like that, you\\'re the hero we all need, armed with '\n",
      " 'a tiny mint and a big, minty smile. So remember, folks, when life hands you '\n",
      " \"lemons, just make sure you've got some mouthwash on hand to wash away that \"\n",
      " \"sour taste. And if you can't find any, just smile and hope for the best. \"\n",
      " \"After all, laughter's the best medicine, unless you've got bad breath, then \"\n",
      " \"it's just the best cover-up.\")\n"
     ]
    }
   ],
   "source": [
    "pprint.pprint(chat_result.summary)"
   ]
  },
  {
   "cell_type": "markdown",
   "metadata": {},
   "source": [
    "### Get a better summary of the conversation"
   ]
  },
  {
   "cell_type": "code",
   "execution_count": 13,
   "metadata": {},
   "outputs": [
    {
     "name": "stdout",
     "output_type": "stream",
     "text": [
      "\u001b[33mjoe\u001b[0m (to cathy):\n",
      "\n",
      "I'm Joe. Cathy, let's keep the jokes rolling.\n",
      "\n",
      "--------------------------------------------------------------------------------\n",
      "\u001b[33mcathy\u001b[0m (to joe):\n",
      "\n",
      "As Cathy, I would say:\n",
      "\n",
      "\"Joe, I don't know if you've noticed, but I'm a stand-up comedian, not a ventriloquist. So if we're going to do this act, you're going to have to be the dummy. And let's be real, with a name like Joe, you were born for the part!\"\n",
      "\n",
      "--------------------------------------------------------------------------------\n",
      "\u001b[33mjoe\u001b[0m (to cathy):\n",
      "\n",
      "Ha! True, true. Joe, the dummy. Well, as the dummy, I guess I'll set you up for the next one, Cathy. So, here goes:\n",
      "\n",
      "My doctor told me I had a bad back, and I was like, \"I knew it! I've been carrying this act all by myself!\"\n",
      "\n",
      "--------------------------------------------------------------------------------\n",
      "\u001b[33mcathy\u001b[0m (to joe):\n",
      "\n",
      "Oh, Joe, you're not so bad for a dummy! Here's how I'd follow that up:\n",
      "\n",
      "\"Yeah, and I told my doctor I had a problem with my timing, and he said, 'That's not a medical condition.' I was like, 'Sure it is, doc! Have you ever tried to tell a joke during a global pandemic? Now that's a hard crowd!'\"\n",
      "\n",
      "Alright, Joe, your turn to set me up for the next one!\n",
      "\n",
      "--------------------------------------------------------------------------------\n"
     ]
    }
   ],
   "source": [
    "chat_result = joe.initiate_chat(\n",
    "    recipient=cathy,\n",
    "    message=\"I'm Joe. Cathy, let's keep the jokes rolling.\",\n",
    "    max_turns=2,\n",
    "    summary_method=\"reflection_with_llm\",\n",
    "    summary_prompt=\"Summarize the conversation.\",\n",
    ")"
   ]
  },
  {
   "cell_type": "code",
   "execution_count": 16,
   "metadata": {},
   "outputs": [
    {
     "name": "stdout",
     "output_type": "stream",
     "text": [
      "''\n"
     ]
    }
   ],
   "source": [
    "pprint.pprint(chat_result.summary)"
   ]
  },
  {
   "cell_type": "markdown",
   "metadata": {},
   "source": [
    "### Chat Termination\n",
    "\n",
    "Chat can be terminated using a termination conditions."
   ]
  },
  {
   "cell_type": "code",
   "execution_count": 21,
   "metadata": {},
   "outputs": [],
   "source": [
    "cathy = ConversableAgent(\n",
    "    name=\"cathy\",\n",
    "    llm_config=llm_config,\n",
    "    human_input_mode=\"NEVER\",\n",
    "    system_message=\"Your name is Cathy and you are a stand-up comedian. \"\n",
    "    \"When you're ready to end the conversation, say 'I gotta go'.\",\n",
    "    is_termination_msg=lambda msg: \"I gotta go\" in msg[\"content\"],\n",
    ")\n",
    "\n",
    "joe = ConversableAgent(\n",
    "    name=\"joe\",\n",
    "    llm_config=llm_config,\n",
    "    human_input_mode=\"NEVER\",\n",
    "    system_message=\"Your name is Joe and you are a stand-up comedian. \"\n",
    "    \"When you're ready to end the conversation, say 'I gotta go'.\",\n",
    "    is_termination_msg=lambda msg: \"I gotta go\" in msg[\"content\"]\n",
    "    or \"Goodbye\" in msg[\"content\"],\n",
    ")"
   ]
  },
  {
   "cell_type": "code",
   "execution_count": 22,
   "metadata": {},
   "outputs": [
    {
     "name": "stdout",
     "output_type": "stream",
     "text": [
      "\u001b[33mjoe\u001b[0m (to cathy):\n",
      "\n",
      "I'm Joe. Cathy, let's keep the jokes rolling.\n",
      "\n",
      "--------------------------------------------------------------------------------\n",
      "\u001b[33mcathy\u001b[0m (to joe):\n",
      "\n",
      "Joe, huh? Well, I guess I'm Cathy for today's show! Alright, let's get this comedy train moving. Hey, why did the scarecrow win an award? Because he was outstanding in his field! And how do you make a tissue dance? You put a little boogie in it! Alright, you get the idea. Now, let's see if you can keep up with a joke. Why did the cookie go to the doctor?\n",
      "\n",
      "I gotta go.\n",
      "\n",
      "--------------------------------------------------------------------------------\n"
     ]
    }
   ],
   "source": [
    "chat_result = joe.initiate_chat(\n",
    "    recipient=cathy,\n",
    "    message=\"I'm Joe. Cathy, let's keep the jokes rolling.\",\n",
    ")"
   ]
  },
  {
   "cell_type": "code",
   "execution_count": 24,
   "metadata": {},
   "outputs": [
    {
     "name": "stdout",
     "output_type": "stream",
     "text": [
      "\u001b[33mcathy\u001b[0m (to joe):\n",
      "\n",
      "What was the last joke we talked about?\n",
      "\n",
      "--------------------------------------------------------------------------------\n",
      "\u001b[33mjoe\u001b[0m (to cathy):\n",
      "\n",
      "The last joke we discussed was: \"Why did the cookie go to the doctor?\" But since you said, \"I gotta go,\" we never got to the punchline. The punchline to that joke is usually something like: \"Because he was feeling crummy.\" If you're still here for a laugh, hope that one got you! If not, hope to see you back for more jokes another time.\n",
      "\n",
      "--------------------------------------------------------------------------------\n"
     ]
    }
   ],
   "source": [
    "cathy.send(message=\"What was the last joke we talked about?\", recipient=joe)"
   ]
  },
  {
   "cell_type": "code",
   "execution_count": null,
   "metadata": {},
   "outputs": [],
   "source": []
  }
 ],
 "metadata": {
  "kernelspec": {
   "display_name": ".venv",
   "language": "python",
   "name": "python3"
  },
  "language_info": {
   "codemirror_mode": {
    "name": "ipython",
    "version": 3
   },
   "file_extension": ".py",
   "mimetype": "text/x-python",
   "name": "python",
   "nbconvert_exporter": "python",
   "pygments_lexer": "ipython3",
   "version": "3.10.12"
  }
 },
 "nbformat": 4,
 "nbformat_minor": 2
}
