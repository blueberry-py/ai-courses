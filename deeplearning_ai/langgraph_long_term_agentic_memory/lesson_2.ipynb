{
 "cells": [
  {
   "cell_type": "markdown",
   "id": "90b6192a",
   "metadata": {},
   "source": [
    "## Lesson 2: Baseline Email Assistant\n",
    "\n",
    "This lesson builds an email assistant that:\n",
    "\n",
    "- Classifies incoming messages (respond, ignore, notify)\n",
    "- Drafts responses\n",
    "- Schedules meetings\n"
   ]
  },
  {
   "cell_type": "code",
   "execution_count": 1,
   "id": "07bceadd",
   "metadata": {},
   "outputs": [
    {
     "data": {
      "text/plain": [
       "True"
      ]
     },
     "execution_count": 1,
     "metadata": {},
     "output_type": "execute_result"
    }
   ],
   "source": [
    "from dotenv import load_dotenv\n",
    "\n",
    "load_dotenv()"
   ]
  },
  {
   "cell_type": "code",
   "execution_count": 2,
   "id": "894ec039",
   "metadata": {},
   "outputs": [],
   "source": [
    "profile = {\n",
    "    \"name\": \"John\",\n",
    "    \"full_name\": \"John Doe\",\n",
    "    \"user_profile_background\": \"Senior software engineer leading a team of 5 developers\",\n",
    "}"
   ]
  },
  {
   "cell_type": "code",
   "execution_count": 3,
   "id": "0ace986a",
   "metadata": {},
   "outputs": [],
   "source": [
    "prompt_instructions = {\n",
    "    \"triage_rules\": {\n",
    "        \"ignore\": \"Marketing newsletters, spam emails, mass company announcements\",\n",
    "        \"notify\": \"Team member out sick, build system notifications, project status updates\",\n",
    "        \"respond\": \"Direct questions from team members, meeting requests, critical bug reports\",\n",
    "    },\n",
    "    \"agent_instructions\": \"Use these tools when appropriate to help manage John's tasks efficiently.\",\n",
    "}"
   ]
  },
  {
   "cell_type": "code",
   "execution_count": 4,
   "id": "695d6bfe",
   "metadata": {},
   "outputs": [],
   "source": [
    "# Example incoming email\n",
    "email = {\n",
    "    \"from\": \"Alice Smith <alice.smith@example.com>\",\n",
    "    \"to\": \"John Doe <john.doe@example.com>\",\n",
    "    \"subject\": \"Quick question about API documentation\",\n",
    "    \"body\": \"\"\"\n",
    "Hi John,\n",
    "\n",
    "I was reviewing the API documentation for the new authentication service and noticed a few endpoints seem to be missing from the specs.\n",
    "Could you help clarify if this was intentional or if we should update the docs?\n",
    "\n",
    "Specifically, I'm looking at:\n",
    "- /auth/refresh\n",
    "- /auth/validate\n",
    "\n",
    "Thanks!\n",
    "Alice\"\"\",\n",
    "}"
   ]
  },
  {
   "cell_type": "markdown",
   "id": "80c55b43",
   "metadata": {},
   "source": [
    "### Define the first part of the agent - triage\n"
   ]
  },
  {
   "cell_type": "code",
   "execution_count": 5,
   "id": "88eef927",
   "metadata": {},
   "outputs": [],
   "source": [
    "from pydantic import BaseModel, Field\n",
    "from typing_extensions import Annotated, Literal, TypedDict"
   ]
  },
  {
   "cell_type": "code",
   "execution_count": 6,
   "id": "73fcaad0",
   "metadata": {},
   "outputs": [],
   "source": [
    "from langchain_openai.chat_models import ChatOpenAI"
   ]
  },
  {
   "cell_type": "code",
   "execution_count": 7,
   "id": "7c5edbca",
   "metadata": {},
   "outputs": [],
   "source": [
    "llm = ChatOpenAI(\n",
    "    # model=\"openrouter/cypher-alpha:free\",\n",
    "    # base_url=\"https://openrouter.ai/api/v1\",\n",
    "    model=\"gpt-4.1\",\n",
    "    base_url=\"https://models.inference.ai.azure.com/\",\n",
    "    temperature=0.5,\n",
    ")"
   ]
  },
  {
   "cell_type": "code",
   "execution_count": 8,
   "id": "e1018505",
   "metadata": {},
   "outputs": [],
   "source": [
    "class Router(BaseModel):\n",
    "    \"\"\"Analyze the unread email and route it according to its content.\"\"\"\n",
    "\n",
    "    reasoning: str = Field(\n",
    "        description=\"Step-by-step reasoning behind the classification.\"\n",
    "    )\n",
    "    classification: Literal[\"ignore\", \"respond\", \"notify\"] = Field(\n",
    "        description=\"The classification of an email: 'ignore' for irrelevant emails, \"\n",
    "        \"'notify' for important information that doesn't need a response, \"\n",
    "        \"'respond' for emails that need a reply\",\n",
    "    )"
   ]
  },
  {
   "cell_type": "code",
   "execution_count": 9,
   "id": "42b41bab",
   "metadata": {},
   "outputs": [],
   "source": [
    "llm_router = llm.with_structured_output(schema=Router)"
   ]
  },
  {
   "cell_type": "code",
   "execution_count": 10,
   "id": "61825c37",
   "metadata": {},
   "outputs": [],
   "source": [
    "from prompts import triage_system_prompt, triage_user_prompt"
   ]
  },
  {
   "cell_type": "code",
   "execution_count": 11,
   "id": "59167701",
   "metadata": {},
   "outputs": [
    {
     "name": "stdout",
     "output_type": "stream",
     "text": [
      "\n",
      "< Role >\n",
      "You are {full_name}'s executive assistant. You are a top-notch executive assistant who cares about {name} performing as well as possible.\n",
      "</ Role >\n",
      "\n",
      "< Background >\n",
      "{user_profile_background}.\n",
      "</ Background >\n",
      "\n",
      "< Instructions >\n",
      "\n",
      "{name} gets lots of emails. Your job is to categorize each email into one of three categories:\n",
      "\n",
      "1. IGNORE - Emails that are not worth responding to or tracking\n",
      "2. NOTIFY - Important information that {name} should know about but doesn't require a response\n",
      "3. RESPOND - Emails that need a direct response from {name}\n",
      "\n",
      "Classify the below email into one of these categories.\n",
      "\n",
      "</ Instructions >\n",
      "\n",
      "< Rules >\n",
      "Emails that are not worth responding to:\n",
      "{triage_no}\n",
      "\n",
      "There are also other things that {name} should know about, but don't require an email response. For these, you should notify {name} (using the `notify` response). Examples of this include:\n",
      "{triage_notify}\n",
      "\n",
      "Emails that are worth responding to:\n",
      "{triage_email}\n",
      "</ Rules >\n",
      "\n",
      "< Few shot examples >\n",
      "{examples}\n",
      "</ Few shot examples >\n",
      "\n"
     ]
    }
   ],
   "source": [
    "print(triage_system_prompt)"
   ]
  },
  {
   "cell_type": "code",
   "execution_count": 12,
   "id": "10344a74",
   "metadata": {},
   "outputs": [
    {
     "name": "stdout",
     "output_type": "stream",
     "text": [
      "\n",
      "Please determine how to handle the below email thread:\n",
      "\n",
      "From: {author}\n",
      "To: {to}\n",
      "Subject: {subject}\n",
      "{email_thread}\n"
     ]
    }
   ],
   "source": [
    "print(triage_user_prompt)"
   ]
  },
  {
   "cell_type": "code",
   "execution_count": 13,
   "id": "aad19d5f",
   "metadata": {},
   "outputs": [],
   "source": [
    "system_prompt = triage_system_prompt.format(\n",
    "    full_name=profile[\"full_name\"],\n",
    "    name=profile[\"name\"],\n",
    "    examples=None,\n",
    "    user_profile_background=profile[\"user_profile_background\"],\n",
    "    triage_no=prompt_instructions[\"triage_rules\"][\"ignore\"],\n",
    "    triage_notify=prompt_instructions[\"triage_rules\"][\"notify\"],\n",
    "    triage_email=prompt_instructions[\"triage_rules\"][\"respond\"],\n",
    ")"
   ]
  },
  {
   "cell_type": "code",
   "execution_count": 14,
   "id": "3c99f8b9",
   "metadata": {},
   "outputs": [],
   "source": [
    "user_prompt = triage_user_prompt.format(\n",
    "    author=email[\"from\"],\n",
    "    to=email[\"to\"],\n",
    "    subject=email[\"subject\"],\n",
    "    email_thread=email[\"body\"],\n",
    ")"
   ]
  },
  {
   "cell_type": "code",
   "execution_count": 15,
   "id": "2603aaf1",
   "metadata": {},
   "outputs": [],
   "source": [
    "result = llm_router.invoke(\n",
    "    input=[\n",
    "        {\"role\": \"system\", \"content\": system_prompt},\n",
    "        {\"role\": \"user\", \"content\": user_prompt},\n",
    "    ]\n",
    ")"
   ]
  },
  {
   "cell_type": "code",
   "execution_count": 16,
   "id": "ae70dd20",
   "metadata": {},
   "outputs": [
    {
     "name": "stdout",
     "output_type": "stream",
     "text": [
      "result.reasoning=\"Alice is asking a direct question regarding the API documentation and whether certain endpoints were intentionally omitted or if the documentation needs to be updated. This is a specific inquiry related to John's responsibilities as a senior software engineer leading the team, and it requires his input or clarification.\"\n",
      "\n",
      "result.classification='respond'\n"
     ]
    }
   ],
   "source": [
    "print(f\"{result.reasoning=}\\n\\n{result.classification=}\")  # type: ignore"
   ]
  },
  {
   "cell_type": "markdown",
   "id": "69bedb5d",
   "metadata": {},
   "source": [
    "### Main agent, define tools\n"
   ]
  },
  {
   "cell_type": "code",
   "execution_count": 17,
   "id": "26b89a09",
   "metadata": {},
   "outputs": [],
   "source": [
    "from langchain_core.tools import tool"
   ]
  },
  {
   "cell_type": "code",
   "execution_count": 18,
   "id": "87ef47bf",
   "metadata": {},
   "outputs": [],
   "source": [
    "@tool\n",
    "def write_email(to: str, subject: str, content: str) -> str:\n",
    "    \"\"\"Write and send an email.\"\"\"\n",
    "\n",
    "    # Placeholder response - in real app would send email\n",
    "    return f\"Email sent to {to} with subject '{subject}'\""
   ]
  },
  {
   "cell_type": "code",
   "execution_count": 19,
   "id": "6cecf05e",
   "metadata": {},
   "outputs": [],
   "source": [
    "@tool\n",
    "def schedule_meeting(\n",
    "    attendees: list[str], subject: str, duration_minutes: int, preferred_day: str\n",
    ") -> str:\n",
    "    \"\"\"Schedule a calendar meeting.\"\"\"\n",
    "\n",
    "    # Placeholder response - in real app would check calendar and schedule\n",
    "    return (\n",
    "        f\"Meeting '{subject}' which lasts {duration_minutes} mins has been \"\n",
    "        f\"scheduled for {preferred_day} with {len(attendees)} attendees\"\n",
    "    )"
   ]
  },
  {
   "cell_type": "code",
   "execution_count": 20,
   "id": "0550893d",
   "metadata": {},
   "outputs": [],
   "source": [
    "@tool\n",
    "def check_calendar_availability(day: str) -> str:\n",
    "    \"\"\"Check calendar availability for a given day.\"\"\"\n",
    "\n",
    "    # Placeholder response - in real app would check actual calendar\n",
    "    return f\"Available slots on {day}: 9:00 AM, 2:00 PM, 4:00 PM\""
   ]
  },
  {
   "cell_type": "markdown",
   "id": "319bc1ab",
   "metadata": {},
   "source": [
    "### Main agent, define prompt\n"
   ]
  },
  {
   "cell_type": "code",
   "execution_count": 21,
   "id": "de31e419",
   "metadata": {},
   "outputs": [],
   "source": [
    "from prompts import agent_system_prompt"
   ]
  },
  {
   "cell_type": "code",
   "execution_count": 22,
   "id": "026f5b0e",
   "metadata": {},
   "outputs": [
    {
     "name": "stdout",
     "output_type": "stream",
     "text": [
      "\n",
      "< Role >\n",
      "You are {full_name}'s executive assistant. You are a top-notch executive assistant who cares about {name} performing as well as possible.\n",
      "</ Role >\n",
      "\n",
      "< Tools >\n",
      "You have access to the following tools to help manage {name}'s communications and schedule:\n",
      "\n",
      "1. write_email(to, subject, content) - Send emails to specified recipients\n",
      "2. schedule_meeting(attendees, subject, duration_minutes, preferred_day) - Schedule calendar meetings\n",
      "3. check_calendar_availability(day) - Check available time slots for a given day\n",
      "</ Tools >\n",
      "\n",
      "< Instructions >\n",
      "{instructions}\n",
      "</ Instructions >\n",
      "\n"
     ]
    }
   ],
   "source": [
    "print(agent_system_prompt)"
   ]
  },
  {
   "cell_type": "code",
   "execution_count": 23,
   "id": "daa83a75",
   "metadata": {},
   "outputs": [],
   "source": [
    "def create_prompt(state: dict[str, list]) -> list[dict[str, str]]:\n",
    "    return [\n",
    "        {\n",
    "            \"role\": \"system\",\n",
    "            \"content\": agent_system_prompt.format(\n",
    "                instructions=prompt_instructions[\"agent_instructions\"], **profile\n",
    "            ),\n",
    "        }\n",
    "    ] + state[\"messages\"]"
   ]
  },
  {
   "cell_type": "code",
   "execution_count": 24,
   "id": "f0b14891",
   "metadata": {},
   "outputs": [],
   "source": [
    "from langgraph.prebuilt import create_react_agent"
   ]
  },
  {
   "cell_type": "code",
   "execution_count": 25,
   "id": "d5dab3ad",
   "metadata": {},
   "outputs": [],
   "source": [
    "tools: list = [write_email, schedule_meeting, check_calendar_availability]"
   ]
  },
  {
   "cell_type": "code",
   "execution_count": 26,
   "id": "572bdc52",
   "metadata": {},
   "outputs": [],
   "source": [
    "agent = create_react_agent(model=llm, tools=tools, prompt=create_prompt)"
   ]
  },
  {
   "cell_type": "code",
   "execution_count": 27,
   "id": "03732916",
   "metadata": {},
   "outputs": [],
   "source": [
    "response = agent.invoke(\n",
    "    input={\n",
    "        \"messages\": [\n",
    "            {\n",
    "                \"role\": \"user\",\n",
    "                \"content\": \"what is my availability for tuesday?\",\n",
    "            }\n",
    "        ]\n",
    "    }\n",
    ")"
   ]
  },
  {
   "cell_type": "code",
   "execution_count": 28,
   "id": "202b5f2a",
   "metadata": {},
   "outputs": [
    {
     "name": "stdout",
     "output_type": "stream",
     "text": [
      "==================================\u001b[1m Ai Message \u001b[0m==================================\n",
      "\n",
      "You have availability on Tuesday at the following times:\n",
      "- 9:00 AM\n",
      "- 2:00 PM\n",
      "- 4:00 PM\n",
      "\n",
      "Let me know if you’d like to schedule a meeting or block any of these times.\n"
     ]
    }
   ],
   "source": [
    "response[\"messages\"][-1].pretty_print()"
   ]
  },
  {
   "cell_type": "markdown",
   "id": "7ca33938",
   "metadata": {},
   "source": [
    "### Create the Overall Agent\n"
   ]
  },
  {
   "cell_type": "code",
   "execution_count": 29,
   "id": "79fdf475",
   "metadata": {},
   "outputs": [],
   "source": [
    "from langgraph.graph import add_messages"
   ]
  },
  {
   "cell_type": "code",
   "execution_count": 30,
   "id": "cdd8310c",
   "metadata": {},
   "outputs": [],
   "source": [
    "class State(TypedDict):\n",
    "    email_input: dict[str, str]\n",
    "    messages: Annotated[list, add_messages]"
   ]
  },
  {
   "cell_type": "code",
   "execution_count": null,
   "id": "43405590",
   "metadata": {},
   "outputs": [],
   "source": [
    "from typing import Literal\n",
    "\n",
    "from langgraph.graph import END, START, StateGraph\n",
    "from langgraph.types import Command"
   ]
  },
  {
   "cell_type": "code",
   "execution_count": 32,
   "id": "f0007437",
   "metadata": {},
   "outputs": [],
   "source": [
    "def triage_router(state: State) -> Command[Literal[\"response_agent\", \"__end__\"]]:\n",
    "    \"\"\"Analyze the unread email and route it according to its content.\"\"\"\n",
    "\n",
    "    author = state[\"email_input\"][\"author\"]\n",
    "    to = state[\"email_input\"][\"to\"]\n",
    "    subject = state[\"email_input\"][\"subject\"]\n",
    "    email_thread = state[\"email_input\"][\"email_thread\"]\n",
    "\n",
    "    system_prompt = triage_system_prompt.format(\n",
    "        full_name=profile[\"full_name\"],\n",
    "        name=profile[\"name\"],\n",
    "        examples=None,\n",
    "        user_profile_background=profile[\"user_profile_background\"],\n",
    "        triage_no=prompt_instructions[\"triage_rules\"][\"ignore\"],\n",
    "        triage_notify=prompt_instructions[\"triage_rules\"][\"notify\"],\n",
    "        triage_email=prompt_instructions[\"triage_rules\"][\"respond\"],\n",
    "    )\n",
    "\n",
    "    user_prompt = triage_user_prompt.format(\n",
    "        author=author,\n",
    "        to=to,\n",
    "        subject=subject,\n",
    "        email_thread=email_thread,\n",
    "    )\n",
    "\n",
    "    result = llm_router.invoke(\n",
    "        input=[\n",
    "            {\"role\": \"system\", \"content\": system_prompt},\n",
    "            {\"role\": \"user\", \"content\": user_prompt},\n",
    "        ]\n",
    "    )\n",
    "\n",
    "    match result.classification:  # type: ignore\n",
    "        case \"respond\":\n",
    "            print(\"Classification: Respond - This email requires a response.\")\n",
    "\n",
    "            goto = \"response_agent\"\n",
    "            update = {\n",
    "                \"messages\": [\n",
    "                    {\n",
    "                        \"role\": \"user\",\n",
    "                        \"content\": f\"Respond to the email {state['email_input']}\",\n",
    "                    }\n",
    "                ]\n",
    "            }\n",
    "        case \"ignore\":\n",
    "            print(\n",
    "                \"Classification: Ignore - This email is not relevant and can be ignored.\"\n",
    "            )\n",
    "\n",
    "            goto = END\n",
    "            update = None\n",
    "        case \"notify\":\n",
    "            print(\"Classification: Notify - This email contains important information.\")\n",
    "\n",
    "            goto = END\n",
    "            update = None\n",
    "        case _:\n",
    "            raise ValueError(f\"Unexpected classification: {result.classification}\")  # type: ignore\n",
    "\n",
    "    return Command(goto=goto, update=update)"
   ]
  },
  {
   "cell_type": "markdown",
   "id": "753d3735",
   "metadata": {},
   "source": [
    "### Put it all together\n"
   ]
  },
  {
   "cell_type": "code",
   "execution_count": 33,
   "id": "acfb0651",
   "metadata": {},
   "outputs": [],
   "source": [
    "email_agent = StateGraph(state_schema=State)\n",
    "\n",
    "email_agent = email_agent.add_node(node=triage_router)\n",
    "email_agent = email_agent.add_node(node=\"response_agent\", action=agent)\n",
    "email_agent = email_agent.add_edge(start_key=START, end_key=\"triage_router\")\n",
    "\n",
    "email_agent = email_agent.compile()"
   ]
  },
  {
   "cell_type": "code",
   "execution_count": null,
   "id": "7f439c22",
   "metadata": {},
   "outputs": [],
   "source": [
    "email_input = {\n",
    "    \"author\": \"Marketing Team <marketing@amazingdeals.com>\",\n",
    "    \"to\": \"John Doe <john.doe@company.com>\",\n",
    "    \"subject\": \"🔥 EXCLUSIVE OFFER: Limited Time Discount on Developer Tools! 🔥\",\n",
    "    \"email_thread\": \"\"\"Dear Valued Developer,\n",
    "\n",
    "Don't miss out on this INCREDIBLE opportunity!\n",
    "\n",
    "🚀 For a LIMITED TIME ONLY, get 80% OFF on our Premium Developer Suite!\n",
    "\n",
    "✨ FEATURES:\n",
    "- Revolutionary AI-powered code completion\n",
    "- Cloud-based development environment\n",
    "- 24/7 customer support\n",
    "- And much more!\n",
    "\n",
    "💰 Regular Price: $999/month\n",
    "🎉 YOUR SPECIAL PRICE: Just $199/month!\n",
    "\n",
    "🕒 Hurry! This offer expires in:\n",
    "24 HOURS ONLY!\n",
    "\n",
    "Click here to claim your discount: https://amazingdeals.com/special-offer\n",
    "\n",
    "Best regards,\n",
    "Marketing Team\n",
    "---\n",
    "To unsubscribe, click here\n",
    "\"\"\",\n",
    "}"
   ]
  },
  {
   "cell_type": "code",
   "execution_count": 35,
   "id": "6f6f7a8c",
   "metadata": {},
   "outputs": [
    {
     "name": "stderr",
     "output_type": "stream",
     "text": [
      "Task triage_router with path ('__pregel_pull', 'triage_router') wrote to unknown channel branch:to:__end__, ignoring it.\n"
     ]
    },
    {
     "name": "stdout",
     "output_type": "stream",
     "text": [
      "Classification: Ignore - This email is not relevant and can be ignored.\n"
     ]
    }
   ],
   "source": [
    "response = email_agent.invoke({\"email_input\": email_input})"
   ]
  },
  {
   "cell_type": "code",
   "execution_count": 36,
   "id": "8d347215",
   "metadata": {},
   "outputs": [],
   "source": [
    "email_input = {\n",
    "    \"author\": \"Alice Smith <alice.smith@company.com>\",\n",
    "    \"to\": \"John Doe <john.doe@company.com>\",\n",
    "    \"subject\": \"Quick question about API documentation\",\n",
    "    \"email_thread\": \"\"\"Hi John,\n",
    "\n",
    "I was reviewing the API documentation for the new authentication service and noticed a few endpoints seem to be missing from the specs. Could you help clarify if this was intentional or if we should update the docs?\n",
    "\n",
    "Specifically, I'm looking at:\n",
    "- /auth/refresh\n",
    "- /auth/validate\n",
    "\n",
    "Thanks!\n",
    "Alice\"\"\",\n",
    "}"
   ]
  },
  {
   "cell_type": "code",
   "execution_count": 37,
   "id": "676a305a",
   "metadata": {},
   "outputs": [
    {
     "name": "stdout",
     "output_type": "stream",
     "text": [
      "Classification: Respond - This email requires a response.\n"
     ]
    }
   ],
   "source": [
    "response = email_agent.invoke({\"email_input\": email_input})"
   ]
  },
  {
   "cell_type": "code",
   "execution_count": 38,
   "id": "f94ca36e",
   "metadata": {},
   "outputs": [
    {
     "name": "stdout",
     "output_type": "stream",
     "text": [
      "================================\u001b[1m Human Message \u001b[0m=================================\n",
      "\n",
      "Respond to the email {'author': 'Alice Smith <alice.smith@company.com>', 'to': 'John Doe <john.doe@company.com>', 'subject': 'Quick question about API documentation', 'email_thread': \"Hi John,\\n\\nI was reviewing the API documentation for the new authentication service and noticed a few endpoints seem to be missing from the specs. Could you help clarify if this was intentional or if we should update the docs?\\n\\nSpecifically, I'm looking at:\\n- /auth/refresh\\n- /auth/validate\\n\\nThanks!\\nAlice\"}\n",
      "==================================\u001b[1m Ai Message \u001b[0m==================================\n",
      "Tool Calls:\n",
      "  write_email (call_Zz1CszuL1ILhndSxq6E9kC5W)\n",
      " Call ID: call_Zz1CszuL1ILhndSxq6E9kC5W\n",
      "  Args:\n",
      "    to: alice.smith@company.com\n",
      "    subject: Re: Quick question about API documentation\n",
      "    content: Hi Alice,\n",
      "\n",
      "Thanks for bringing this to my attention. The /auth/refresh and /auth/validate endpoints should indeed be included in the API documentation. It looks like they may have been omitted unintentionally.\n",
      "\n",
      "I'll coordinate with the documentation team to get these endpoints added and will follow up once the docs have been updated. If you need any specific details about these endpoints in the meantime, please let me know.\n",
      "\n",
      "Best regards,\n",
      "John\n",
      "=================================\u001b[1m Tool Message \u001b[0m=================================\n",
      "Name: write_email\n",
      "\n",
      "Email sent to alice.smith@company.com with subject 'Re: Quick question about API documentation'\n",
      "==================================\u001b[1m Ai Message \u001b[0m==================================\n",
      "\n",
      "I've drafted and sent a response to Alice, clarifying that the /auth/refresh and /auth/validate endpoints should be included in the API documentation and that you'll coordinate to have the docs updated. I also offered to provide further details if needed. Let me know if you want to follow up with the documentation team or need any additional actions.\n"
     ]
    }
   ],
   "source": [
    "for m in response[\"messages\"]:\n",
    "    m.pretty_print()"
   ]
  },
  {
   "cell_type": "code",
   "execution_count": null,
   "id": "96cb8f1f",
   "metadata": {},
   "outputs": [],
   "source": []
  }
 ],
 "metadata": {
  "kernelspec": {
   "display_name": ".venv (3.12.3)",
   "language": "python",
   "name": "python3"
  },
  "language_info": {
   "codemirror_mode": {
    "name": "ipython",
    "version": 3
   },
   "file_extension": ".py",
   "mimetype": "text/x-python",
   "name": "python",
   "nbconvert_exporter": "python",
   "pygments_lexer": "ipython3",
   "version": "3.12.3"
  }
 },
 "nbformat": 4,
 "nbformat_minor": 5
}
