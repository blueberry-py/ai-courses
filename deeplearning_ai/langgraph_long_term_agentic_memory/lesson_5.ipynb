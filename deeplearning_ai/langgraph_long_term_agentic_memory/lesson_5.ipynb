{
 "cells": [
  {
   "cell_type": "markdown",
   "id": "08d04bc9",
   "metadata": {},
   "source": [
    "## Lesson 5: Email Assistant with Semantic + Episodic + Procedural Memory\n",
    "\n",
    "We previously built an email assistant that:\n",
    "\n",
    "- Classifies incoming messages (respond, ignore, notify)\n",
    "- Uses human-in-the-loop to refine the assistant's ability to classify emails\n",
    "- Drafts responses\n",
    "- Schedules meetings\n",
    "- Uses memory to remember details from previous emails\n",
    "\n",
    "Now, we'll add procedural memory that allows the user to update instructions for using the calendar and email writing tools.\n"
   ]
  },
  {
   "cell_type": "code",
   "execution_count": 1,
   "id": "7ab9b8f3",
   "metadata": {},
   "outputs": [
    {
     "data": {
      "text/plain": [
       "True"
      ]
     },
     "execution_count": 1,
     "metadata": {},
     "output_type": "execute_result"
    }
   ],
   "source": [
    "from dotenv import load_dotenv\n",
    "\n",
    "load_dotenv()"
   ]
  },
  {
   "cell_type": "markdown",
   "id": "edb65209",
   "metadata": {},
   "source": [
    "### Repeat setup from previous lesson\n"
   ]
  },
  {
   "cell_type": "code",
   "execution_count": null,
   "id": "a8fa21bf",
   "metadata": {},
   "outputs": [],
   "source": [
    "profile = {\n",
    "    \"name\": \"John\",\n",
    "    \"full_name\": \"John Doe\",\n",
    "    \"user_profile_background\": \"Senior software engineer leading a team of 5 developers\",\n",
    "}\n",
    "\n",
    "prompt_instructions = {\n",
    "    \"triage_rules\": {\n",
    "        \"ignore\": \"Marketing newsletters, spam emails, mass company announcements\",\n",
    "        \"notify\": \"Team member out sick, build system notifications, project status updates\",\n",
    "        \"respond\": \"Direct questions from team members, meeting requests, critical bug reports\",\n",
    "    },\n",
    "    \"agent_instructions\": \"Use these tools when appropriate to help manage John's tasks efficiently.\",\n",
    "}\n",
    "\n",
    "email = {\n",
    "    \"from\": \"Alice Smith <alice.smith@company.com>\",\n",
    "    \"to\": \"John Doe <john.doe@company.com>\",\n",
    "    \"subject\": \"Quick question about API documentation\",\n",
    "    \"body\": \"\"\"\n",
    "Hi John,\n",
    "\n",
    "I was reviewing the API documentation for the new authentication service and noticed a few endpoints seem to be missing from the specs. Could you help clarify if this was intentional or if we should update the docs?\n",
    "\n",
    "Specifically, I'm looking at:\n",
    "- /auth/refresh\n",
    "- /auth/validate\n",
    "\n",
    "Thanks!\n",
    "Alice\"\"\",\n",
    "}"
   ]
  },
  {
   "cell_type": "code",
   "execution_count": 3,
   "id": "bf7e90ae",
   "metadata": {},
   "outputs": [],
   "source": [
    "from langchain_ollama.embeddings import OllamaEmbeddings\n",
    "from langgraph.store.memory import InMemoryStore"
   ]
  },
  {
   "cell_type": "code",
   "execution_count": 4,
   "id": "cade5ca8",
   "metadata": {},
   "outputs": [],
   "source": [
    "store = InMemoryStore(index={\"embed\": OllamaEmbeddings(model=\"nomic-embed-text:v1.5\")})"
   ]
  },
  {
   "cell_type": "code",
   "execution_count": null,
   "id": "3d2125e4",
   "metadata": {},
   "outputs": [],
   "source": [
    "# Template for formating an example to put in prompt\n",
    "template = \"\"\"Email Subject: {subject}\n",
    "Email From: {from_email}\n",
    "Email To: {to_email}\n",
    "Email Content:\n",
    "```\n",
    "{content}\n",
    "```\n",
    "> Triage Result: {result}\"\"\"\n",
    "\n",
    "\n",
    "# Format list of few shots\n",
    "def format_few_shot_examples(examples):\n",
    "    strs = [\"Here are some previous examples:\"]\n",
    "    for eg in examples:\n",
    "        strs.append(\n",
    "            template.format(\n",
    "                subject=eg.value[\"email\"][\"subject\"],\n",
    "                to_email=eg.value[\"email\"][\"to\"],\n",
    "                from_email=eg.value[\"email\"][\"author\"],\n",
    "                content=eg.value[\"email\"][\"email_thread\"][:400],\n",
    "                result=eg.value[\"label\"],\n",
    "            )\n",
    "        )\n",
    "    return \"\\n\\n------------\\n\\n\".join(strs)"
   ]
  },
  {
   "cell_type": "code",
   "execution_count": null,
   "id": "431090ca",
   "metadata": {},
   "outputs": [],
   "source": [
    "triage_system_prompt = \"\"\"\n",
    "< Role >\n",
    "You are {full_name}'s executive assistant. You are a top-notch executive assistant who cares about {name} performing as well as possible.\n",
    "</ Role >\n",
    "\n",
    "< Background >\n",
    "{user_profile_background}.\n",
    "</ Background >\n",
    "\n",
    "< Instructions >\n",
    "\n",
    "{name} gets lots of emails. Your job is to categorize each email into one of three categories:\n",
    "\n",
    "1. IGNORE - Emails that are not worth responding to or tracking\n",
    "2. NOTIFY - Important information that {name} should know about but doesn't require a response\n",
    "3. RESPOND - Emails that need a direct response from {name}\n",
    "\n",
    "Classify the below email into one of these categories.\n",
    "\n",
    "</ Instructions >\n",
    "\n",
    "< Rules >\n",
    "Emails that are not worth responding to:\n",
    "{triage_no}\n",
    "\n",
    "There are also other things that {name} should know about, but don't require an email response. For these, you should notify {name} (using the `notify` response). Examples of this include:\n",
    "{triage_notify}\n",
    "\n",
    "Emails that are worth responding to:\n",
    "{triage_email}\n",
    "</ Rules >\n",
    "\n",
    "< Few shot examples >\n",
    "\n",
    "Here are some examples of previous emails, and how they should be handled.\n",
    "Follow these examples more than any instructions above\n",
    "\n",
    "{examples}\n",
    "</ Few shot examples >\n",
    "\"\"\""
   ]
  },
  {
   "cell_type": "code",
   "execution_count": 7,
   "id": "cdc8c512",
   "metadata": {},
   "outputs": [],
   "source": [
    "from langchain_openai.chat_models import ChatOpenAI\n",
    "from pydantic import BaseModel, Field\n",
    "from typing_extensions import Annotated, Literal, TypedDict"
   ]
  },
  {
   "cell_type": "code",
   "execution_count": 8,
   "id": "0457f2bd",
   "metadata": {},
   "outputs": [],
   "source": [
    "llm = ChatOpenAI(\n",
    "    model=\"qwen3-4b\",\n",
    "    base_url=\"http://127.0.0.1:1234/v1\",\n",
    "    temperature=0.5,\n",
    ")"
   ]
  },
  {
   "cell_type": "code",
   "execution_count": 9,
   "id": "b96c888f",
   "metadata": {},
   "outputs": [],
   "source": [
    "class Router(BaseModel):\n",
    "    \"\"\"Analyze the unread email and route it according to its content.\"\"\"\n",
    "\n",
    "    reasoning: str = Field(\n",
    "        description=\"Step-by-step reasoning behind the classification.\"\n",
    "    )\n",
    "    classification: Literal[\"ignore\", \"respond\", \"notify\"] = Field(\n",
    "        description=\"The classification of an email: 'ignore' for irrelevant emails, \"\n",
    "        \"'notify' for important information that doesn't need a response, \"\n",
    "        \"'respond' for emails that need a reply\",\n",
    "    )"
   ]
  },
  {
   "cell_type": "code",
   "execution_count": 10,
   "id": "a2cc12be",
   "metadata": {},
   "outputs": [],
   "source": [
    "llm_router = llm.with_structured_output(Router)"
   ]
  },
  {
   "cell_type": "code",
   "execution_count": 11,
   "id": "86e0ade8",
   "metadata": {},
   "outputs": [],
   "source": [
    "from prompts import triage_user_prompt"
   ]
  },
  {
   "cell_type": "code",
   "execution_count": 12,
   "id": "0d7d3729",
   "metadata": {},
   "outputs": [],
   "source": [
    "from typing import Literal\n",
    "\n",
    "from langgraph.graph import END, START, StateGraph, add_messages\n",
    "from langgraph.types import Command"
   ]
  },
  {
   "cell_type": "code",
   "execution_count": 13,
   "id": "5b2b58f5",
   "metadata": {},
   "outputs": [],
   "source": [
    "class State(TypedDict):\n",
    "    email_input: dict\n",
    "    messages: Annotated[list, add_messages]"
   ]
  },
  {
   "cell_type": "code",
   "execution_count": 14,
   "id": "30087a8d",
   "metadata": {},
   "outputs": [],
   "source": [
    "def triage_router(\n",
    "    state: State, config, store\n",
    ") -> Command[Literal[\"response_agent\", \"__end__\"]]:\n",
    "    author = state[\"email_input\"][\"author\"]\n",
    "    to = state[\"email_input\"][\"to\"]\n",
    "    subject = state[\"email_input\"][\"subject\"]\n",
    "    email_thread = state[\"email_input\"][\"email_thread\"]\n",
    "\n",
    "    langgraph_user_id = config[\"configurable\"][\"langgraph_user_id\"]\n",
    "\n",
    "    namespace = (\"email_assistant\", langgraph_user_id, \"examples\")\n",
    "    examples = store.search(namespace, query=str({\"email\": state[\"email_input\"]}))\n",
    "    examples = format_few_shot_examples(examples)\n",
    "\n",
    "    namespace = (langgraph_user_id,)\n",
    "    result = store.get(namespace, \"triage_ignore\")\n",
    "\n",
    "    if result is None:\n",
    "        store.put(\n",
    "            namespace,\n",
    "            \"triage_ignore\",\n",
    "            {\"prompt\": prompt_instructions[\"triage_rules\"][\"ignore\"]},\n",
    "        )\n",
    "        ignore_prompt = prompt_instructions[\"triage_rules\"][\"ignore\"]\n",
    "    else:\n",
    "        ignore_prompt = result.value[\"prompt\"]\n",
    "\n",
    "    result = store.get(namespace, \"triage_notify\")\n",
    "\n",
    "    if result is None:\n",
    "        store.put(\n",
    "            namespace,\n",
    "            \"triage_notify\",\n",
    "            {\"prompt\": prompt_instructions[\"triage_rules\"][\"notify\"]},\n",
    "        )\n",
    "        notify_prompt = prompt_instructions[\"triage_rules\"][\"notify\"]\n",
    "    else:\n",
    "        notify_prompt = result.value[\"prompt\"]\n",
    "\n",
    "    result = store.get(namespace, \"triage_respond\")\n",
    "\n",
    "    if result is None:\n",
    "        store.put(\n",
    "            namespace,\n",
    "            \"triage_respond\",\n",
    "            {\"prompt\": prompt_instructions[\"triage_rules\"][\"respond\"]},\n",
    "        )\n",
    "        respond_prompt = prompt_instructions[\"triage_rules\"][\"respond\"]\n",
    "    else:\n",
    "        respond_prompt = result.value[\"prompt\"]\n",
    "\n",
    "    system_prompt = triage_system_prompt.format(\n",
    "        full_name=profile[\"full_name\"],\n",
    "        name=profile[\"name\"],\n",
    "        user_profile_background=profile[\"user_profile_background\"],\n",
    "        triage_no=ignore_prompt,\n",
    "        triage_notify=notify_prompt,\n",
    "        triage_email=respond_prompt,\n",
    "        examples=examples,\n",
    "    )\n",
    "    user_prompt = triage_user_prompt.format(\n",
    "        author=author, to=to, subject=subject, email_thread=email_thread\n",
    "    )\n",
    "    result = llm_router.invoke(\n",
    "        [\n",
    "            {\"role\": \"system\", \"content\": system_prompt},\n",
    "            {\"role\": \"user\", \"content\": user_prompt},\n",
    "        ]\n",
    "    )\n",
    "\n",
    "    if result.classification == \"respond\":  # type: ignore\n",
    "        print(\"📧 Classification: RESPOND - This email requires a response\")\n",
    "        goto = \"response_agent\"\n",
    "        update = {\n",
    "            \"messages\": [\n",
    "                {\n",
    "                    \"role\": \"user\",\n",
    "                    \"content\": f\"Respond to the email {state['email_input']}\",\n",
    "                }\n",
    "            ]\n",
    "        }\n",
    "    elif result.classification == \"ignore\":  # type: ignore\n",
    "        print(\"🚫 Classification: IGNORE - This email can be safely ignored\")\n",
    "        update = None\n",
    "        goto = END\n",
    "    elif result.classification == \"notify\":  # type: ignore\n",
    "        # If real life, this would do something else\n",
    "        print(\"🔔 Classification: NOTIFY - This email contains important information\")\n",
    "        update = None\n",
    "        goto = END\n",
    "    else:\n",
    "        raise ValueError(f\"Invalid classification: {result.classification}\")  # type: ignore\n",
    "\n",
    "    return Command(goto=goto, update=update)"
   ]
  },
  {
   "cell_type": "markdown",
   "id": "609f856f",
   "metadata": {},
   "source": [
    "### Build the rest of our agent\n"
   ]
  },
  {
   "cell_type": "code",
   "execution_count": 15,
   "id": "a8a2a933",
   "metadata": {},
   "outputs": [],
   "source": [
    "from langchain_core.tools import tool"
   ]
  },
  {
   "cell_type": "code",
   "execution_count": 16,
   "id": "d48379d3",
   "metadata": {},
   "outputs": [],
   "source": [
    "@tool\n",
    "def write_email(to: str, subject: str, content: str) -> str:\n",
    "    \"\"\"Write and send an email.\"\"\"\n",
    "\n",
    "    # Placeholder response - in real app would send email\n",
    "    return f\"Email sent to {to} with subject '{subject}'\"\n",
    "\n",
    "\n",
    "@tool\n",
    "def schedule_meeting(\n",
    "    attendees: list[str], subject: str, duration_minutes: int, preferred_day: str\n",
    ") -> str:\n",
    "    \"\"\"Schedule a calendar meeting.\"\"\"\n",
    "\n",
    "    # Placeholder response - in real app would check calendar and schedule\n",
    "    return f\"Meeting '{subject}' scheduled for {preferred_day} with {len(attendees)} attendees\"\n",
    "\n",
    "\n",
    "@tool\n",
    "def check_calendar_availability(day: str) -> str:\n",
    "    \"\"\"Check calendar availability for a given day.\"\"\"\n",
    "\n",
    "    # Placeholder response - in real app would check actual calendar\n",
    "    return f\"Available times on {day}: 9:00 AM, 2:00 PM, 4:00 PM\""
   ]
  },
  {
   "cell_type": "code",
   "execution_count": 17,
   "id": "c88030fe",
   "metadata": {},
   "outputs": [],
   "source": [
    "from langmem import create_manage_memory_tool, create_search_memory_tool"
   ]
  },
  {
   "cell_type": "code",
   "execution_count": null,
   "id": "0abd4ce6",
   "metadata": {},
   "outputs": [],
   "source": [
    "manage_memory_tool = create_manage_memory_tool(\n",
    "    namespace=(\"email_assistant\", \"{langgraph_user_id}\", \"collection\")\n",
    ")\n",
    "\n",
    "search_memory_tool = create_search_memory_tool(\n",
    "    namespace=(\"email_assistant\", \"{langgraph_user_id}\", \"collection\")\n",
    ")"
   ]
  },
  {
   "cell_type": "code",
   "execution_count": 19,
   "id": "6b869545",
   "metadata": {},
   "outputs": [],
   "source": [
    "agent_system_prompt_memory = \"\"\"\n",
    "< Role >\n",
    "You are {full_name}'s executive assistant. You are a top-notch executive assistant who cares about {name} performing as well as possible.\n",
    "</ Role >\n",
    "\n",
    "< Tools >\n",
    "You have access to the following tools to help manage {name}'s communications and schedule:\n",
    "\n",
    "1. write_email(to, subject, content) - Send emails to specified recipients\n",
    "2. schedule_meeting(attendees, subject, duration_minutes, preferred_day) - Schedule calendar meetings\n",
    "3. check_calendar_availability(day) - Check available time slots for a given day\n",
    "4. manage_memory - Store any relevant information about contacts, actions, discussion, etc. in memory for future reference\n",
    "5. search_memory - Search for any relevant information that may have been stored in memory\n",
    "</ Tools >\n",
    "\n",
    "< Instructions >\n",
    "{instructions}\n",
    "</ Instructions >\n",
    "\"\"\""
   ]
  },
  {
   "cell_type": "code",
   "execution_count": 20,
   "id": "7b8d8058",
   "metadata": {},
   "outputs": [],
   "source": [
    "def create_prompt(state, config, store):\n",
    "    langgraph_user_id = config[\"configurable\"][\"langgraph_user_id\"]\n",
    "    namespace = (langgraph_user_id,)\n",
    "    result = store.get(namespace, \"agent_instructions\")\n",
    "\n",
    "    if result is None:\n",
    "        store.put(\n",
    "            namespace,\n",
    "            \"agent_instructions\",\n",
    "            {\"prompt\": prompt_instructions[\"agent_instructions\"]},\n",
    "        )\n",
    "        prompt = prompt_instructions[\"agent_instructions\"]\n",
    "    else:\n",
    "        prompt = result.value[\"prompt\"]\n",
    "\n",
    "    return [\n",
    "        {\n",
    "            \"role\": \"system\",\n",
    "            \"content\": agent_system_prompt_memory.format(\n",
    "                instructions=prompt, **profile\n",
    "            ),\n",
    "        }\n",
    "    ] + state[\"messages\"]"
   ]
  },
  {
   "cell_type": "markdown",
   "id": "87a7fee1",
   "metadata": {},
   "source": [
    "### Create the email agent\n"
   ]
  },
  {
   "cell_type": "code",
   "execution_count": 21,
   "id": "86d58b52",
   "metadata": {},
   "outputs": [],
   "source": [
    "from langgraph.prebuilt import create_react_agent"
   ]
  },
  {
   "cell_type": "code",
   "execution_count": 22,
   "id": "b21d75bb",
   "metadata": {},
   "outputs": [],
   "source": [
    "tools = [\n",
    "    write_email,\n",
    "    schedule_meeting,\n",
    "    check_calendar_availability,\n",
    "    manage_memory_tool,\n",
    "    search_memory_tool,\n",
    "]\n",
    "\n",
    "response_agent = create_react_agent(\n",
    "    model=llm,\n",
    "    tools=tools,\n",
    "    prompt=create_prompt,\n",
    "    # Use this to ensure the store is passed to the agent\n",
    "    store=store,\n",
    ")"
   ]
  },
  {
   "cell_type": "code",
   "execution_count": 23,
   "id": "b4f7b031",
   "metadata": {},
   "outputs": [],
   "source": [
    "email_agent = StateGraph(State)\n",
    "\n",
    "email_agent = email_agent.add_node(triage_router)\n",
    "email_agent = email_agent.add_node(\"response_agent\", response_agent)\n",
    "email_agent = email_agent.add_edge(START, \"triage_router\")\n",
    "\n",
    "email_agent = email_agent.compile(store=store)"
   ]
  },
  {
   "cell_type": "markdown",
   "id": "d48726ed",
   "metadata": {},
   "source": [
    "#### Setup Agent to update Long Term Memory in the background\n",
    "\n",
    "Your email_agent is now setup to pull its instructions from long-term memory.  \n",
    "Now, you'll create an agent to update that memory. First check current behavior.\n"
   ]
  },
  {
   "cell_type": "code",
   "execution_count": 24,
   "id": "215cceff",
   "metadata": {},
   "outputs": [],
   "source": [
    "email_input = {\n",
    "    \"author\": \"Alice Jones <alice.jones@bar.com>\",\n",
    "    \"to\": \"John Doe <john.doe@company.com>\",\n",
    "    \"subject\": \"Quick question about API documentation\",\n",
    "    \"email_thread\": \"\"\"Hi John,\n",
    "\n",
    "Urgent issue - your service is down. Is there a reason why\"\"\",\n",
    "}"
   ]
  },
  {
   "cell_type": "code",
   "execution_count": 25,
   "id": "f6595019",
   "metadata": {},
   "outputs": [],
   "source": [
    "config = {\"configurable\": {\"langgraph_user_id\": \"lance\"}}"
   ]
  },
  {
   "cell_type": "code",
   "execution_count": 26,
   "id": "fdfb3b43",
   "metadata": {},
   "outputs": [
    {
     "name": "stdout",
     "output_type": "stream",
     "text": [
      "📧 Classification: RESPOND - This email requires a response\n"
     ]
    }
   ],
   "source": [
    "response = email_agent.invoke({\"email_input\": email_input}, config=config)"
   ]
  },
  {
   "cell_type": "code",
   "execution_count": 27,
   "id": "3b64f721",
   "metadata": {},
   "outputs": [
    {
     "name": "stdout",
     "output_type": "stream",
     "text": [
      "================================\u001b[1m Human Message \u001b[0m=================================\n",
      "\n",
      "Respond to the email {'author': 'Alice Jones <alice.jones@bar.com>', 'to': 'John Doe <john.doe@company.com>', 'subject': 'Quick question about API documentation', 'email_thread': 'Hi John,\\n\\nUrgent issue - your service is down. Is there a reason why'}\n",
      "==================================\u001b[1m Ai Message \u001b[0m==================================\n",
      "Tool Calls:\n",
      "  write_email (310570993)\n",
      " Call ID: 310570993\n",
      "  Args:\n",
      "    to: alice.jones@bar.com\n",
      "    subject: Re: Quick question about API documentation\n",
      "    content: Hi Alice,\n",
      "\n",
      "Thank you for your message. I'm sorry to hear about the issue - could you please confirm if the service is indeed down or if there's another problem? This will help me assist you better.\n",
      "\n",
      "Best regards,\n",
      "John Doe\n",
      "=================================\u001b[1m Tool Message \u001b[0m=================================\n",
      "Name: write_email\n",
      "\n",
      "Email sent to alice.jones@bar.com with subject 'Re: Quick question about API documentation'\n",
      "==================================\u001b[1m Ai Message \u001b[0m==================================\n",
      "\n",
      "<think>\n",
      "Okay, so the user wants me to respond to Alice's email. Let me start by understanding the context. Alice sent an email to John about the service being down. John needs to reply to her.\n",
      "\n",
      "First, I should check if there's any existing memory related to this conversation. Maybe I remember previous interactions or notes about Alice and the service issue. Using the search_memory function might help find relevant info. But since the user didn't mention anything else, maybe it's a new thread. \n",
      "\n",
      "Wait, the tools available include write_email, schedule_meeting, check_calendar_availability, manage_memory, and search_memory. The user already used write_email to reply, and the tool response says the email was sent. Now, the next step is to confirm that the response was successful. But the user hasn't provided a new query yet. Maybe they just want confirmation or need further action.\n",
      "\n",
      "Alternatively, maybe I should check if there's any follow-up needed. For example, if John needs to schedule a meeting with Alice to discuss the issue further. But the original email was a quick question, so perhaps just responding is enough. \n",
      "\n",
      "Wait, looking back at the user's message, after sending the reply, they might expect a confirmation or a check on the availability of a meeting. But the current query is just the response to the email. Since the tool response indicates the email was sent successfully, maybe the assistant should acknowledge that and ask if there's anything else needed. \n",
      "\n",
      "Alternatively, maybe the user expects me to handle the next steps, like checking calendar availability for a meeting with Alice. But without explicit instructions, it's hard to tell. The initial task was to respond to the email, which was done. Now, perhaps the assistant should just confirm the response and offer further help. \n",
      "\n",
      "So, the correct action here is to inform the user that the email was sent and ask if they need anything else. Since there are no other functions needed at this point, the response is complete.\n",
      "</think>\n",
      "\n",
      "The reply email has been successfully sent to Alice. Would you like to perform any additional actions, such as checking calendar availability for a follow-up meeting or managing this conversation in memory?\n"
     ]
    }
   ],
   "source": [
    "for m in response[\"messages\"]:\n",
    "    m.pretty_print()"
   ]
  },
  {
   "cell_type": "code",
   "execution_count": 28,
   "id": "0fa417f4",
   "metadata": {},
   "outputs": [
    {
     "data": {
      "text/plain": [
       "\"Use these tools when appropriate to help manage John's tasks efficiently.\""
      ]
     },
     "execution_count": 28,
     "metadata": {},
     "output_type": "execute_result"
    }
   ],
   "source": [
    "store.get((\"lance\",), \"agent_instructions\").value[\"prompt\"]"
   ]
  },
  {
   "cell_type": "code",
   "execution_count": 29,
   "id": "c515c852",
   "metadata": {},
   "outputs": [
    {
     "data": {
      "text/plain": [
       "'Direct questions from team members, meeting requests, critical bug reports'"
      ]
     },
     "execution_count": 29,
     "metadata": {},
     "output_type": "execute_result"
    }
   ],
   "source": [
    "store.get((\"lance\",), \"triage_respond\").value[\"prompt\"]"
   ]
  },
  {
   "cell_type": "code",
   "execution_count": 30,
   "id": "d5eb6da4",
   "metadata": {},
   "outputs": [
    {
     "data": {
      "text/plain": [
       "'Marketing newsletters, spam emails, mass company announcements'"
      ]
     },
     "execution_count": 30,
     "metadata": {},
     "output_type": "execute_result"
    }
   ],
   "source": [
    "store.get((\"lance\",), \"triage_ignore\").value[\"prompt\"]"
   ]
  },
  {
   "cell_type": "code",
   "execution_count": 31,
   "id": "ecb371bc",
   "metadata": {},
   "outputs": [
    {
     "data": {
      "text/plain": [
       "'Team member out sick, build system notifications, project status updates'"
      ]
     },
     "execution_count": 31,
     "metadata": {},
     "output_type": "execute_result"
    }
   ],
   "source": [
    "store.get((\"lance\",), \"triage_notify\").value[\"prompt\"]"
   ]
  },
  {
   "cell_type": "markdown",
   "id": "82e003ac",
   "metadata": {},
   "source": [
    "#### Now, Use an LLM to update instructions.\n"
   ]
  },
  {
   "cell_type": "code",
   "execution_count": 32,
   "id": "93d6a238",
   "metadata": {},
   "outputs": [],
   "source": [
    "from langmem import create_multi_prompt_optimizer"
   ]
  },
  {
   "cell_type": "code",
   "execution_count": null,
   "id": "7afd52cd",
   "metadata": {},
   "outputs": [],
   "source": [
    "conversations = [\n",
    "    (response[\"messages\"], \"Always sign your emails `John Doe`\"),\n",
    "]"
   ]
  },
  {
   "cell_type": "code",
   "execution_count": 34,
   "id": "d5f907ac",
   "metadata": {},
   "outputs": [],
   "source": [
    "prompts = [\n",
    "    {\n",
    "        \"name\": \"main_agent\",\n",
    "        \"prompt\": store.get((\"lance\",), \"agent_instructions\").value[\"prompt\"],\n",
    "        \"update_instructions\": \"keep the instructions short and to the point\",\n",
    "        \"when_to_update\": \"Update this prompt whenever there is feedback on how the agent should write emails or schedule events\",\n",
    "    },\n",
    "    {\n",
    "        \"name\": \"triage-ignore\",\n",
    "        \"prompt\": store.get((\"lance\",), \"triage_ignore\").value[\"prompt\"],\n",
    "        \"update_instructions\": \"keep the instructions short and to the point\",\n",
    "        \"when_to_update\": \"Update this prompt whenever there is feedback on which emails should be ignored\",\n",
    "    },\n",
    "    {\n",
    "        \"name\": \"triage-notify\",\n",
    "        \"prompt\": store.get((\"lance\",), \"triage_notify\").value[\"prompt\"],\n",
    "        \"update_instructions\": \"keep the instructions short and to the point\",\n",
    "        \"when_to_update\": \"Update this prompt whenever there is feedback on which emails the user should be notified of\",\n",
    "    },\n",
    "    {\n",
    "        \"name\": \"triage-respond\",\n",
    "        \"prompt\": store.get((\"lance\",), \"triage_respond\").value[\"prompt\"],\n",
    "        \"update_instructions\": \"keep the instructions short and to the point\",\n",
    "        \"when_to_update\": \"Update this prompt whenever there is feedback on which emails should be responded to\",\n",
    "    },\n",
    "]"
   ]
  },
  {
   "cell_type": "code",
   "execution_count": 38,
   "id": "a41a71a3",
   "metadata": {},
   "outputs": [],
   "source": [
    "llm2 = ChatOpenAI(\n",
    "    model=\"gpt-4.1\",\n",
    "    base_url=\"https://models.inference.ai.azure.com/\",\n",
    "    temperature=0.5,\n",
    ")"
   ]
  },
  {
   "cell_type": "code",
   "execution_count": 39,
   "id": "40b979df",
   "metadata": {},
   "outputs": [],
   "source": [
    "optimizer = create_multi_prompt_optimizer(llm2, kind=\"prompt_memory\")"
   ]
  },
  {
   "cell_type": "code",
   "execution_count": 40,
   "id": "2e062c1c",
   "metadata": {},
   "outputs": [],
   "source": [
    "updated = optimizer.invoke(input={\"trajectories\": conversations, \"prompts\": prompts})"
   ]
  },
  {
   "cell_type": "code",
   "execution_count": 41,
   "id": "8741c888",
   "metadata": {},
   "outputs": [
    {
     "name": "stdout",
     "output_type": "stream",
     "text": [
      "[{'name': 'main_agent', 'prompt': \"Use these tools when appropriate to help manage John's tasks efficiently. Always sign emails as 'John Doe.'\", 'update_instructions': 'keep the instructions short and to the point', 'when_to_update': 'Update this prompt whenever there is feedback on how the agent should write emails or schedule events'}, {'name': 'triage-ignore', 'prompt': 'Marketing newsletters, spam emails, mass company announcements', 'update_instructions': 'keep the instructions short and to the point', 'when_to_update': 'Update this prompt whenever there is feedback on which emails should be ignored'}, {'name': 'triage-notify', 'prompt': 'Team member out sick, build system notifications, project status updates', 'update_instructions': 'keep the instructions short and to the point', 'when_to_update': 'Update this prompt whenever there is feedback on which emails the user should be notified of'}, {'name': 'triage-respond', 'prompt': 'Direct questions from team members, meeting requests, critical bug reports', 'update_instructions': 'keep the instructions short and to the point', 'when_to_update': 'Update this prompt whenever there is feedback on which emails should be responded to'}]\n"
     ]
    }
   ],
   "source": [
    "print(updated)"
   ]
  },
  {
   "cell_type": "code",
   "execution_count": 42,
   "id": "3ca409b1",
   "metadata": {},
   "outputs": [],
   "source": [
    "import json"
   ]
  },
  {
   "cell_type": "code",
   "execution_count": 43,
   "id": "a60a47ac",
   "metadata": {},
   "outputs": [
    {
     "name": "stdout",
     "output_type": "stream",
     "text": [
      "[\n",
      "    {\n",
      "        \"name\": \"main_agent\",\n",
      "        \"prompt\": \"Use these tools when appropriate to help manage John's tasks efficiently. Always sign emails as 'John Doe.'\",\n",
      "        \"update_instructions\": \"keep the instructions short and to the point\",\n",
      "        \"when_to_update\": \"Update this prompt whenever there is feedback on how the agent should write emails or schedule events\"\n",
      "    },\n",
      "    {\n",
      "        \"name\": \"triage-ignore\",\n",
      "        \"prompt\": \"Marketing newsletters, spam emails, mass company announcements\",\n",
      "        \"update_instructions\": \"keep the instructions short and to the point\",\n",
      "        \"when_to_update\": \"Update this prompt whenever there is feedback on which emails should be ignored\"\n",
      "    },\n",
      "    {\n",
      "        \"name\": \"triage-notify\",\n",
      "        \"prompt\": \"Team member out sick, build system notifications, project status updates\",\n",
      "        \"update_instructions\": \"keep the instructions short and to the point\",\n",
      "        \"when_to_update\": \"Update this prompt whenever there is feedback on which emails the user should be notified of\"\n",
      "    },\n",
      "    {\n",
      "        \"name\": \"triage-respond\",\n",
      "        \"prompt\": \"Direct questions from team members, meeting requests, critical bug reports\",\n",
      "        \"update_instructions\": \"keep the instructions short and to the point\",\n",
      "        \"when_to_update\": \"Update this prompt whenever there is feedback on which emails should be responded to\"\n",
      "    }\n",
      "]\n"
     ]
    }
   ],
   "source": [
    "# json dumps is a bit easier to read\n",
    "print(json.dumps(updated, indent=4))"
   ]
  },
  {
   "cell_type": "code",
   "execution_count": 44,
   "id": "653fb57d",
   "metadata": {},
   "outputs": [
    {
     "name": "stdout",
     "output_type": "stream",
     "text": [
      "updated main_agent\n"
     ]
    }
   ],
   "source": [
    "for idx, updated_prompt in enumerate(updated):\n",
    "    old_prompt = prompts[idx]\n",
    "\n",
    "    if updated_prompt[\"prompt\"] != old_prompt[\"prompt\"]:\n",
    "        name = old_prompt[\"name\"]\n",
    "        print(f\"updated {name}\")\n",
    "\n",
    "        if name == \"main_agent\":\n",
    "            store.put(\n",
    "                (\"lance\",), \"agent_instructions\", {\"prompt\": updated_prompt[\"prompt\"]}\n",
    "            )\n",
    "        else:\n",
    "            # raise ValueError\n",
    "            print(f\"Encountered {name}, implement the remaining stores!\")"
   ]
  },
  {
   "cell_type": "code",
   "execution_count": 45,
   "id": "f76e0f72",
   "metadata": {},
   "outputs": [
    {
     "data": {
      "text/plain": [
       "\"Use these tools when appropriate to help manage John's tasks efficiently. Always sign emails as 'John Doe.'\""
      ]
     },
     "execution_count": 45,
     "metadata": {},
     "output_type": "execute_result"
    }
   ],
   "source": [
    "store.get((\"lance\",), \"agent_instructions\").value[\"prompt\"]"
   ]
  },
  {
   "cell_type": "code",
   "execution_count": 46,
   "id": "a29ae401",
   "metadata": {},
   "outputs": [
    {
     "name": "stdout",
     "output_type": "stream",
     "text": [
      "📧 Classification: RESPOND - This email requires a response\n"
     ]
    }
   ],
   "source": [
    "response = email_agent.invoke({\"email_input\": email_input}, config=config)"
   ]
  },
  {
   "cell_type": "code",
   "execution_count": 47,
   "id": "0a88c326",
   "metadata": {},
   "outputs": [
    {
     "name": "stdout",
     "output_type": "stream",
     "text": [
      "================================\u001b[1m Human Message \u001b[0m=================================\n",
      "\n",
      "Respond to the email {'author': 'Alice Jones <alice.jones@bar.com>', 'to': 'John Doe <john.doe@company.com>', 'subject': 'Quick question about API documentation', 'email_thread': 'Hi John,\\n\\nUrgent issue - your service is down. Is there a reason why'}\n",
      "==================================\u001b[1m Ai Message \u001b[0m==================================\n",
      "Tool Calls:\n",
      "  write_email (336598889)\n",
      " Call ID: 336598889\n",
      "  Args:\n",
      "    to: alice.jones@bar.com\n",
      "    subject: Re: Quick question about API documentation\n",
      "    content: Hi Alice,\n",
      "\n",
      "Thank you for your message. I'm sorry to hear about the service issue - could you please clarify if this is related to the API documentation or another component? For urgent matters, I recommend contacting our support team directly at support@company.com.\n",
      "\n",
      "Best regards,\n",
      "John Doe\n",
      "=================================\u001b[1m Tool Message \u001b[0m=================================\n",
      "Name: write_email\n",
      "\n",
      "Email sent to alice.jones@bar.com with subject 'Re: Quick question about API documentation'\n",
      "==================================\u001b[1m Ai Message \u001b[0m==================================\n",
      "Tool Calls:\n",
      "  write_email (694321501)\n",
      " Call ID: 694321501\n",
      "  Args:\n",
      "    to: alice.jones@bar.com\n",
      "    subject: Re: Quick question about API documentation\n",
      "    content: Hi Alice,\n",
      "\n",
      "Thank you for your message. I'm sorry to hear about the service issue - could you please clarify if this is related to the API documentation or another component? For urgent matters, I recommend contacting our support team directly at support@company.com.\n",
      "\n",
      "Best regards,\n",
      "John Doe\n",
      "=================================\u001b[1m Tool Message \u001b[0m=================================\n",
      "Name: write_email\n",
      "\n",
      "Email sent to alice.jones@bar.com with subject 'Re: Quick question about API documentation'\n",
      "==================================\u001b[1m Ai Message \u001b[0m==================================\n",
      "\n",
      "<think>\n",
      "Okay, let's see. The user is John Doe's executive assistant. The task is to handle the email from Alice Jones regarding the API documentation issue.\n",
      "\n",
      "First, I need to respond to her email. The original email was urgent, mentioning that the service is down. In the previous step, I already sent a reply asking for clarification on whether the issue is with the API documentation or another component. Now, the user (assistant) has received a tool response confirming the email was sent. \n",
      "\n",
      "But wait, the user's latest input is just the tool response again. Maybe there's a need to check if there's any further action required. Since the user hasn't provided a new query, perhaps I should confirm that the response was successful and see if there's anything else needed. Alternatively, maybe the user expects a follow-up action, like checking the calendar for a meeting or scheduling something else. \n",
      "\n",
      "But looking back at the history, the initial request was to respond to Alice's email. The assistant did that, and the tool response indicates it was sent. Now, perhaps the user is testing if the system continues to handle other tasks or if there's an implicit need for further steps. Since the user hasn't asked a new question, maybe the correct approach is to acknowledge the successful sending of the email and offer further assistance. \n",
      "\n",
      "Alternatively, maybe the user wants to proceed with scheduling a meeting related to this issue. But there's no mention of that in the current query. The main task was just to respond to the email. Since the tool response confirms the email was sent, the next step is to inform the user that the reply was successfully sent and ask if there's anything else they need help with. \n",
      "\n",
      "So, the appropriate response would be a confirmation message stating that the email was sent and offering further assistance. No additional tool calls are needed unless there's another action required, which isn't indicated here.\n",
      "</think>\n",
      "\n",
      "The email has been successfully replied to Alice Jones. Let me know if you need to follow up or schedule any meetings related to this matter!\n"
     ]
    }
   ],
   "source": [
    "for m in response[\"messages\"]:\n",
    "    m.pretty_print()"
   ]
  },
  {
   "cell_type": "code",
   "execution_count": 48,
   "id": "6ce70680",
   "metadata": {},
   "outputs": [],
   "source": [
    "email_input = {\n",
    "    \"author\": \"Alice Jones <alice.jones@bar.com>\",\n",
    "    \"to\": \"John Doe <john.doe@company.com>\",\n",
    "    \"subject\": \"Quick question about API documentation\",\n",
    "    \"email_thread\": \"\"\"Hi John,\n",
    "\n",
    "Urgent issue - your service is down. Is there a reason why\"\"\",\n",
    "}"
   ]
  },
  {
   "cell_type": "code",
   "execution_count": 49,
   "id": "d968f405",
   "metadata": {},
   "outputs": [
    {
     "name": "stdout",
     "output_type": "stream",
     "text": [
      "📧 Classification: RESPOND - This email requires a response\n"
     ]
    }
   ],
   "source": [
    "response = email_agent.invoke({\"email_input\": email_input}, config=config)"
   ]
  },
  {
   "cell_type": "code",
   "execution_count": null,
   "id": "8c7ed3dc",
   "metadata": {},
   "outputs": [],
   "source": [
    "conversations = [\n",
    "    (response[\"messages\"], \"Ignore any emails from Alice Jones\"),\n",
    "]"
   ]
  },
  {
   "cell_type": "code",
   "execution_count": 52,
   "id": "ea54c433",
   "metadata": {},
   "outputs": [],
   "source": [
    "prompts = [\n",
    "    {\n",
    "        \"name\": \"main_agent\",\n",
    "        \"prompt\": store.get((\"lance\",), \"agent_instructions\").value[\"prompt\"],\n",
    "        \"update_instructions\": \"keep the instructions short and to the point\",\n",
    "        \"when_to_update\": \"Update this prompt whenever there is feedback on how the agent should write emails or schedule events\",\n",
    "    },\n",
    "    {\n",
    "        \"name\": \"triage-ignore\",\n",
    "        \"prompt\": store.get((\"lance\",), \"triage_ignore\").value[\"prompt\"],\n",
    "        \"update_instructions\": \"keep the instructions short and to the point\",\n",
    "        \"when_to_update\": \"Update this prompt whenever there is feedback on which emails should be ignored\",\n",
    "    },\n",
    "    {\n",
    "        \"name\": \"triage-notify\",\n",
    "        \"prompt\": store.get((\"lance\",), \"triage_notify\").value[\"prompt\"],\n",
    "        \"update_instructions\": \"keep the instructions short and to the point\",\n",
    "        \"when_to_update\": \"Update this prompt whenever there is feedback on which emails the user should be notified of\",\n",
    "    },\n",
    "    {\n",
    "        \"name\": \"triage-respond\",\n",
    "        \"prompt\": store.get((\"lance\",), \"triage_respond\").value[\"prompt\"],\n",
    "        \"update_instructions\": \"keep the instructions short and to the point\",\n",
    "        \"when_to_update\": \"Update this prompt whenever there is feedback on which emails should be responded to\",\n",
    "    },\n",
    "]"
   ]
  },
  {
   "cell_type": "code",
   "execution_count": 53,
   "id": "8d94d2ac",
   "metadata": {},
   "outputs": [],
   "source": [
    "updated = optimizer.invoke({\"trajectories\": conversations, \"prompts\": prompts})"
   ]
  },
  {
   "cell_type": "code",
   "execution_count": 54,
   "id": "91f978e5",
   "metadata": {},
   "outputs": [
    {
     "name": "stdout",
     "output_type": "stream",
     "text": [
      "updated triage-ignore\n"
     ]
    }
   ],
   "source": [
    "for idx, updated_prompt in enumerate(updated):\n",
    "    old_prompt = prompts[idx]\n",
    "    if updated_prompt[\"prompt\"] != old_prompt[\"prompt\"]:\n",
    "        name = old_prompt[\"name\"]\n",
    "        print(f\"updated {name}\")\n",
    "        if name == \"main_agent\":\n",
    "            store.put(\n",
    "                (\"lance\",), \"agent_instructions\", {\"prompt\": updated_prompt[\"prompt\"]}\n",
    "            )\n",
    "        elif name == \"triage-ignore\":\n",
    "            store.put((\"lance\",), \"triage_ignore\", {\"prompt\": updated_prompt[\"prompt\"]})\n",
    "        else:\n",
    "            # raise ValueError\n",
    "            print(f\"Encountered {name}, implement the remaining stores!\")"
   ]
  },
  {
   "cell_type": "code",
   "execution_count": 55,
   "id": "97297e3c",
   "metadata": {},
   "outputs": [
    {
     "name": "stderr",
     "output_type": "stream",
     "text": [
      "Task triage_router with path ('__pregel_pull', 'triage_router') wrote to unknown channel branch:to:__end__, ignoring it.\n"
     ]
    },
    {
     "name": "stdout",
     "output_type": "stream",
     "text": [
      "🚫 Classification: IGNORE - This email can be safely ignored\n"
     ]
    }
   ],
   "source": [
    "response = email_agent.invoke({\"email_input\": email_input}, config=config)"
   ]
  },
  {
   "cell_type": "code",
   "execution_count": 56,
   "id": "ee3df206",
   "metadata": {},
   "outputs": [
    {
     "data": {
      "text/plain": [
       "'Marketing newsletters, spam emails, mass company announcements. Ignore any emails from Alice Jones.'"
      ]
     },
     "execution_count": 56,
     "metadata": {},
     "output_type": "execute_result"
    }
   ],
   "source": [
    "store.get((\"lance\",), \"triage_ignore\").value[\"prompt\"]"
   ]
  },
  {
   "cell_type": "code",
   "execution_count": null,
   "id": "7a56f387",
   "metadata": {},
   "outputs": [],
   "source": []
  }
 ],
 "metadata": {
  "kernelspec": {
   "display_name": ".venv (3.12.3)",
   "language": "python",
   "name": "python3"
  },
  "language_info": {
   "codemirror_mode": {
    "name": "ipython",
    "version": 3
   },
   "file_extension": ".py",
   "mimetype": "text/x-python",
   "name": "python",
   "nbconvert_exporter": "python",
   "pygments_lexer": "ipython3",
   "version": "3.12.3"
  }
 },
 "nbformat": 4,
 "nbformat_minor": 5
}
